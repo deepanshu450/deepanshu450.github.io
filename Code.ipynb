{
  "nbformat": 4,
  "nbformat_minor": 0,
  "metadata": {
    "colab": {
      "name": "Code.ipynb",
      "provenance": [],
      "collapsed_sections": [
        "LOZc545bvpm_",
        "PDhyxeqluZn0",
        "jYg0pMzTaoxH",
        "HBiKmutxaCpK",
        "05wyWQ9lya_m",
        "SAJq9s2NaMN5",
        "MAwrhmVzaxEz",
        "iHi8L2ONcIp6",
        "MpyzLFKDDiUW",
        "TFXoAHt2Jxqf",
        "QeRL1-BngmGm",
        "ls1wMSF1Lzto",
        "iMOaEmCnaKBC",
        "_ZaquvUMaRZ7",
        "rRjqiV_IvI0i",
        "D40ErYYkvrzL",
        "CyNzb-JPSGyI",
        "IcGEeZG79i9g",
        "hGqT1tZ_E2yx",
        "xY18Y2g5Ehc1",
        "tG1AUmKSEZOR",
        "dZp8QmxaXjgS",
        "i972nm4VDswC"
      ],
      "toc_visible": true
    },
    "kernelspec": {
      "display_name": "Python 3.9.2 64-bit",
      "name": "python392jvsc74a57bd0ac59ebe37160ed0dfa835113d9b8498d9f09ceb179beaac4002f036b9467c963"
    },
    "metadata": {
      "interpreter": {
        "hash": "ac59ebe37160ed0dfa835113d9b8498d9f09ceb179beaac4002f036b9467c963"
      }
    }
  },
  "cells": [
    {
      "cell_type": "markdown",
      "metadata": {
        "id": "LOZc545bvpm_"
      },
      "source": [
        "# **Predicting Winner of Indian Premier League (IPL) Matches Using Machine Learning**\n",
        "\n",
        "---\n",
        "\n"
      ]
    },
    {
      "cell_type": "markdown",
      "metadata": {
        "id": "KP74_K9AvX7N"
      },
      "source": [
        "Prediction of the outcome (winner) of the match\n",
        "using features like home-ground advantage, team-points, powerplay\n",
        "performance, and strength of the team players based upon\n",
        "the past performance in addition to the basic features before the\n",
        "match begins.\n",
        "\n"
      ]
    },
    {
      "cell_type": "markdown",
      "metadata": {
        "id": "WqXeXJ3uwblP"
      },
      "source": [
        "\n",
        "**Team members:**\n",
        "\n",
        "*   AU1841029 Kalki Bhavsar \n",
        "*   AU1841130 Harsh Mange \n",
        "*   AU1841138 Vardhan Shah \n",
        "*   AU1841139 Khushi Shah \n",
        "\n",
        "**Faculty:** Mehul Raval\n",
        "\n",
        "**Teaching Assistant:** Jay Patel , Arpit Patel"
      ]
    },
    {
      "cell_type": "markdown",
      "metadata": {
        "id": "PDhyxeqluZn0"
      },
      "source": [
        "# **PART 1: Getting and Cleaning the dataset**\n",
        "---"
      ]
    },
    {
      "cell_type": "markdown",
      "metadata": {
        "id": "jYg0pMzTaoxH"
      },
      "source": [
        "### **Import all the dependent libraries**"
      ]
    },
    {
      "cell_type": "markdown",
      "metadata": {
        "id": "KWRiO9plyOBm"
      },
      "source": [
        "Before starting the implemented, first we import all the dependent libraries required further in the code.\n",
        "\n",
        "Also, global variables like data-set filename and folder is declared here."
      ]
    },
    {
      "cell_type": "code",
      "metadata": {
        "colab": {
          "base_uri": "https://localhost:8080/"
        },
        "id": "OUZTs_7zUu3Y",
        "outputId": "d38169cd-9165-4620-a45b-2698baa4b1f4"
      },
      "source": [
        "import urllib.request\n",
        "import os\n",
        "import pandas as pd \n",
        "\n",
        "from bs4 import BeautifulSoup\n",
        "import requests\n",
        "import csv\n",
        "\n",
        "from IPython.display import display, HTML \n",
        "import numpy as np\n",
        "\n",
        "from sklearn.linear_model import LinearRegression\n",
        "from sklearn.linear_model import LogisticRegression\n",
        "from sklearn.tree import DecisionTreeClassifier\n",
        "from sklearn.svm import SVC\n",
        "from sklearn.ensemble import RandomForestClassifier\n",
        "from sklearn.model_selection import train_test_split\n",
        "from sklearn import preprocessing\n",
        "from sklearn.metrics import confusion_matrix\n",
        "\n",
        "filename=\"IPLdataset\"\n",
        "dataset_filename=filename+\".csv\"\n",
        "newfolder=\"IPL_points\"\n",
        "\n",
        "print(\"All the library imports and variable declaration done successfully...\")"
      ],
      "execution_count": null,
      "outputs": [
        {
          "output_type": "stream",
          "text": [
            "All the library imports and variable declaration done successfully...\n"
          ],
          "name": "stdout"
        }
      ]
    },
    {
      "cell_type": "markdown",
      "metadata": {
        "id": "HBiKmutxaCpK"
      },
      "source": [
        "---\n",
        "## **Step 1 — Downloading the dataset!**\n",
        "---\n",
        "\n"
      ]
    },
    {
      "cell_type": "markdown",
      "metadata": {
        "id": "05wyWQ9lya_m"
      },
      "source": [
        "### **Get the dataset csv file**"
      ]
    },
    {
      "cell_type": "markdown",
      "metadata": {
        "id": "iDmuzO4WxQ8G"
      },
      "source": [
        "The data is the key to solve this problem. The data of following\n",
        "features id, season, city, date, team1, team2, toss winner,\n",
        "toss decision, result (normal or tie), DL applied, winner,\n",
        "win by runs, win by wickets player of match, venue,\n",
        "home ground advantage, umpire1, umpire2, umpire3,\n",
        "powerplay runs team1, powerplay wickets team1,\n",
        "powerplay runs team2, powerplay wickets team2,\n",
        "pitch type, form of player, etc. was downloaded from [here](https://github.com/siddhu21/IPL-Match-Prediction-ML-/raw/main/IPL_2020.xlsx). The following code downloads the xlsx file (the dataset) with filename as **\"IPLdataset\"**, saves it in the current folder, converts it to csv and deleted the xslx file."
      ]
    },
    {
      "cell_type": "code",
      "metadata": {
        "colab": {
          "base_uri": "https://localhost:8080/"
        },
        "id": "5Hdg83rSisQc",
        "outputId": "17ca135e-cfdb-4195-fda7-4e8c50b25532"
      },
      "source": [
        "dataset_filename_excel=filename+\".xlsx\"\n",
        "\n",
        "url = 'https://github.com/siddhu21/IPL-Match-Prediction-ML-/raw/main/IPL_2020.xlsx'\n",
        "urllib.request.urlretrieve(url, filename=dataset_filename_excel)\n",
        "\n",
        "# Read and store content of an excel file \n",
        "read_file = pd.read_excel (dataset_filename_excel)\n",
        "  \n",
        "# Write the dataframe object into csv file\n",
        "read_file.to_csv (dataset_filename, index = None, header=True)\n",
        "os.remove(dataset_filename_excel)  \n",
        "\n",
        "print(\"Dataset file downloaded successfully ...\")"
      ],
      "execution_count": null,
      "outputs": [
        {
          "output_type": "stream",
          "text": [
            "Dataset file downloaded successfully ...\n"
          ],
          "name": "stdout"
        }
      ]
    },
    {
      "cell_type": "markdown",
      "metadata": {
        "id": "4gNZwQ-y2ukD"
      },
      "source": [
        "### **Scrape the data of IPL points season-wise and team-wise**"
      ]
    },
    {
      "cell_type": "markdown",
      "metadata": {
        "id": "GH6KFkkyy7pf"
      },
      "source": [
        "Two additional column named \"team1_points\" and \"team2_points\" for each match are going to be added. The data required to fill into these two columns was scraped from the official [IPL website](https://www.iplt20.com/). The below code works as follows:\n",
        "\n",
        "\n",
        "*   Create a folder named \"IPL_points\" in the current directory if it does not exists\n",
        "*   Manually checked the source code of the [url](\"https://www.iplt20.com/stats/\") for all seasons 2008-2020 and found the list of playing teams\n",
        "*   Hard-coded the dictionary \"teams\" with keys as seasons and values as list of playing teams' name. \n",
        "*   For all the seasons 2008 to 2020, extracted the list of playing teams from dictionary \"teams\"\n",
        "    1.   Using beautiful soup library, scraped the data under class-name found manually\n",
        "    2.   Saved the scraped data into list named \"columns\"\n",
        "    3.   Write the list \"column\" into the new file named \"\\<season\\>\\_IPL\\_points\\_\\<team-name\\>\" saved in the folder \"IPL_points\"\n",
        "\n",
        "\n",
        "\n"
      ]
    },
    {
      "cell_type": "code",
      "metadata": {
        "colab": {
          "base_uri": "https://localhost:8080/"
        },
        "id": "XUgEw4pBgmGf",
        "outputId": "ddc223fd-1e6c-498b-9681-f66abacde72b"
      },
      "source": [
        "cwd = os.getcwd()\n",
        "if not os.path.exists(newfolder): os.makedirs(newfolder)\n",
        "\n",
        "teams={\n",
        "    2008: ['CSK', 'DEC', 'DC', 'KKR', 'MI', 'PBKS', 'RR', 'RCB'],\n",
        "    2009: ['CSK', 'DEC', 'DC', 'KKR', 'MI', 'PBKS', 'RR', 'RCB'],\n",
        "    2010: ['CSK', 'DEC', 'DC', 'KKR', 'MI', 'PBKS', 'RR', 'RCB'],\n",
        "    2011: ['CSK', 'DEC', 'DC', 'KTK', 'KKR', 'MI', 'PWI', 'PBKS', 'RR', 'RCB'],\n",
        "    2012: ['CSK', 'DEC', 'DC', 'KXIP', 'KKR', 'MI', 'PWI', 'RR', 'RCB'],\n",
        "    2013: ['CSK', 'DC', 'KKR', 'MI', 'PWI', 'PBKS', 'RR', 'RCB', 'SRH'],\n",
        "    2014: ['CSK', 'DC', 'KKR', 'MI', 'PBKS', 'RR', 'RCB', 'SRH'],\n",
        "    2015: ['CSK', 'DC', 'KKR', 'MI', 'PBKS', 'RR', 'RCB', 'SRH'],\n",
        "    2016: ['DC', 'GL', 'KKR', 'MI', 'PBKS', 'RPS', 'RCB', 'SRH'],\n",
        "    2017: ['DC', 'GL', 'KKR', 'MI', 'PBKS', 'RPS', 'RCB', 'SRH'],\n",
        "    2018: ['CSK', 'DC', 'KKR', 'MI', 'PBKS', 'RR', 'RCB', 'SRH'],\n",
        "    2019: ['CSK', 'DC', 'KKR', 'MI', 'PBKS', 'RR', 'RCB', 'SRH'],\n",
        "    2020: ['CSK', 'DC', 'KKR', 'MI', 'PBKS', 'RR', 'RCB', 'SRH']\n",
        "}\n",
        "\n",
        "for year in range(2008, 2021):\n",
        "        \n",
        "    # URL of the ESPN web-page that you want to scrap\n",
        "    url = \"https://www.iplt20.com/stats/\"+str(year)+\"/player-points\"\n",
        "    html_content = requests.get(url).text\n",
        "    # print(html_content)\n",
        "    soup = BeautifulSoup(html_content, 'html.parser')\n",
        "\n",
        "    data = {}\n",
        "\n",
        "    stats_table = soup.find(\"table\", attrs={\"class\": \"table table--scroll-on-tablet top-players\"})\n",
        "    # stats_table_columns = stats_table.thead.find_all(\"tr\")\n",
        "    team_names = teams[year]\n",
        "    columns = ['POS', 'PLAYER', 'Pts', 'Mat', 'Wkts',\n",
        "            'Dots', '4s', '6s', 'Catches', 'Stumpings']\n",
        "    # for tr in stats_table_columns:\n",
        "    #     for th in tr.find_all(\"th\"):\n",
        "    #         columns.append(th.text.replace('\\n', ' ').strip())\n",
        "\n",
        "    # print(\"columns\",columns)\n",
        "    for name in team_names:\n",
        "        table_data = []\n",
        "        for tr in stats_table.find_all(\"tr\", {'class': ['js-row '+name+' is-odd', 'js-row '+name]}):\n",
        "            t_row = {}\n",
        "\n",
        "            for td, th in zip(tr.find_all(\"td\"), columns):\n",
        "                if(td.index == 1):\n",
        "                    name = td.find_all(\"div\", {'class': 'top-players__player-info'}).find_all(\n",
        "                        \"div\", {'class': 'top-players__player-name'}).find_all(\"a\")\n",
        "                    t_row[th] = name.text.replace('\\n', '').strip()\n",
        "                else:\n",
        "                    t_row[th] = td.text.replace('\\n', '').strip()\n",
        "\n",
        "            table_data.append(t_row)\n",
        "        # print(\"table_data\", table_data)\n",
        "\n",
        "        \n",
        "    # Exporting...\n",
        "    # Name of the file that you want to export in CSV\n",
        "        if name=='DEC':\n",
        "            teamname='SRH'\n",
        "        else:        \n",
        "            teamname=name\n",
        "\n",
        "        filename=cwd+\"/IPL_points/\"+str(year)+\"_IPL_points_\"+teamname+\".csv\"\n",
        "        # print(\"Writing file \", filename)\n",
        "        with open(filename, 'w+') as out_file:\n",
        "            writer = csv.DictWriter(out_file, columns)\n",
        "\n",
        "            writer.writeheader()\n",
        "            for row in table_data:\n",
        "                if row:\n",
        "                    writer.writerow(row)\n",
        "\n",
        "print('Data files of IPL points of all the teams season-wise are downloaded successfully in the folder \"IPL_teams\"...')"
      ],
      "execution_count": null,
      "outputs": [
        {
          "output_type": "stream",
          "text": [
            "Data files of IPL points of all the teams season-wise are downloaded successfully in the folder \"IPL_teams\"...\n"
          ],
          "name": "stdout"
        }
      ]
    },
    {
      "cell_type": "markdown",
      "metadata": {
        "id": "SAJq9s2NaMN5"
      },
      "source": [
        "---\n",
        "## **Step 2 — Getting the dataset into the playground**\n",
        "---\n",
        "\n"
      ]
    },
    {
      "cell_type": "markdown",
      "metadata": {
        "id": "MAwrhmVzaxEz"
      },
      "source": [
        "### **Reading the data-set**"
      ]
    },
    {
      "cell_type": "markdown",
      "metadata": {
        "id": "ChxZsTKU4jND"
      },
      "source": [
        "We use **.read_csv()** to read the CSV file. The path in the .read_csv() function can be relative or absolute. Here, our dataset file is downloaded in the same folder where this notebook is stored. Hence, we just give the filename what we previous used to download the dataset-file. \n",
        "\n",
        "That filename is stored in the variable **\"dataset_filename\"**"
      ]
    },
    {
      "cell_type": "code",
      "metadata": {
        "colab": {
          "base_uri": "https://localhost:8080/"
        },
        "id": "fXaX_hVsY6nS",
        "outputId": "8e10b1ee-8ce9-4cdd-cb89-54dbb434e160"
      },
      "source": [
        "# Importing the dataset\n",
        "df=pd.read_csv(dataset_filename)  # dataframe of the da\n",
        "# display(df.head())\n",
        "print(\"Dataset read and is exported to dataframed named 'df'...\")"
      ],
      "execution_count": null,
      "outputs": [
        {
          "output_type": "stream",
          "text": [
            "Dataset read and is exported to dataframed named 'df'...\n"
          ],
          "name": "stdout"
        }
      ]
    },
    {
      "cell_type": "markdown",
      "metadata": {
        "id": "iHi8L2ONcIp6"
      },
      "source": [
        "---\n",
        "##**Step 3 - Cleaning the data-set!**\n",
        "---"
      ]
    },
    {
      "cell_type": "markdown",
      "metadata": {
        "id": "MpyzLFKDDiUW"
      },
      "source": [
        "### **Dealing with null values**"
      ]
    },
    {
      "cell_type": "markdown",
      "metadata": {
        "id": "ureev8J9bVTy"
      },
      "source": [
        "#### **Check for Null Values**"
      ]
    },
    {
      "cell_type": "markdown",
      "metadata": {
        "id": "AwrSdJm45Pw9"
      },
      "source": [
        "The data that we have, may contain null values in several columns.\n",
        "\n",
        "First, we print the name of columns that has null values along with number of rows with null values."
      ]
    },
    {
      "cell_type": "code",
      "metadata": {
        "colab": {
          "base_uri": "https://localhost:8080/"
        },
        "id": "TFfrRnZiZ0ha",
        "outputId": "612fd89a-9519-4e01-920f-f55067aa218e"
      },
      "source": [
        "# Check for Null Values\n",
        "print(\"\\tOhh no! We spotted some null values... \\n\")\n",
        "column_no=0\n",
        "columns_with_nullval=[]\n",
        "for column in df:  \n",
        "  total_null_values = int(str(df.iloc[:, column_no].isnull().sum()))\n",
        "  if total_null_values > 0:\n",
        "    print( \"Total null values = \", total_null_values, \" \\tfor column-name: \", column)\n",
        "  column_no += 1"
      ],
      "execution_count": null,
      "outputs": [
        {
          "output_type": "stream",
          "text": [
            "\tOhh no! We spotted some null values... \n",
            "\n",
            "Total null values =  7  \tfor column-name:  city\n",
            "Total null values =  62  \tfor column-name:  umpire1\n",
            "Total null values =  62  \tfor column-name:  umpire2\n",
            "Total null values =  694  \tfor column-name:  umpire3\n"
          ],
          "name": "stdout"
        }
      ]
    },
    {
      "cell_type": "markdown",
      "metadata": {
        "id": "zi60XsFoffV5"
      },
      "source": [
        " **Output:**\n",
        "\n",
        "Total null values =  7    \tfor column-name:  city\n",
        "\n",
        "Total null values =  62   \tfor column-name:  umpire1\n",
        "\n",
        "Total null values =  62   \tfor column-name:  umpire2\n",
        "\n",
        "Total null values =  694  \tfor column-name:  umpire3\n",
        "\n",
        "**Inference:**\n",
        "\n",
        "=> Find some way to insert values in the column city where value is null\n",
        "\n",
        "=> Drop the feature umpire1, umpire2, and umpire3 since there are lots of null values. \n"
      ]
    },
    {
      "cell_type": "markdown",
      "metadata": {
        "id": "zdLGttf05gaP"
      },
      "source": [
        "#### **Remove the columns with more Null Values**"
      ]
    },
    {
      "cell_type": "code",
      "metadata": {
        "colab": {
          "base_uri": "https://localhost:8080/"
        },
        "id": "P396tfozgLox",
        "outputId": "b2b12f27-fa87-4a9c-d475-21d569624ca3"
      },
      "source": [
        "print(\"\\nRemoving 'umpire1', 'umpire2', 'umpire3' columns with full of null values...\")\n",
        "# Dropping the columns 'umpire1', 'umpire2', and 'umpire3'\n",
        "df=df.drop(['umpire1', 'umpire2', 'umpire3'], axis=1)\n",
        "# display(df.head())\n",
        "print(\"3 columns 'umpire1', 'umpire2', 'umpire3' removed successfully...\")"
      ],
      "execution_count": null,
      "outputs": [
        {
          "output_type": "stream",
          "text": [
            "\n",
            "Removing 'umpire1', 'umpire2', 'umpire3' columns with full of null values...\n",
            "3 columns 'umpire1', 'umpire2', 'umpire3' removed successfully...\n"
          ],
          "name": "stdout"
        }
      ]
    },
    {
      "cell_type": "markdown",
      "metadata": {
        "id": "Rz1gGrl3gp6I"
      },
      "source": [
        "#### **Filling the null values in column city**"
      ]
    },
    {
      "cell_type": "markdown",
      "metadata": {
        "id": "c5JXiznc7LJQ"
      },
      "source": [
        "Using Imputation method to fill the null values in **city** column.\n",
        "\n",
        "Imputation is a way to fill the missing values statistically. "
      ]
    },
    {
      "cell_type": "code",
      "metadata": {
        "colab": {
          "base_uri": "https://localhost:8080/"
        },
        "id": "V_cnti31iBQQ",
        "outputId": "d93ad2be-195d-43d3-ba90-ea9a6fa79589"
      },
      "source": [
        "# getting series True for NaN values\n",
        "rowidx = pd.isnull(df[\"city\"])\n",
        " \n",
        "# filtering data where city is NaN or null or empty\n",
        "df[rowidx][['venue', 'city']] "
      ],
      "execution_count": null,
      "outputs": [
        {
          "output_type": "execute_result",
          "data": {
            "text/html": [
              "<div>\n",
              "<style scoped>\n",
              "    .dataframe tbody tr th:only-of-type {\n",
              "        vertical-align: middle;\n",
              "    }\n",
              "\n",
              "    .dataframe tbody tr th {\n",
              "        vertical-align: top;\n",
              "    }\n",
              "\n",
              "    .dataframe thead th {\n",
              "        text-align: right;\n",
              "    }\n",
              "</style>\n",
              "<table border=\"1\" class=\"dataframe\">\n",
              "  <thead>\n",
              "    <tr style=\"text-align: right;\">\n",
              "      <th></th>\n",
              "      <th>venue</th>\n",
              "      <th>city</th>\n",
              "    </tr>\n",
              "  </thead>\n",
              "  <tbody>\n",
              "    <tr>\n",
              "      <th>460</th>\n",
              "      <td>Dubai International Cricket Stadium</td>\n",
              "      <td>NaN</td>\n",
              "    </tr>\n",
              "    <tr>\n",
              "      <th>461</th>\n",
              "      <td>Dubai International Cricket Stadium</td>\n",
              "      <td>NaN</td>\n",
              "    </tr>\n",
              "    <tr>\n",
              "      <th>465</th>\n",
              "      <td>Dubai International Cricket Stadium</td>\n",
              "      <td>NaN</td>\n",
              "    </tr>\n",
              "    <tr>\n",
              "      <th>467</th>\n",
              "      <td>Dubai International Cricket Stadium</td>\n",
              "      <td>NaN</td>\n",
              "    </tr>\n",
              "    <tr>\n",
              "      <th>468</th>\n",
              "      <td>Dubai International Cricket Stadium</td>\n",
              "      <td>NaN</td>\n",
              "    </tr>\n",
              "    <tr>\n",
              "      <th>473</th>\n",
              "      <td>Dubai International Cricket Stadium</td>\n",
              "      <td>NaN</td>\n",
              "    </tr>\n",
              "    <tr>\n",
              "      <th>475</th>\n",
              "      <td>Dubai International Cricket Stadium</td>\n",
              "      <td>NaN</td>\n",
              "    </tr>\n",
              "  </tbody>\n",
              "</table>\n",
              "</div>"
            ],
            "text/plain": [
              "                                   venue city\n",
              "460  Dubai International Cricket Stadium  NaN\n",
              "461  Dubai International Cricket Stadium  NaN\n",
              "465  Dubai International Cricket Stadium  NaN\n",
              "467  Dubai International Cricket Stadium  NaN\n",
              "468  Dubai International Cricket Stadium  NaN\n",
              "473  Dubai International Cricket Stadium  NaN\n",
              "475  Dubai International Cricket Stadium  NaN"
            ]
          },
          "metadata": {
            "tags": []
          },
          "execution_count": 10
        }
      ]
    },
    {
      "cell_type": "code",
      "metadata": {
        "id": "Wo7wVMVRWIhv"
      },
      "source": [
        "# replacing the null values with \"Dubai\" \n",
        "# since all the stadium values with null venues\n",
        "# is \"Dubai International Cricket Stadium\"\n",
        "df.loc[rowidx,'city'] = \"Dubai\""
      ],
      "execution_count": null,
      "outputs": []
    },
    {
      "cell_type": "markdown",
      "metadata": {
        "id": "M1S1eFDxD6jJ"
      },
      "source": [
        "### **Generalizing naming conventions**"
      ]
    },
    {
      "cell_type": "markdown",
      "metadata": {
        "id": "JiCPtM9o7-gx"
      },
      "source": [
        "#### **Renaming the team names**\n",
        " "
      ]
    },
    {
      "cell_type": "markdown",
      "metadata": {
        "id": "jzheCgESEpnj"
      },
      "source": [
        "First, let's see all the team names in alphabetical order!"
      ]
    },
    {
      "cell_type": "code",
      "metadata": {
        "colab": {
          "base_uri": "https://localhost:8080/"
        },
        "id": "VTRlmD807923",
        "outputId": "cb5fd89c-6673-4cdf-9bad-df96bfa0b754"
      },
      "source": [
        "IPL_teams=list(set(df['team1']).union(set(df['team2'])))\n",
        "IPL_teams.sort()\n",
        "print(\"IPL TEAMS\")\n",
        "for team_name in IPL_teams:\n",
        "  print(team_name)"
      ],
      "execution_count": null,
      "outputs": [
        {
          "output_type": "stream",
          "text": [
            "IPL TEAMS\n",
            "Chennai Super Kings\n",
            "Deccan Chargers\n",
            "Delhi Capitals\n",
            "Delhi Daredevils\n",
            "Gujarat Lions\n",
            "Kings XI Punjab\n",
            "Kochi Tuskers Kerala\n",
            "Kolkata Knight Riders\n",
            "Mumbai Indians\n",
            "Pune Warriors\n",
            "Rajasthan Royals\n",
            "Rising Pune Supergiant\n",
            "Royal Challengers Bangalore\n",
            "Sunrisers Hyderabad\n"
          ],
          "name": "stdout"
        }
      ]
    },
    {
      "cell_type": "markdown",
      "metadata": {
        "id": "1c1pppeTEv8F"
      },
      "source": [
        "From few courses we found that:\n",
        "\n",
        "*   Deccan Chargers (DEC) was renamed to Sunrisers Hyderabad (SRH) in 2012 [[1]](https://en.wikipedia.org/wiki/Deccan_Chargers).\n",
        "*  Delhi Daredevils (DD) was renamed to Delhi Capitals (DC)  [[2]](https://en.wikipedia.org/wiki/Delhi_Capitals)\n",
        "*  Kings XI Punjab was renamed to Punjab Kings (but still KXIP) in 2021\n",
        "[[3]]( https://en.wikipedia.org/wiki/Punjab_Kings)."
      ]
    },
    {
      "cell_type": "code",
      "metadata": {
        "colab": {
          "base_uri": "https://localhost:8080/"
        },
        "id": "uGt0PdV5BVOF",
        "outputId": "57482e19-96e8-481a-b4eb-97f5b2f699c7"
      },
      "source": [
        "# Replacing all the team names with its abbrevations \n",
        "# to reduce space occupied by unwanted lengthy team names\n",
        "df.replace(\"Chennai Super Kings\", \"CSK\", inplace=True)\n",
        "df.replace(\"Deccan Chargers\", \"SRH\", inplace=True)\n",
        "df.replace(\"Delhi Capitals\", \"DC\", inplace=True)\n",
        "df.replace(\"Delhi Daredevils\", \"DC\", inplace=True)\n",
        "df.replace(\"Gujarat Lions\", \"GL\", inplace=True)\n",
        "df.replace(\"Kings XI Punjab\", \"PBKS\", inplace=True)\n",
        "df.replace(\"Kochi Tuskers Kerala\", \"KTK\", inplace=True)\n",
        "df.replace(\"Kolkata Knight Riders\", \"KKR\", inplace=True)\n",
        "df.replace(\"Mumbai Indians\", \"MI\", inplace=True)\n",
        "df.replace(\"Pune Warriors\", \"PWI\", inplace=True)\n",
        "df.replace(\"Rajasthan Royals\", \"RR\", inplace=True)\n",
        "df.replace(\"Rising Pune Supergiant\", \"RPS\", inplace=True)\n",
        "df.replace(\"Royal Challengers Bangalore\", \"RCB\", inplace=True)\n",
        "df.replace(\"Sunrisers Hyderabad\", \"SRH\", inplace=True)\n",
        "# display(df.head())\n",
        "print(\"All the team names were replaced with its abbrevations successfully...\")"
      ],
      "execution_count": null,
      "outputs": [
        {
          "output_type": "stream",
          "text": [
            "All the team names were replaced with its abbrevations successfully...\n"
          ],
          "name": "stdout"
        }
      ]
    },
    {
      "cell_type": "markdown",
      "metadata": {
        "id": "h2ApDUEpFcEW"
      },
      "source": [
        "Printing all the team names again to check!"
      ]
    },
    {
      "cell_type": "code",
      "metadata": {
        "colab": {
          "base_uri": "https://localhost:8080/"
        },
        "id": "LrfQsPz-BQXp",
        "outputId": "5a91fd96-d6fb-4673-9438-b884b89d53e6"
      },
      "source": [
        "IPL_teams=list(set(df['team1']).union(set(df['team2'])))\n",
        "IPL_teams.sort()\n",
        "print(\"IPL TEAMS\")\n",
        "for team_name in IPL_teams:\n",
        "  print(team_name)"
      ],
      "execution_count": null,
      "outputs": [
        {
          "output_type": "stream",
          "text": [
            "IPL TEAMS\n",
            "CSK\n",
            "DC\n",
            "GL\n",
            "KKR\n",
            "KTK\n",
            "MI\n",
            "PBKS\n",
            "PWI\n",
            "RCB\n",
            "RPS\n",
            "RR\n",
            "SRH\n"
          ],
          "name": "stdout"
        }
      ]
    },
    {
      "cell_type": "markdown",
      "metadata": {
        "id": "deQEUbp7FZIw"
      },
      "source": [
        "#### **Renaming the venue and city columns**"
      ]
    },
    {
      "cell_type": "markdown",
      "metadata": {
        "id": "KxsSDN-1Jl5B"
      },
      "source": [
        "##### **Checking for the same venue, different venue names**"
      ]
    },
    {
      "cell_type": "markdown",
      "metadata": {
        "id": "rmA8LHlwGEKE"
      },
      "source": [
        "We have to solve this problem manually.\n",
        "\n",
        "We print the columns venue and city twice.\n",
        "\n",
        "1. In the first time, the two columns sorted by **city**.\n",
        "2. In the second time the two columns sorted by **venue**.\n",
        "\n",
        "Since, we have sorted columns, it becomes easier to spot the rows representing same names with different convention. \n",
        "\n",
        "For example the following two rows (when sorted by venue):\n",
        "*   Feroz Shah Kotla Delhi\n",
        "*   Feroz Shah Kotla Ground Delhi\n",
        "\n",
        "For example the following two rows (when sorted by city):\n",
        "*   ACA-VDCA Stadium Visakhapatnam\n",
        "*   Dr. Y.S. Rajasekhara Reddy ACA-VDCA Cricket Stadium Visakhapatnam\n",
        "\n"
      ]
    },
    {
      "cell_type": "code",
      "metadata": {
        "colab": {
          "base_uri": "https://localhost:8080/"
        },
        "id": "q2fn-x2sBoZa",
        "outputId": "48738920-22ec-4b6b-dea2-998d5b21a595"
      },
      "source": [
        "print(\"\\n\\tVenue and City column sorted by city...\")\n",
        "df[['venue', 'city']].drop_duplicates(subset=['venue', 'city'], keep='last').sort_values(by='city')\n",
        "\n",
        "# print(df[['venue', 'city']].drop_duplicates(subset=['venue', 'city'], keep='last').sort_values(by='venue').values.tolist())"
      ],
      "execution_count": null,
      "outputs": [
        {
          "output_type": "stream",
          "text": [
            "\n",
            "\tVenue and City column sorted by city...\n"
          ],
          "name": "stdout"
        },
        {
          "output_type": "execute_result",
          "data": {
            "text/html": [
              "<div>\n",
              "<style scoped>\n",
              "    .dataframe tbody tr th:only-of-type {\n",
              "        vertical-align: middle;\n",
              "    }\n",
              "\n",
              "    .dataframe tbody tr th {\n",
              "        vertical-align: top;\n",
              "    }\n",
              "\n",
              "    .dataframe thead th {\n",
              "        text-align: right;\n",
              "    }\n",
              "</style>\n",
              "<table border=\"1\" class=\"dataframe\">\n",
              "  <thead>\n",
              "    <tr style=\"text-align: right;\">\n",
              "      <th></th>\n",
              "      <th>venue</th>\n",
              "      <th>city</th>\n",
              "    </tr>\n",
              "  </thead>\n",
              "  <tbody>\n",
              "    <tr>\n",
              "      <th>810</th>\n",
              "      <td>Sheikh Zayed Stadium</td>\n",
              "      <td>Abu Dhabi</td>\n",
              "    </tr>\n",
              "    <tr>\n",
              "      <th>538</th>\n",
              "      <td>Sardar Patel Stadium, Motera</td>\n",
              "      <td>Ahmedabad</td>\n",
              "    </tr>\n",
              "    <tr>\n",
              "      <th>632</th>\n",
              "      <td>M Chinnaswamy Stadium</td>\n",
              "      <td>Bangalore</td>\n",
              "    </tr>\n",
              "    <tr>\n",
              "      <th>745</th>\n",
              "      <td>M. Chinnaswamy Stadium</td>\n",
              "      <td>Bengaluru</td>\n",
              "    </tr>\n",
              "    <tr>\n",
              "      <th>683</th>\n",
              "      <td>M Chinnaswamy Stadium</td>\n",
              "      <td>Bengaluru</td>\n",
              "    </tr>\n",
              "    <tr>\n",
              "      <th>164</th>\n",
              "      <td>OUTsurance Oval</td>\n",
              "      <td>Bloemfontein</td>\n",
              "    </tr>\n",
              "    <tr>\n",
              "      <th>129</th>\n",
              "      <td>Newlands</td>\n",
              "      <td>Cape Town</td>\n",
              "    </tr>\n",
              "    <tr>\n",
              "      <th>171</th>\n",
              "      <td>SuperSport Park</td>\n",
              "      <td>Centurion</td>\n",
              "    </tr>\n",
              "    <tr>\n",
              "      <th>618</th>\n",
              "      <td>Punjab Cricket Association IS Bindra Stadium, ...</td>\n",
              "      <td>Chandigarh</td>\n",
              "    </tr>\n",
              "    <tr>\n",
              "      <th>566</th>\n",
              "      <td>Punjab Cricket Association Stadium, Mohali</td>\n",
              "      <td>Chandigarh</td>\n",
              "    </tr>\n",
              "    <tr>\n",
              "      <th>748</th>\n",
              "      <td>M. A. Chidambaram Stadium</td>\n",
              "      <td>Chennai</td>\n",
              "    </tr>\n",
              "    <tr>\n",
              "      <th>637</th>\n",
              "      <td>MA Chidambaram Stadium, Chepauk</td>\n",
              "      <td>Chennai</td>\n",
              "    </tr>\n",
              "    <tr>\n",
              "      <th>495</th>\n",
              "      <td>Barabati Stadium</td>\n",
              "      <td>Cuttack</td>\n",
              "    </tr>\n",
              "    <tr>\n",
              "      <th>744</th>\n",
              "      <td>Feroz Shah Kotla Ground</td>\n",
              "      <td>Delhi</td>\n",
              "    </tr>\n",
              "    <tr>\n",
              "      <th>687</th>\n",
              "      <td>Feroz Shah Kotla</td>\n",
              "      <td>Delhi</td>\n",
              "    </tr>\n",
              "    <tr>\n",
              "      <th>448</th>\n",
              "      <td>Himachal Pradesh Cricket Association Stadium</td>\n",
              "      <td>Dharamsala</td>\n",
              "    </tr>\n",
              "    <tr>\n",
              "      <th>811</th>\n",
              "      <td>Dubai International Cricket Stadium</td>\n",
              "      <td>Dubai</td>\n",
              "    </tr>\n",
              "    <tr>\n",
              "      <th>168</th>\n",
              "      <td>Kingsmead</td>\n",
              "      <td>Durban</td>\n",
              "    </tr>\n",
              "    <tr>\n",
              "      <th>149</th>\n",
              "      <td>Buffalo Park</td>\n",
              "      <td>East London</td>\n",
              "    </tr>\n",
              "    <tr>\n",
              "      <th>751</th>\n",
              "      <td>Rajiv Gandhi Intl. Cricket Stadium</td>\n",
              "      <td>Hyderabad</td>\n",
              "    </tr>\n",
              "    <tr>\n",
              "      <th>686</th>\n",
              "      <td>Rajiv Gandhi International Stadium, Uppal</td>\n",
              "      <td>Hyderabad</td>\n",
              "    </tr>\n",
              "    <tr>\n",
              "      <th>680</th>\n",
              "      <td>Holkar Cricket Stadium</td>\n",
              "      <td>Indore</td>\n",
              "    </tr>\n",
              "    <tr>\n",
              "      <th>737</th>\n",
              "      <td>Sawai Mansingh Stadium</td>\n",
              "      <td>Jaipur</td>\n",
              "    </tr>\n",
              "    <tr>\n",
              "      <th>173</th>\n",
              "      <td>New Wanderers Stadium</td>\n",
              "      <td>Johannesburg</td>\n",
              "    </tr>\n",
              "    <tr>\n",
              "      <th>626</th>\n",
              "      <td>Green Park</td>\n",
              "      <td>Kanpur</td>\n",
              "    </tr>\n",
              "    <tr>\n",
              "      <th>154</th>\n",
              "      <td>De Beers Diamond Oval</td>\n",
              "      <td>Kimberley</td>\n",
              "    </tr>\n",
              "    <tr>\n",
              "      <th>277</th>\n",
              "      <td>Nehru Stadium</td>\n",
              "      <td>Kochi</td>\n",
              "    </tr>\n",
              "    <tr>\n",
              "      <th>739</th>\n",
              "      <td>Eden Gardens</td>\n",
              "      <td>Kolkata</td>\n",
              "    </tr>\n",
              "    <tr>\n",
              "      <th>648</th>\n",
              "      <td>Punjab Cricket Association IS Bindra Stadium, ...</td>\n",
              "      <td>Mohali</td>\n",
              "    </tr>\n",
              "    <tr>\n",
              "      <th>746</th>\n",
              "      <td>IS Bindra Stadium</td>\n",
              "      <td>Mohali</td>\n",
              "    </tr>\n",
              "    <tr>\n",
              "      <th>747</th>\n",
              "      <td>Wankhede Stadium</td>\n",
              "      <td>Mumbai</td>\n",
              "    </tr>\n",
              "    <tr>\n",
              "      <th>297</th>\n",
              "      <td>Dr DY Patil Sports Academy</td>\n",
              "      <td>Mumbai</td>\n",
              "    </tr>\n",
              "    <tr>\n",
              "      <th>567</th>\n",
              "      <td>Brabourne Stadium</td>\n",
              "      <td>Mumbai</td>\n",
              "    </tr>\n",
              "    <tr>\n",
              "      <th>219</th>\n",
              "      <td>Vidarbha Cricket Association Stadium, Jamtha</td>\n",
              "      <td>Nagpur</td>\n",
              "    </tr>\n",
              "    <tr>\n",
              "      <th>161</th>\n",
              "      <td>St George's Park</td>\n",
              "      <td>Port Elizabeth</td>\n",
              "    </tr>\n",
              "    <tr>\n",
              "      <th>688</th>\n",
              "      <td>Maharashtra Cricket Association Stadium</td>\n",
              "      <td>Pune</td>\n",
              "    </tr>\n",
              "    <tr>\n",
              "      <th>449</th>\n",
              "      <td>Subrata Roy Sahara Stadium</td>\n",
              "      <td>Pune</td>\n",
              "    </tr>\n",
              "    <tr>\n",
              "      <th>628</th>\n",
              "      <td>Shaheed Veer Narayan Singh International Stadium</td>\n",
              "      <td>Raipur</td>\n",
              "    </tr>\n",
              "    <tr>\n",
              "      <th>603</th>\n",
              "      <td>Saurashtra Cricket Association Stadium</td>\n",
              "      <td>Rajkot</td>\n",
              "    </tr>\n",
              "    <tr>\n",
              "      <th>571</th>\n",
              "      <td>JSCA International Stadium Complex</td>\n",
              "      <td>Ranchi</td>\n",
              "    </tr>\n",
              "    <tr>\n",
              "      <th>807</th>\n",
              "      <td>Sharjah Cricket Stadium</td>\n",
              "      <td>Sharjah</td>\n",
              "    </tr>\n",
              "    <tr>\n",
              "      <th>750</th>\n",
              "      <td>ACA-VDCA Stadium</td>\n",
              "      <td>Visakhapatnam</td>\n",
              "    </tr>\n",
              "    <tr>\n",
              "      <th>625</th>\n",
              "      <td>Dr. Y.S. Rajasekhara Reddy ACA-VDCA Cricket St...</td>\n",
              "      <td>Visakhapatnam</td>\n",
              "    </tr>\n",
              "  </tbody>\n",
              "</table>\n",
              "</div>"
            ],
            "text/plain": [
              "                                                 venue            city\n",
              "810                               Sheikh Zayed Stadium       Abu Dhabi\n",
              "538                       Sardar Patel Stadium, Motera       Ahmedabad\n",
              "632                              M Chinnaswamy Stadium       Bangalore\n",
              "745                             M. Chinnaswamy Stadium       Bengaluru\n",
              "683                              M Chinnaswamy Stadium       Bengaluru\n",
              "164                                    OUTsurance Oval    Bloemfontein\n",
              "129                                           Newlands       Cape Town\n",
              "171                                    SuperSport Park       Centurion\n",
              "618  Punjab Cricket Association IS Bindra Stadium, ...      Chandigarh\n",
              "566         Punjab Cricket Association Stadium, Mohali      Chandigarh\n",
              "748                          M. A. Chidambaram Stadium         Chennai\n",
              "637                    MA Chidambaram Stadium, Chepauk         Chennai\n",
              "495                                   Barabati Stadium         Cuttack\n",
              "744                            Feroz Shah Kotla Ground           Delhi\n",
              "687                                   Feroz Shah Kotla           Delhi\n",
              "448       Himachal Pradesh Cricket Association Stadium      Dharamsala\n",
              "811                Dubai International Cricket Stadium           Dubai\n",
              "168                                          Kingsmead          Durban\n",
              "149                                       Buffalo Park     East London\n",
              "751                 Rajiv Gandhi Intl. Cricket Stadium       Hyderabad\n",
              "686          Rajiv Gandhi International Stadium, Uppal       Hyderabad\n",
              "680                             Holkar Cricket Stadium          Indore\n",
              "737                             Sawai Mansingh Stadium          Jaipur\n",
              "173                              New Wanderers Stadium    Johannesburg\n",
              "626                                         Green Park          Kanpur\n",
              "154                              De Beers Diamond Oval       Kimberley\n",
              "277                                      Nehru Stadium           Kochi\n",
              "739                                       Eden Gardens         Kolkata\n",
              "648  Punjab Cricket Association IS Bindra Stadium, ...          Mohali\n",
              "746                                  IS Bindra Stadium          Mohali\n",
              "747                                   Wankhede Stadium          Mumbai\n",
              "297                         Dr DY Patil Sports Academy          Mumbai\n",
              "567                                  Brabourne Stadium          Mumbai\n",
              "219       Vidarbha Cricket Association Stadium, Jamtha          Nagpur\n",
              "161                                   St George's Park  Port Elizabeth\n",
              "688            Maharashtra Cricket Association Stadium            Pune\n",
              "449                         Subrata Roy Sahara Stadium            Pune\n",
              "628   Shaheed Veer Narayan Singh International Stadium          Raipur\n",
              "603             Saurashtra Cricket Association Stadium          Rajkot\n",
              "571                 JSCA International Stadium Complex          Ranchi\n",
              "807                            Sharjah Cricket Stadium         Sharjah\n",
              "750                                   ACA-VDCA Stadium   Visakhapatnam\n",
              "625  Dr. Y.S. Rajasekhara Reddy ACA-VDCA Cricket St...   Visakhapatnam"
            ]
          },
          "metadata": {
            "tags": []
          },
          "execution_count": 15
        }
      ]
    },
    {
      "cell_type": "code",
      "metadata": {
        "colab": {
          "base_uri": "https://localhost:8080/"
        },
        "id": "V_6c_BmrGace",
        "outputId": "21e05205-e10e-40f6-86cd-120a95e48585"
      },
      "source": [
        "print(\"\\n\\tVenue and City column sorted by venue...\")\n",
        "df[['venue', 'city']].drop_duplicates(subset=['venue', 'city'], keep='last').sort_values(by='venue')"
      ],
      "execution_count": null,
      "outputs": [
        {
          "output_type": "stream",
          "text": [
            "\n",
            "\tVenue and City column sorted by venue...\n"
          ],
          "name": "stdout"
        },
        {
          "output_type": "execute_result",
          "data": {
            "text/html": [
              "<div>\n",
              "<style scoped>\n",
              "    .dataframe tbody tr th:only-of-type {\n",
              "        vertical-align: middle;\n",
              "    }\n",
              "\n",
              "    .dataframe tbody tr th {\n",
              "        vertical-align: top;\n",
              "    }\n",
              "\n",
              "    .dataframe thead th {\n",
              "        text-align: right;\n",
              "    }\n",
              "</style>\n",
              "<table border=\"1\" class=\"dataframe\">\n",
              "  <thead>\n",
              "    <tr style=\"text-align: right;\">\n",
              "      <th></th>\n",
              "      <th>venue</th>\n",
              "      <th>city</th>\n",
              "    </tr>\n",
              "  </thead>\n",
              "  <tbody>\n",
              "    <tr>\n",
              "      <th>750</th>\n",
              "      <td>ACA-VDCA Stadium</td>\n",
              "      <td>Visakhapatnam</td>\n",
              "    </tr>\n",
              "    <tr>\n",
              "      <th>495</th>\n",
              "      <td>Barabati Stadium</td>\n",
              "      <td>Cuttack</td>\n",
              "    </tr>\n",
              "    <tr>\n",
              "      <th>567</th>\n",
              "      <td>Brabourne Stadium</td>\n",
              "      <td>Mumbai</td>\n",
              "    </tr>\n",
              "    <tr>\n",
              "      <th>149</th>\n",
              "      <td>Buffalo Park</td>\n",
              "      <td>East London</td>\n",
              "    </tr>\n",
              "    <tr>\n",
              "      <th>154</th>\n",
              "      <td>De Beers Diamond Oval</td>\n",
              "      <td>Kimberley</td>\n",
              "    </tr>\n",
              "    <tr>\n",
              "      <th>297</th>\n",
              "      <td>Dr DY Patil Sports Academy</td>\n",
              "      <td>Mumbai</td>\n",
              "    </tr>\n",
              "    <tr>\n",
              "      <th>625</th>\n",
              "      <td>Dr. Y.S. Rajasekhara Reddy ACA-VDCA Cricket St...</td>\n",
              "      <td>Visakhapatnam</td>\n",
              "    </tr>\n",
              "    <tr>\n",
              "      <th>811</th>\n",
              "      <td>Dubai International Cricket Stadium</td>\n",
              "      <td>Dubai</td>\n",
              "    </tr>\n",
              "    <tr>\n",
              "      <th>739</th>\n",
              "      <td>Eden Gardens</td>\n",
              "      <td>Kolkata</td>\n",
              "    </tr>\n",
              "    <tr>\n",
              "      <th>687</th>\n",
              "      <td>Feroz Shah Kotla</td>\n",
              "      <td>Delhi</td>\n",
              "    </tr>\n",
              "    <tr>\n",
              "      <th>744</th>\n",
              "      <td>Feroz Shah Kotla Ground</td>\n",
              "      <td>Delhi</td>\n",
              "    </tr>\n",
              "    <tr>\n",
              "      <th>626</th>\n",
              "      <td>Green Park</td>\n",
              "      <td>Kanpur</td>\n",
              "    </tr>\n",
              "    <tr>\n",
              "      <th>448</th>\n",
              "      <td>Himachal Pradesh Cricket Association Stadium</td>\n",
              "      <td>Dharamsala</td>\n",
              "    </tr>\n",
              "    <tr>\n",
              "      <th>680</th>\n",
              "      <td>Holkar Cricket Stadium</td>\n",
              "      <td>Indore</td>\n",
              "    </tr>\n",
              "    <tr>\n",
              "      <th>746</th>\n",
              "      <td>IS Bindra Stadium</td>\n",
              "      <td>Mohali</td>\n",
              "    </tr>\n",
              "    <tr>\n",
              "      <th>571</th>\n",
              "      <td>JSCA International Stadium Complex</td>\n",
              "      <td>Ranchi</td>\n",
              "    </tr>\n",
              "    <tr>\n",
              "      <th>168</th>\n",
              "      <td>Kingsmead</td>\n",
              "      <td>Durban</td>\n",
              "    </tr>\n",
              "    <tr>\n",
              "      <th>683</th>\n",
              "      <td>M Chinnaswamy Stadium</td>\n",
              "      <td>Bengaluru</td>\n",
              "    </tr>\n",
              "    <tr>\n",
              "      <th>632</th>\n",
              "      <td>M Chinnaswamy Stadium</td>\n",
              "      <td>Bangalore</td>\n",
              "    </tr>\n",
              "    <tr>\n",
              "      <th>748</th>\n",
              "      <td>M. A. Chidambaram Stadium</td>\n",
              "      <td>Chennai</td>\n",
              "    </tr>\n",
              "    <tr>\n",
              "      <th>745</th>\n",
              "      <td>M. Chinnaswamy Stadium</td>\n",
              "      <td>Bengaluru</td>\n",
              "    </tr>\n",
              "    <tr>\n",
              "      <th>637</th>\n",
              "      <td>MA Chidambaram Stadium, Chepauk</td>\n",
              "      <td>Chennai</td>\n",
              "    </tr>\n",
              "    <tr>\n",
              "      <th>688</th>\n",
              "      <td>Maharashtra Cricket Association Stadium</td>\n",
              "      <td>Pune</td>\n",
              "    </tr>\n",
              "    <tr>\n",
              "      <th>277</th>\n",
              "      <td>Nehru Stadium</td>\n",
              "      <td>Kochi</td>\n",
              "    </tr>\n",
              "    <tr>\n",
              "      <th>173</th>\n",
              "      <td>New Wanderers Stadium</td>\n",
              "      <td>Johannesburg</td>\n",
              "    </tr>\n",
              "    <tr>\n",
              "      <th>129</th>\n",
              "      <td>Newlands</td>\n",
              "      <td>Cape Town</td>\n",
              "    </tr>\n",
              "    <tr>\n",
              "      <th>164</th>\n",
              "      <td>OUTsurance Oval</td>\n",
              "      <td>Bloemfontein</td>\n",
              "    </tr>\n",
              "    <tr>\n",
              "      <th>618</th>\n",
              "      <td>Punjab Cricket Association IS Bindra Stadium, ...</td>\n",
              "      <td>Chandigarh</td>\n",
              "    </tr>\n",
              "    <tr>\n",
              "      <th>648</th>\n",
              "      <td>Punjab Cricket Association IS Bindra Stadium, ...</td>\n",
              "      <td>Mohali</td>\n",
              "    </tr>\n",
              "    <tr>\n",
              "      <th>566</th>\n",
              "      <td>Punjab Cricket Association Stadium, Mohali</td>\n",
              "      <td>Chandigarh</td>\n",
              "    </tr>\n",
              "    <tr>\n",
              "      <th>686</th>\n",
              "      <td>Rajiv Gandhi International Stadium, Uppal</td>\n",
              "      <td>Hyderabad</td>\n",
              "    </tr>\n",
              "    <tr>\n",
              "      <th>751</th>\n",
              "      <td>Rajiv Gandhi Intl. Cricket Stadium</td>\n",
              "      <td>Hyderabad</td>\n",
              "    </tr>\n",
              "    <tr>\n",
              "      <th>538</th>\n",
              "      <td>Sardar Patel Stadium, Motera</td>\n",
              "      <td>Ahmedabad</td>\n",
              "    </tr>\n",
              "    <tr>\n",
              "      <th>603</th>\n",
              "      <td>Saurashtra Cricket Association Stadium</td>\n",
              "      <td>Rajkot</td>\n",
              "    </tr>\n",
              "    <tr>\n",
              "      <th>737</th>\n",
              "      <td>Sawai Mansingh Stadium</td>\n",
              "      <td>Jaipur</td>\n",
              "    </tr>\n",
              "    <tr>\n",
              "      <th>628</th>\n",
              "      <td>Shaheed Veer Narayan Singh International Stadium</td>\n",
              "      <td>Raipur</td>\n",
              "    </tr>\n",
              "    <tr>\n",
              "      <th>807</th>\n",
              "      <td>Sharjah Cricket Stadium</td>\n",
              "      <td>Sharjah</td>\n",
              "    </tr>\n",
              "    <tr>\n",
              "      <th>810</th>\n",
              "      <td>Sheikh Zayed Stadium</td>\n",
              "      <td>Abu Dhabi</td>\n",
              "    </tr>\n",
              "    <tr>\n",
              "      <th>161</th>\n",
              "      <td>St George's Park</td>\n",
              "      <td>Port Elizabeth</td>\n",
              "    </tr>\n",
              "    <tr>\n",
              "      <th>449</th>\n",
              "      <td>Subrata Roy Sahara Stadium</td>\n",
              "      <td>Pune</td>\n",
              "    </tr>\n",
              "    <tr>\n",
              "      <th>171</th>\n",
              "      <td>SuperSport Park</td>\n",
              "      <td>Centurion</td>\n",
              "    </tr>\n",
              "    <tr>\n",
              "      <th>219</th>\n",
              "      <td>Vidarbha Cricket Association Stadium, Jamtha</td>\n",
              "      <td>Nagpur</td>\n",
              "    </tr>\n",
              "    <tr>\n",
              "      <th>747</th>\n",
              "      <td>Wankhede Stadium</td>\n",
              "      <td>Mumbai</td>\n",
              "    </tr>\n",
              "  </tbody>\n",
              "</table>\n",
              "</div>"
            ],
            "text/plain": [
              "                                                 venue            city\n",
              "750                                   ACA-VDCA Stadium   Visakhapatnam\n",
              "495                                   Barabati Stadium         Cuttack\n",
              "567                                  Brabourne Stadium          Mumbai\n",
              "149                                       Buffalo Park     East London\n",
              "154                              De Beers Diamond Oval       Kimberley\n",
              "297                         Dr DY Patil Sports Academy          Mumbai\n",
              "625  Dr. Y.S. Rajasekhara Reddy ACA-VDCA Cricket St...   Visakhapatnam\n",
              "811                Dubai International Cricket Stadium           Dubai\n",
              "739                                       Eden Gardens         Kolkata\n",
              "687                                   Feroz Shah Kotla           Delhi\n",
              "744                            Feroz Shah Kotla Ground           Delhi\n",
              "626                                         Green Park          Kanpur\n",
              "448       Himachal Pradesh Cricket Association Stadium      Dharamsala\n",
              "680                             Holkar Cricket Stadium          Indore\n",
              "746                                  IS Bindra Stadium          Mohali\n",
              "571                 JSCA International Stadium Complex          Ranchi\n",
              "168                                          Kingsmead          Durban\n",
              "683                              M Chinnaswamy Stadium       Bengaluru\n",
              "632                              M Chinnaswamy Stadium       Bangalore\n",
              "748                          M. A. Chidambaram Stadium         Chennai\n",
              "745                             M. Chinnaswamy Stadium       Bengaluru\n",
              "637                    MA Chidambaram Stadium, Chepauk         Chennai\n",
              "688            Maharashtra Cricket Association Stadium            Pune\n",
              "277                                      Nehru Stadium           Kochi\n",
              "173                              New Wanderers Stadium    Johannesburg\n",
              "129                                           Newlands       Cape Town\n",
              "164                                    OUTsurance Oval    Bloemfontein\n",
              "618  Punjab Cricket Association IS Bindra Stadium, ...      Chandigarh\n",
              "648  Punjab Cricket Association IS Bindra Stadium, ...          Mohali\n",
              "566         Punjab Cricket Association Stadium, Mohali      Chandigarh\n",
              "686          Rajiv Gandhi International Stadium, Uppal       Hyderabad\n",
              "751                 Rajiv Gandhi Intl. Cricket Stadium       Hyderabad\n",
              "538                       Sardar Patel Stadium, Motera       Ahmedabad\n",
              "603             Saurashtra Cricket Association Stadium          Rajkot\n",
              "737                             Sawai Mansingh Stadium          Jaipur\n",
              "628   Shaheed Veer Narayan Singh International Stadium          Raipur\n",
              "807                            Sharjah Cricket Stadium         Sharjah\n",
              "810                               Sheikh Zayed Stadium       Abu Dhabi\n",
              "161                                   St George's Park  Port Elizabeth\n",
              "449                         Subrata Roy Sahara Stadium            Pune\n",
              "171                                    SuperSport Park       Centurion\n",
              "219       Vidarbha Cricket Association Stadium, Jamtha          Nagpur\n",
              "747                                   Wankhede Stadium          Mumbai"
            ]
          },
          "metadata": {
            "tags": []
          },
          "execution_count": 16
        }
      ]
    },
    {
      "cell_type": "markdown",
      "metadata": {
        "id": "FN8E_58aBo3m"
      },
      "source": [
        "**Output:**\n",
        "\n",
        "Redundant values found manually are as follows:\n",
        "\n",
        "________________________________________________________________________________\n",
        "\n",
        "**Location 1:** Dr. Y.S. Rajasekhara Reddy ACA-VDCA Cricket Stadium **Visakhapatnam**\n",
        "\n",
        "Dr. Y.S. Rajasekhara Reddy ACA-VDCA Cricket Stadium **Visakhapatnam**\n",
        "\n",
        "Dr. Y.S.R. ACA VDCA Cricket Stadium **Visakhapatnam**\n",
        "\n",
        "________________________________________________________________________________\n",
        "\n",
        "**Location 2:** Arun Jaitley Stadium\t**Delhi**\n",
        "\n",
        "Feroz Shah Kotla\t**Delhi**\n",
        "\n",
        "Feroz Shah Kotla Ground\t**Delhi**\n",
        "________________________________________________________________________________\n",
        "\n",
        "**Location 3:** M. Chinnaswamy Stadium **Bangalore**\n",
        "\n",
        "M Chinnaswamy Stadium\t**Bengaluru**\n",
        "\n",
        "M Chinnaswamy Stadium\t**Bangalore**\n",
        "\n",
        "M. Chinnaswamy Stadium\t**Bengaluru**\n",
        "\n",
        "________________________________________________________________________________\n",
        "\n",
        "**Location 4:** M. A. Chidambaram Stadium **Chennai**\n",
        "\n",
        "M. A. Chidambaram Stadium\t**Chennai**\n",
        "\n",
        "MA Chidambaram Stadium, Chepauk\t**Chennai**\n",
        "\n",
        "________________________________________________________________________________\n",
        "\n",
        "**Location 5:** Punjab Cricket Association IS Bindra Stadium **Mohali**\n",
        "\n",
        "Punjab Cricket Association IS Bindra Stadium, Mohali  **Chandigarh**\n",
        "\n",
        "Punjab Cricket Association IS Bindra Stadium, Mohali **Mohali**\n",
        "\n",
        "Punjab Cricket Association Stadium, Mohali **Chandigarh**\n",
        "\n",
        "IS Bindra Stadium\t**Mohali**\n",
        "\n",
        "________________________________________________________________________________\n",
        "\n",
        "**Location 6:** Rajiv Gandhi International Cricket Stadium **Hyderabad**\n",
        "\n",
        "Rajiv Gandhi International Stadium, Uppal\t**Hyderabad**\n",
        "\n",
        "Rajiv Gandhi Intl. Cricket Stadium **Hyderabad**\n",
        "\n",
        "________________________________________________________________________________\n",
        "\n",
        "**Location 7:** Maharashtra Cricket Association Stadium\t **Pune**\n",
        "\n",
        "Subrata Roy Sahara Stadium\t**Pune**\n",
        "\n",
        "Maharashtra Cricket Association Stadium **Pune**\n",
        "\n",
        "________________________________________________________________________________\n"
      ]
    },
    {
      "cell_type": "markdown",
      "metadata": {
        "id": "orAXREJhJyt_"
      },
      "source": [
        "##### **Replacing the same venue, different venue names**\n",
        "\n"
      ]
    },
    {
      "cell_type": "code",
      "metadata": {
        "colab": {
          "base_uri": "https://localhost:8080/"
        },
        "id": "QM2D--3CJuMR",
        "outputId": "905f1576-2ea3-458e-9c61-2abd483cce2a"
      },
      "source": [
        "# Location 1\n",
        "df.replace(\"Dr. Y.S.R. ACA VDCA Cricket Stadium\", \"Dr. Y.S. Rajasekhara Reddy ACA-VDCA Cricket Stadium\", inplace=True)\n",
        "\n",
        "# Location 2\n",
        "df.replace(\"Feroz Shah Kotla\", \"Arun Jaitley Stadium\", inplace=True)\n",
        "df.replace(\"Feroz Shah Kotla Ground\", \"Arun Jaitley Stadium\", inplace=True)\n",
        "\n",
        "# Location 3\n",
        "df.replace(\"M Chinnaswamy Stadium\", \"M. Chinnaswamy Stadium\", inplace=True)\n",
        "df.replace(\"Bengaluru\", \"Bangalore\", inplace=True)\n",
        "\n",
        "# Location 4\n",
        "df.replace(\"MA Chidambaram Stadium, Chepauk\", \"M. A. Chidambaram Stadium\", inplace=True)\n",
        "\n",
        "# Location 5\n",
        "df.replace(\"Punjab Cricket Association IS Bindra Stadium, Mohali\", \"Punjab Cricket Association IS Bindra Stadium\", inplace=True)\n",
        "df.replace(\"Punjab Cricket Association IS Bindra Stadium, Mohali\", \"Punjab Cricket Association IS Bindra Stadium\", inplace=True)\n",
        "df.replace(\"Punjab Cricket Association Stadium, Mohali\", \"Punjab Cricket Association IS Bindra Stadium\", inplace=True)\n",
        "df.replace(\"IS Bindra Stadium\", \"Punjab Cricket Association IS Bindra Stadium\", inplace=True)\n",
        "df.replace(\"Chandigarh\", \"Mohali\", inplace=True)\n",
        "\n",
        "# Location 6\n",
        "df.replace(\"Rajiv Gandhi International Stadium, Uppal\", \"Rajiv Gandhi International Cricket Stadium\", inplace=True)\n",
        "df.replace(\"Rajiv Gandhi Intl. Cricket Stadium\", \"Rajiv Gandhi International Cricket Stadium\", inplace=True)\n",
        "\n",
        "# Location 7\n",
        "df.replace(\"Subrata Roy Sahara Stadium\", \"Maharashtra Cricket Association Stadium\", inplace=True)\n",
        "\n",
        "# Display the new dataframe after the replacement\n",
        "# display(df.head())\n",
        "\n",
        "print(\"The naming conventions of columns 'venue' and 'city' were updated successfully...\")"
      ],
      "execution_count": null,
      "outputs": [
        {
          "output_type": "stream",
          "text": [
            "The naming conventions of columns 'venue' and 'city' were updated successfully...\n"
          ],
          "name": "stdout"
        }
      ]
    },
    {
      "cell_type": "markdown",
      "metadata": {
        "id": "Hi0jZ5GeQnaN"
      },
      "source": [
        "Phew!! The data is clean now. We can finally start on analyzing the features (columns)."
      ]
    },
    {
      "cell_type": "markdown",
      "metadata": {
        "id": "TFXoAHt2Jxqf"
      },
      "source": [
        "---\n",
        "## **Step 4 — Adding new columns to dataframe**\n",
        "---"
      ]
    },
    {
      "cell_type": "markdown",
      "metadata": {
        "id": "QeRL1-BngmGm"
      },
      "source": [
        "### **Adding the column \"team1_points\" and \"team2_points\"**"
      ]
    },
    {
      "cell_type": "code",
      "metadata": {
        "colab": {
          "base_uri": "https://localhost:8080/"
        },
        "id": "HzH8YpdagmGm",
        "outputId": "431c48bb-1b36-4105-abf2-7033b29eba3d"
      },
      "source": [
        "df['team1_points'] = 0\n",
        "df['team2_points'] = 0\n",
        "\n",
        "directory = r'./'+newfolder\n",
        "\n",
        "for filename in os.listdir(directory):\n",
        "\n",
        "    if filename.endswith(\".csv\"):        \n",
        "\n",
        "        filepath=os.path.join(directory, filename)\n",
        "        points_df = pd.read_csv(filepath)\n",
        "        total_points = points_df['Pts'].sum()\n",
        "\n",
        "        [season, team_name]=list(map(str,filename.split('_IPL_points_')))        \n",
        "        season=int(season)\n",
        "        team_name=team_name[:-4]\n",
        "        # print(\"\\nSeason=\", season)\n",
        "        # print(\"team=\", team_name)\n",
        "        team1_index=set(df.index[df['season'] == season].tolist()) & set(df.index[df['team1'] == team_name].tolist())\n",
        "        team2_index=set(df.index[df['season'] == season].tolist()) & set(df.index[df['team2'] == team_name].tolist())\n",
        "        df.loc[team1_index,'team1_points'] = int(total_points)\n",
        "        df.loc[team2_index,'team2_points'] = int(total_points)\n",
        "        # print(teampoints)        \n",
        "    else: continue\n",
        "\n",
        "# df.head()\n",
        "print(\"2 new columns added: team1_points, team2_points ...\")"
      ],
      "execution_count": null,
      "outputs": [
        {
          "output_type": "stream",
          "text": [
            "2 new columns added: team1_points, team2_points ...\n"
          ],
          "name": "stdout"
        }
      ]
    },
    {
      "cell_type": "markdown",
      "metadata": {
        "id": "ls1wMSF1Lzto"
      },
      "source": [
        "### **Adding the column \"homeground_advantage\"**"
      ]
    },
    {
      "cell_type": "markdown",
      "metadata": {
        "id": "ECdxWvSuN8Bh"
      },
      "source": [
        "Print all the unique venue names \n",
        "\n",
        "Goal: to assign hometeam to each ground seasonwise"
      ]
    },
    {
      "cell_type": "code",
      "metadata": {
        "colab": {
          "base_uri": "https://localhost:8080/"
        },
        "id": "wPEc172muJfA",
        "outputId": "5e3c4079-f6cf-4ae2-a35e-975c6a2a5c84"
      },
      "source": [
        "venues=list(df.venue.unique())\n",
        "venues.sort()\n",
        "for venue in venues: print(venue)"
      ],
      "execution_count": null,
      "outputs": [
        {
          "output_type": "stream",
          "text": [
            "ACA-VDCA Stadium\n",
            "Arun Jaitley Stadium\n",
            "Barabati Stadium\n",
            "Brabourne Stadium\n",
            "Buffalo Park\n",
            "De Beers Diamond Oval\n",
            "Dr DY Patil Sports Academy\n",
            "Dr. Y.S. Rajasekhara Reddy ACA-VDCA Cricket Stadium\n",
            "Dubai International Cricket Stadium\n",
            "Eden Gardens\n",
            "Green Park\n",
            "Himachal Pradesh Cricket Association Stadium\n",
            "Holkar Cricket Stadium\n",
            "JSCA International Stadium Complex\n",
            "Kingsmead\n",
            "M. A. Chidambaram Stadium\n",
            "M. Chinnaswamy Stadium\n",
            "Maharashtra Cricket Association Stadium\n",
            "Nehru Stadium\n",
            "New Wanderers Stadium\n",
            "Newlands\n",
            "OUTsurance Oval\n",
            "Punjab Cricket Association IS Bindra Stadium\n",
            "Rajiv Gandhi International Cricket Stadium\n",
            "Sardar Patel Stadium, Motera\n",
            "Saurashtra Cricket Association Stadium\n",
            "Sawai Mansingh Stadium\n",
            "Shaheed Veer Narayan Singh International Stadium\n",
            "Sharjah Cricket Stadium\n",
            "Sheikh Zayed Stadium\n",
            "St George's Park\n",
            "SuperSport Park\n",
            "Vidarbha Cricket Association Stadium, Jamtha\n",
            "Wankhede Stadium\n"
          ],
          "name": "stdout"
        }
      ]
    },
    {
      "cell_type": "markdown",
      "metadata": {
        "id": "1FUtoXU-NO5d"
      },
      "source": [
        "Create a set of Overseas venues named \"overseas_venues\":\n",
        "\n",
        "source: [Wikipedia](https://en.wikipedia.org/wiki/List_of_Indian_Premier_League_venues)\n"
      ]
    },
    {
      "cell_type": "code",
      "metadata": {
        "colab": {
          "base_uri": "https://localhost:8080/"
        },
        "id": "U933faHwNOhw",
        "outputId": "ec25b6e6-8ee9-452d-802e-53c09f217d94"
      },
      "source": [
        "overseas_venues=(\n",
        "    \"Newlands\",\n",
        "    \"St George's Park\",\n",
        "    \"Kingsmead\",\n",
        "    \"SuperSport Park\",\n",
        "    \"Buffalo Park\",\n",
        "    \"New Wanderers Stadium\",\n",
        "    \"De Beers Diamond Oval\",\n",
        "    \"OUTsurance Oval\",\n",
        "    \"Sheikh Zayed Stadium\",\n",
        "    \"Sharjah Cricket Stadium\",\n",
        "    \"Dubai International Cricket Stadium\"\n",
        ")\n",
        "indian_venues=list(set(venues).difference(overseas_venues))\n",
        "indian_venues.sort()\n",
        "\n",
        "print(\"Total venues: \", len(venues))\n",
        "print(\"Total overseas venues: \", len(overseas_venues))\n",
        "print(\"Total Indian venues: \", len(indian_venues))\n",
        "\n",
        "# for venue in indian_venues: print(venue)"
      ],
      "execution_count": null,
      "outputs": [
        {
          "output_type": "stream",
          "text": [
            "Total venues:  34\n",
            "Total overseas venues:  11\n",
            "Total Indian venues:  23\n"
          ],
          "name": "stdout"
        }
      ]
    },
    {
      "cell_type": "markdown",
      "metadata": {
        "id": "lhn8xIE5Up8Z"
      },
      "source": [
        "**Output:**\n",
        "\n",
        "Total venues:  34\n",
        "\n",
        "Total overseas venues:  11\n",
        "\n",
        "Total Indian venues:  23"
      ]
    },
    {
      "cell_type": "markdown",
      "metadata": {
        "id": "iMOaEmCnaKBC"
      },
      "source": [
        "##### **Create one list of the homegrounds of all the team according to the seasons**"
      ]
    },
    {
      "cell_type": "code",
      "metadata": {
        "colab": {
          "base_uri": "https://localhost:8080/"
        },
        "id": "N1ZJwLU0U3d5",
        "outputId": "beafd602-6439-4663-c1b6-0186deb10463"
      },
      "source": [
        "# CONVENTION: (venue, starting season, ending season, teamname)\n",
        "\n",
        "# Feroz Shah Kotla Ground\n",
        "# ACA-VDCA Stadium \n",
        "# Jawaharlal Nehru Stadium\n",
        "# Raipur international cricket stadium\n",
        "\n",
        "homes=[\n",
        "    (\"Arun Jaitley Stadium\", 2008, 2019, 'DC'),\n",
        "\n",
        "    (\"Barabati Stadium\", 2010, 2012, 'SRH'),\n",
        "    (\"Barabati Stadium\", 2014, 2014, 'PBKS'),\n",
        "    (\"Barabati Stadium\", 2014, 2014, 'KKR'),\n",
        "    (\"Brabourne Stadium\", 2010, 2010, 'MI'),\n",
        "    (\"Brabourne Stadium\", 2015, 2015, 'RR'),\n",
        "\n",
        "    (\"Dr DY Patil Sports Academy\", 2008, 2008, 'MI'),\n",
        "    (\"Dr DY Patil Sports Academy\", 2010, 2010, 'SRH'),\n",
        "    (\"Dr DY Patil Sports Academy\", 2011, 2011, 'PWI'),\n",
        "    (\"Dr. Y.S. Rajasekhara Reddy ACA-VDCA Cricket Stadium\", 2012, 2012, 'SRH'),\n",
        "    (\"Dr. Y.S. Rajasekhara Reddy ACA-VDCA Cricket Stadium\", 2015, 2015, 'SRH'),\n",
        "    (\"Dr. Y.S. Rajasekhara Reddy ACA-VDCA Cricket Stadium\", 2016, 2016, 'MI'),\n",
        "    (\"Dr. Y.S. Rajasekhara Reddy ACA-VDCA Cricket Stadium\", 2016, 2016, 'RPS'),\n",
        "\n",
        "    (\"Eden Gardens\", 2008, 2019, 'KKR'),\n",
        "    (\"Green Park\", 2016, 2017, 'GL'),\n",
        "\n",
        "    (\"Himachal Pradesh Cricket Association Stadium\", 2010, 2013, 'PBKS'),\n",
        "    (\"Holkar Cricket Stadium\", 2011, 2011, 'KTK'),\n",
        "    (\"Holkar Cricket Stadium\", 2017, 2018, 'PBKS'),\n",
        "\n",
        "    (\"JSCA International Stadium Complex\", 2013, 2013, 'KKR'),\n",
        "    (\"JSCA International Stadium Complex\", 2014, 2014, 'CSK'),\n",
        "    (\"Nehru Stadium\", 2011, 2011, 'KTK'),\n",
        "\n",
        "    (\"M. A. Chidambaram Stadium\", 2008, 2019, 'CSK'),\n",
        "    (\"M. Chinnaswamy Stadium\", 2008, 2010, 'RCB'),\n",
        "    (\"Maharashtra Cricket Association Stadium\", 2012, 2013, 'PWI'),\n",
        "    (\"Maharashtra Cricket Association Stadium\", 2015, 2015, 'PBKS'),\n",
        "    (\"Maharashtra Cricket Association Stadium\", 2016, 2017, 'PBKS'),\n",
        "    (\"Maharashtra Cricket Association Stadium\", 2018, 2018, 'CSK'),\n",
        "\n",
        "\n",
        "    (\"Punjab Cricket Association IS Bindra Stadium\", 2008, 2019, 'PBKS'),\n",
        "    (\"Rajiv Gandhi International Cricket Stadium\", 2008, 2012, 'SRH'),\n",
        "    (\"Rajiv Gandhi International Cricket Stadium\", 2013, 2019, 'SRH'),\n",
        "\n",
        "    (\"Sardar Patel Stadium, Motera\", 2010, 2015, 'RR'),\n",
        "    (\"Saurashtra Cricket Association Stadium\", 2016, 2017, 'GL'),\n",
        "    (\"Sawai Mansingh Stadium\", 2008, 2019, 'RR'),\n",
        "    (\"Shaheed Veer Narayan Singh International Stadium\", 2013, 2016, 'DD'),\n",
        "\n",
        "    (\"Vidarbha Cricket Association Stadium, Jamtha\", 2010, 2010, 'SRH'),\n",
        "    (\"Wankhede Stadium\", 2008, 2019, 'MI'),\n",
        "\n",
        "]\n",
        "\n",
        "print(homes)"
      ],
      "execution_count": null,
      "outputs": [
        {
          "output_type": "stream",
          "text": [
            "[('Arun Jaitley Stadium', 2008, 2019, 'DC'), ('Barabati Stadium', 2010, 2012, 'SRH'), ('Barabati Stadium', 2014, 2014, 'PBKS'), ('Barabati Stadium', 2014, 2014, 'KKR'), ('Brabourne Stadium', 2010, 2010, 'MI'), ('Brabourne Stadium', 2015, 2015, 'RR'), ('Dr DY Patil Sports Academy', 2008, 2008, 'MI'), ('Dr DY Patil Sports Academy', 2010, 2010, 'SRH'), ('Dr DY Patil Sports Academy', 2011, 2011, 'PWI'), ('Dr. Y.S. Rajasekhara Reddy ACA-VDCA Cricket Stadium', 2012, 2012, 'SRH'), ('Dr. Y.S. Rajasekhara Reddy ACA-VDCA Cricket Stadium', 2015, 2015, 'SRH'), ('Dr. Y.S. Rajasekhara Reddy ACA-VDCA Cricket Stadium', 2016, 2016, 'MI'), ('Dr. Y.S. Rajasekhara Reddy ACA-VDCA Cricket Stadium', 2016, 2016, 'RPS'), ('Eden Gardens', 2008, 2019, 'KKR'), ('Green Park', 2016, 2017, 'GL'), ('Himachal Pradesh Cricket Association Stadium', 2010, 2013, 'PBKS'), ('Holkar Cricket Stadium', 2011, 2011, 'KTK'), ('Holkar Cricket Stadium', 2017, 2018, 'PBKS'), ('JSCA International Stadium Complex', 2013, 2013, 'KKR'), ('JSCA International Stadium Complex', 2014, 2014, 'CSK'), ('Nehru Stadium', 2011, 2011, 'KTK'), ('M. A. Chidambaram Stadium', 2008, 2019, 'CSK'), ('M. Chinnaswamy Stadium', 2008, 2010, 'RCB'), ('Maharashtra Cricket Association Stadium', 2012, 2013, 'PWI'), ('Maharashtra Cricket Association Stadium', 2015, 2015, 'PBKS'), ('Maharashtra Cricket Association Stadium', 2016, 2017, 'PBKS'), ('Maharashtra Cricket Association Stadium', 2018, 2018, 'CSK'), ('Punjab Cricket Association IS Bindra Stadium', 2008, 2019, 'PBKS'), ('Rajiv Gandhi International Cricket Stadium', 2008, 2012, 'SRH'), ('Rajiv Gandhi International Cricket Stadium', 2013, 2019, 'SRH'), ('Sardar Patel Stadium, Motera', 2010, 2015, 'RR'), ('Saurashtra Cricket Association Stadium', 2016, 2017, 'GL'), ('Sawai Mansingh Stadium', 2008, 2019, 'RR'), ('Shaheed Veer Narayan Singh International Stadium', 2013, 2016, 'DD'), ('Vidarbha Cricket Association Stadium, Jamtha', 2010, 2010, 'SRH'), ('Wankhede Stadium', 2008, 2019, 'MI')]\n"
          ],
          "name": "stdout"
        }
      ]
    },
    {
      "cell_type": "markdown",
      "metadata": {
        "id": "_ZaquvUMaRZ7"
      },
      "source": [
        "##### **Add a new column named \"homeground_advantage\"**\n"
      ]
    },
    {
      "cell_type": "markdown",
      "metadata": {
        "id": "-GjLhsnstOyb"
      },
      "source": [
        "\n",
        "**values:**\n",
        "\n",
        "<team1-name> if venue is homeground of team1\n",
        "\n",
        "<team2-name> if venue is homeground of team2\n",
        "\n",
        "\"both\" is venue is homeground of both of team1 and team2\n",
        "\n",
        "\"none\" is venue is homeground of none of team1 or team2\n",
        "\n",
        "\"overseas\" is venue is overseas"
      ]
    },
    {
      "cell_type": "code",
      "metadata": {
        "colab": {
          "base_uri": "https://localhost:8080/"
        },
        "id": "-ZEhWVI5a3GM",
        "outputId": "b0460400-e884-4b4b-9268-e1464afa595d"
      },
      "source": [
        "df['homeground_advantage']=\"none\"\n",
        "\n",
        "# ground is a tuple in homes list\n",
        "for ground in homes:\n",
        "    # ground[0] is venue name\n",
        "    row_indices=set(df.index[df['venue'] == ground[0]].tolist())\n",
        "    if len(row_indices)==0:\n",
        "        print(\"Why no value in set????????\")\n",
        "    season_index=[]\n",
        "    # ground[1] is starting season and ground[2] is ending season\n",
        "    for season_year in range(ground[1], ground[2]+1):    \n",
        "        season_index+=list(set(df.index[df['season'] == season_year].tolist()))\n",
        "    \n",
        "    row_indices.intersection(season_index)\n",
        "    # print(ground[0], row_indices)\n",
        "\n",
        "    for row in list(row_indices):\n",
        "        #print(row)\n",
        "        if df.loc[row,'team1'] == ground[3] and df.loc[row,'team2'] == ground[3]:\n",
        "            # print(\"Both teams has advantage \", ground[3])\n",
        "            df.loc[row,'homeground_advantage'] = \"both\"\n",
        "        if df.loc[row,'team1'] == ground[3]:\n",
        "            # print(\"Team1 has advantage \", ground[3])\n",
        "            df.loc[row,'homeground_advantage'] = ground[3]\n",
        "        elif df.loc[row,'team2'] == ground[3]:\n",
        "            # print(\"Team2 has advantage \", ground[3])\n",
        "            df.loc[row,'homeground_advantage'] =  ground[3]\n",
        "\n",
        "for overseas in overseas_venues:\n",
        "   df['homeground_advantage'][df.venue == overseas] = \"overseas\"            \n",
        "        \n",
        "\n",
        "df.head(5)\n"
      ],
      "execution_count": null,
      "outputs": [
        {
          "output_type": "stream",
          "text": [
            "/usr/local/lib/python3.7/dist-packages/ipykernel_launcher.py:30: SettingWithCopyWarning: \n",
            "A value is trying to be set on a copy of a slice from a DataFrame\n",
            "\n",
            "See the caveats in the documentation: https://pandas.pydata.org/pandas-docs/stable/user_guide/indexing.html#returning-a-view-versus-a-copy\n"
          ],
          "name": "stderr"
        },
        {
          "output_type": "execute_result",
          "data": {
            "text/html": [
              "<div>\n",
              "<style scoped>\n",
              "    .dataframe tbody tr th:only-of-type {\n",
              "        vertical-align: middle;\n",
              "    }\n",
              "\n",
              "    .dataframe tbody tr th {\n",
              "        vertical-align: top;\n",
              "    }\n",
              "\n",
              "    .dataframe thead th {\n",
              "        text-align: right;\n",
              "    }\n",
              "</style>\n",
              "<table border=\"1\" class=\"dataframe\">\n",
              "  <thead>\n",
              "    <tr style=\"text-align: right;\">\n",
              "      <th></th>\n",
              "      <th>id</th>\n",
              "      <th>season</th>\n",
              "      <th>city</th>\n",
              "      <th>date</th>\n",
              "      <th>team1</th>\n",
              "      <th>Pplay T1</th>\n",
              "      <th>pplay twick1</th>\n",
              "      <th>team2</th>\n",
              "      <th>Pplay T2</th>\n",
              "      <th>pplay twick2</th>\n",
              "      <th>toss_winner</th>\n",
              "      <th>toss_decision</th>\n",
              "      <th>result</th>\n",
              "      <th>dl_applied</th>\n",
              "      <th>winner</th>\n",
              "      <th>win_by_runs</th>\n",
              "      <th>win_by_wickets</th>\n",
              "      <th>player_of_match</th>\n",
              "      <th>venue</th>\n",
              "      <th>Avg 1st Innings Score</th>\n",
              "      <th>Avg 2nd Innings Score</th>\n",
              "      <th>Pitch Type</th>\n",
              "      <th>team1_points</th>\n",
              "      <th>team2_points</th>\n",
              "      <th>homeground_advantage</th>\n",
              "    </tr>\n",
              "  </thead>\n",
              "  <tbody>\n",
              "    <tr>\n",
              "      <th>0</th>\n",
              "      <td>1</td>\n",
              "      <td>2017</td>\n",
              "      <td>Hyderabad</td>\n",
              "      <td>2017-04-05</td>\n",
              "      <td>SRH</td>\n",
              "      <td>59</td>\n",
              "      <td>1</td>\n",
              "      <td>RCB</td>\n",
              "      <td>54</td>\n",
              "      <td>1</td>\n",
              "      <td>RCB</td>\n",
              "      <td>field</td>\n",
              "      <td>normal</td>\n",
              "      <td>0</td>\n",
              "      <td>SRH</td>\n",
              "      <td>35</td>\n",
              "      <td>0</td>\n",
              "      <td>Yuvraj Singh</td>\n",
              "      <td>Rajiv Gandhi International Cricket Stadium</td>\n",
              "      <td>185</td>\n",
              "      <td>175</td>\n",
              "      <td>Batting</td>\n",
              "      <td>660</td>\n",
              "      <td>805</td>\n",
              "      <td>SRH</td>\n",
              "    </tr>\n",
              "    <tr>\n",
              "      <th>1</th>\n",
              "      <td>2</td>\n",
              "      <td>2017</td>\n",
              "      <td>Pune</td>\n",
              "      <td>2017-04-06</td>\n",
              "      <td>MI</td>\n",
              "      <td>61</td>\n",
              "      <td>1</td>\n",
              "      <td>RPS</td>\n",
              "      <td>59</td>\n",
              "      <td>1</td>\n",
              "      <td>RPS</td>\n",
              "      <td>field</td>\n",
              "      <td>normal</td>\n",
              "      <td>0</td>\n",
              "      <td>RPS</td>\n",
              "      <td>0</td>\n",
              "      <td>7</td>\n",
              "      <td>SPD Smith</td>\n",
              "      <td>Maharashtra Cricket Association Stadium</td>\n",
              "      <td>160</td>\n",
              "      <td>148</td>\n",
              "      <td>Batting &amp; Spinner Friendly</td>\n",
              "      <td>936</td>\n",
              "      <td>835</td>\n",
              "      <td>none</td>\n",
              "    </tr>\n",
              "    <tr>\n",
              "      <th>2</th>\n",
              "      <td>3</td>\n",
              "      <td>2017</td>\n",
              "      <td>Rajkot</td>\n",
              "      <td>2017-04-07</td>\n",
              "      <td>GL</td>\n",
              "      <td>52</td>\n",
              "      <td>1</td>\n",
              "      <td>KKR</td>\n",
              "      <td>73</td>\n",
              "      <td>0</td>\n",
              "      <td>KKR</td>\n",
              "      <td>field</td>\n",
              "      <td>normal</td>\n",
              "      <td>0</td>\n",
              "      <td>KKR</td>\n",
              "      <td>0</td>\n",
              "      <td>10</td>\n",
              "      <td>CA Lynn</td>\n",
              "      <td>Saurashtra Cricket Association Stadium</td>\n",
              "      <td>183</td>\n",
              "      <td>170</td>\n",
              "      <td>Batting</td>\n",
              "      <td>536</td>\n",
              "      <td>812</td>\n",
              "      <td>GL</td>\n",
              "    </tr>\n",
              "    <tr>\n",
              "      <th>3</th>\n",
              "      <td>4</td>\n",
              "      <td>2017</td>\n",
              "      <td>Indore</td>\n",
              "      <td>2017-04-08</td>\n",
              "      <td>RPS</td>\n",
              "      <td>35</td>\n",
              "      <td>1</td>\n",
              "      <td>PBKS</td>\n",
              "      <td>56</td>\n",
              "      <td>2</td>\n",
              "      <td>PBKS</td>\n",
              "      <td>field</td>\n",
              "      <td>normal</td>\n",
              "      <td>0</td>\n",
              "      <td>PBKS</td>\n",
              "      <td>0</td>\n",
              "      <td>6</td>\n",
              "      <td>GJ Maxwell</td>\n",
              "      <td>Holkar Cricket Stadium</td>\n",
              "      <td>160</td>\n",
              "      <td>158</td>\n",
              "      <td>Batting</td>\n",
              "      <td>835</td>\n",
              "      <td>768</td>\n",
              "      <td>PBKS</td>\n",
              "    </tr>\n",
              "    <tr>\n",
              "      <th>4</th>\n",
              "      <td>5</td>\n",
              "      <td>2017</td>\n",
              "      <td>Bangalore</td>\n",
              "      <td>2017-04-08</td>\n",
              "      <td>RCB</td>\n",
              "      <td>41</td>\n",
              "      <td>2</td>\n",
              "      <td>DC</td>\n",
              "      <td>43</td>\n",
              "      <td>2</td>\n",
              "      <td>RCB</td>\n",
              "      <td>bat</td>\n",
              "      <td>normal</td>\n",
              "      <td>0</td>\n",
              "      <td>RCB</td>\n",
              "      <td>15</td>\n",
              "      <td>0</td>\n",
              "      <td>KM Jadhav</td>\n",
              "      <td>M. Chinnaswamy Stadium</td>\n",
              "      <td>170</td>\n",
              "      <td>150</td>\n",
              "      <td>Batting</td>\n",
              "      <td>805</td>\n",
              "      <td>1178</td>\n",
              "      <td>RCB</td>\n",
              "    </tr>\n",
              "  </tbody>\n",
              "</table>\n",
              "</div>"
            ],
            "text/plain": [
              "   id  season       city  ... team1_points team2_points  homeground_advantage\n",
              "0   1    2017  Hyderabad  ...          660          805                   SRH\n",
              "1   2    2017       Pune  ...          936          835                  none\n",
              "2   3    2017     Rajkot  ...          536          812                    GL\n",
              "3   4    2017     Indore  ...          835          768                  PBKS\n",
              "4   5    2017  Bangalore  ...          805         1178                   RCB\n",
              "\n",
              "[5 rows x 25 columns]"
            ]
          },
          "metadata": {
            "tags": []
          },
          "execution_count": 22
        }
      ]
    },
    {
      "cell_type": "markdown",
      "metadata": {
        "id": "i4to5N7ctGoz"
      },
      "source": [
        "Print "
      ]
    },
    {
      "cell_type": "code",
      "metadata": {
        "colab": {
          "base_uri": "https://localhost:8080/"
        },
        "id": "e4PPbgg8mC3H",
        "outputId": "72a04256-77c9-45be-bc65-948b2e79f322"
      },
      "source": [
        "print(list(df.homeground_advantage.unique()))"
      ],
      "execution_count": null,
      "outputs": [
        {
          "output_type": "stream",
          "text": [
            "['SRH', 'none', 'GL', 'PBKS', 'RCB', 'MI', 'KKR', 'DC', 'RR', 'CSK', 'overseas', 'KTK', 'PWI', 'RPS']\n"
          ],
          "name": "stdout"
        }
      ]
    },
    {
      "cell_type": "markdown",
      "metadata": {
        "id": "OB6tTOw5oKNk"
      },
      "source": [
        "## **Export the new .csv file, our cleaned new dataset file!**"
      ]
    },
    {
      "cell_type": "code",
      "metadata": {
        "colab": {
          "base_uri": "https://localhost:8080/"
        },
        "id": "sBmyXdn6oQ09",
        "outputId": "6b2df55e-7ac7-4ce6-e112-6e5476e108dc"
      },
      "source": [
        "dataset_file=\"dataset.csv\"\n",
        "df.to_csv(dataset_file, index = True)\n",
        "# df.head()\n",
        "print(\"New file named '\", dataset_file, \"' exported successfully...\")"
      ],
      "execution_count": null,
      "outputs": [
        {
          "output_type": "stream",
          "text": [
            "New file named ' dataset.csv ' exported successfully...\n"
          ],
          "name": "stdout"
        }
      ]
    },
    {
      "cell_type": "markdown",
      "metadata": {
        "id": "rRjqiV_IvI0i"
      },
      "source": [
        "# **PART 2: Data Analysis and Visualization**\n",
        "---"
      ]
    },
    {
      "cell_type": "markdown",
      "metadata": {
        "id": "D40ErYYkvrzL"
      },
      "source": [
        "### Playing with charts and barplots!"
      ]
    },
    {
      "cell_type": "code",
      "metadata": {
        "id": "UAHij4JZwMZb"
      },
      "source": [
        "#123"
      ],
      "execution_count": null,
      "outputs": []
    },
    {
      "cell_type": "markdown",
      "metadata": {
        "id": "Ik6TdsrJvkFh"
      },
      "source": [
        "# **PART 3: Modelling**\n",
        "---"
      ]
    },
    {
      "cell_type": "markdown",
      "metadata": {
        "id": "OL-txJuFQzx-"
      },
      "source": [
        "---\n",
        "## **Step 7 — Feature Engineering**\n",
        "---"
      ]
    },
    {
      "cell_type": "markdown",
      "metadata": {
        "id": "_kA2MgGnRsjj"
      },
      "source": [
        "The column values should make some sense to the computers. \n",
        "Since the computer don’t have the ability to understand and draw inference from the text, we need to encode the strings to **numeric categorical values**. \n",
        "Encoding ways:\n",
        "1. Manually\n",
        "2. Using *LabelEncoder()* from the Scikit-learn library\n",
        "\n",
        "Feature engineering has two goals primarily: \n",
        "1. Preparing the proper input dataset, compatible with the machine learning algorithm requirements. \n",
        "2. Improving the performance of machine learning models.\n"
      ]
    },
    {
      "cell_type": "code",
      "metadata": {
        "id": "mTWIQPMuOiRS"
      },
      "source": [
        "data=pd.read_csv(\"dataset.csv\")  "
      ],
      "execution_count": null,
      "outputs": []
    },
    {
      "cell_type": "code",
      "metadata": {
        "colab": {
          "base_uri": "https://localhost:8080/",
          "height": 1000
        },
        "id": "8XdRLgTgQuQL",
        "outputId": "924874d6-b980-449c-9e90-882584a0a4aa"
      },
      "source": [
        "# Print list of columns in our dataset \n",
        "features=list(data.columns) \n",
        "for feature in features: print(feature)\n",
        "data.head(10)"
      ],
      "execution_count": null,
      "outputs": [
        {
          "output_type": "stream",
          "text": [
            "Unnamed: 0\n",
            "id\n",
            "season\n",
            "city\n",
            "date\n",
            "team1\n",
            "Pplay T1\n",
            "pplay twick1\n",
            "team2\n",
            "Pplay T2\n",
            "pplay twick2\n",
            "toss_winner\n",
            "toss_decision\n",
            "result\n",
            "dl_applied\n",
            "winner\n",
            "win_by_runs\n",
            "win_by_wickets\n",
            "player_of_match\n",
            "venue\n",
            "Avg 1st Innings Score\n",
            "Avg 2nd Innings Score\n",
            "Pitch Type\n",
            "team1_points\n",
            "team2_points\n",
            "homeground_advantage\n"
          ],
          "name": "stdout"
        },
        {
          "output_type": "execute_result",
          "data": {
            "text/html": [
              "<div>\n",
              "<style scoped>\n",
              "    .dataframe tbody tr th:only-of-type {\n",
              "        vertical-align: middle;\n",
              "    }\n",
              "\n",
              "    .dataframe tbody tr th {\n",
              "        vertical-align: top;\n",
              "    }\n",
              "\n",
              "    .dataframe thead th {\n",
              "        text-align: right;\n",
              "    }\n",
              "</style>\n",
              "<table border=\"1\" class=\"dataframe\">\n",
              "  <thead>\n",
              "    <tr style=\"text-align: right;\">\n",
              "      <th></th>\n",
              "      <th>Unnamed: 0</th>\n",
              "      <th>id</th>\n",
              "      <th>season</th>\n",
              "      <th>city</th>\n",
              "      <th>date</th>\n",
              "      <th>team1</th>\n",
              "      <th>Pplay T1</th>\n",
              "      <th>pplay twick1</th>\n",
              "      <th>team2</th>\n",
              "      <th>Pplay T2</th>\n",
              "      <th>pplay twick2</th>\n",
              "      <th>toss_winner</th>\n",
              "      <th>toss_decision</th>\n",
              "      <th>result</th>\n",
              "      <th>dl_applied</th>\n",
              "      <th>winner</th>\n",
              "      <th>win_by_runs</th>\n",
              "      <th>win_by_wickets</th>\n",
              "      <th>player_of_match</th>\n",
              "      <th>venue</th>\n",
              "      <th>Avg 1st Innings Score</th>\n",
              "      <th>Avg 2nd Innings Score</th>\n",
              "      <th>Pitch Type</th>\n",
              "      <th>team1_points</th>\n",
              "      <th>team2_points</th>\n",
              "      <th>homeground_advantage</th>\n",
              "    </tr>\n",
              "  </thead>\n",
              "  <tbody>\n",
              "    <tr>\n",
              "      <th>0</th>\n",
              "      <td>0</td>\n",
              "      <td>1</td>\n",
              "      <td>2017</td>\n",
              "      <td>Hyderabad</td>\n",
              "      <td>2017-04-05</td>\n",
              "      <td>SRH</td>\n",
              "      <td>59</td>\n",
              "      <td>1</td>\n",
              "      <td>RCB</td>\n",
              "      <td>54</td>\n",
              "      <td>1</td>\n",
              "      <td>RCB</td>\n",
              "      <td>field</td>\n",
              "      <td>normal</td>\n",
              "      <td>0</td>\n",
              "      <td>SRH</td>\n",
              "      <td>35</td>\n",
              "      <td>0</td>\n",
              "      <td>Yuvraj Singh</td>\n",
              "      <td>Rajiv Gandhi International Cricket Stadium</td>\n",
              "      <td>185</td>\n",
              "      <td>175</td>\n",
              "      <td>Batting</td>\n",
              "      <td>660</td>\n",
              "      <td>805</td>\n",
              "      <td>SRH</td>\n",
              "    </tr>\n",
              "    <tr>\n",
              "      <th>1</th>\n",
              "      <td>1</td>\n",
              "      <td>2</td>\n",
              "      <td>2017</td>\n",
              "      <td>Pune</td>\n",
              "      <td>2017-04-06</td>\n",
              "      <td>MI</td>\n",
              "      <td>61</td>\n",
              "      <td>1</td>\n",
              "      <td>RPS</td>\n",
              "      <td>59</td>\n",
              "      <td>1</td>\n",
              "      <td>RPS</td>\n",
              "      <td>field</td>\n",
              "      <td>normal</td>\n",
              "      <td>0</td>\n",
              "      <td>RPS</td>\n",
              "      <td>0</td>\n",
              "      <td>7</td>\n",
              "      <td>SPD Smith</td>\n",
              "      <td>Maharashtra Cricket Association Stadium</td>\n",
              "      <td>160</td>\n",
              "      <td>148</td>\n",
              "      <td>Batting &amp; Spinner Friendly</td>\n",
              "      <td>936</td>\n",
              "      <td>835</td>\n",
              "      <td>none</td>\n",
              "    </tr>\n",
              "    <tr>\n",
              "      <th>2</th>\n",
              "      <td>2</td>\n",
              "      <td>3</td>\n",
              "      <td>2017</td>\n",
              "      <td>Rajkot</td>\n",
              "      <td>2017-04-07</td>\n",
              "      <td>GL</td>\n",
              "      <td>52</td>\n",
              "      <td>1</td>\n",
              "      <td>KKR</td>\n",
              "      <td>73</td>\n",
              "      <td>0</td>\n",
              "      <td>KKR</td>\n",
              "      <td>field</td>\n",
              "      <td>normal</td>\n",
              "      <td>0</td>\n",
              "      <td>KKR</td>\n",
              "      <td>0</td>\n",
              "      <td>10</td>\n",
              "      <td>CA Lynn</td>\n",
              "      <td>Saurashtra Cricket Association Stadium</td>\n",
              "      <td>183</td>\n",
              "      <td>170</td>\n",
              "      <td>Batting</td>\n",
              "      <td>536</td>\n",
              "      <td>812</td>\n",
              "      <td>GL</td>\n",
              "    </tr>\n",
              "    <tr>\n",
              "      <th>3</th>\n",
              "      <td>3</td>\n",
              "      <td>4</td>\n",
              "      <td>2017</td>\n",
              "      <td>Indore</td>\n",
              "      <td>2017-04-08</td>\n",
              "      <td>RPS</td>\n",
              "      <td>35</td>\n",
              "      <td>1</td>\n",
              "      <td>PBKS</td>\n",
              "      <td>56</td>\n",
              "      <td>2</td>\n",
              "      <td>PBKS</td>\n",
              "      <td>field</td>\n",
              "      <td>normal</td>\n",
              "      <td>0</td>\n",
              "      <td>PBKS</td>\n",
              "      <td>0</td>\n",
              "      <td>6</td>\n",
              "      <td>GJ Maxwell</td>\n",
              "      <td>Holkar Cricket Stadium</td>\n",
              "      <td>160</td>\n",
              "      <td>158</td>\n",
              "      <td>Batting</td>\n",
              "      <td>835</td>\n",
              "      <td>768</td>\n",
              "      <td>PBKS</td>\n",
              "    </tr>\n",
              "    <tr>\n",
              "      <th>4</th>\n",
              "      <td>4</td>\n",
              "      <td>5</td>\n",
              "      <td>2017</td>\n",
              "      <td>Bangalore</td>\n",
              "      <td>2017-04-08</td>\n",
              "      <td>RCB</td>\n",
              "      <td>41</td>\n",
              "      <td>2</td>\n",
              "      <td>DC</td>\n",
              "      <td>43</td>\n",
              "      <td>2</td>\n",
              "      <td>RCB</td>\n",
              "      <td>bat</td>\n",
              "      <td>normal</td>\n",
              "      <td>0</td>\n",
              "      <td>RCB</td>\n",
              "      <td>15</td>\n",
              "      <td>0</td>\n",
              "      <td>KM Jadhav</td>\n",
              "      <td>M. Chinnaswamy Stadium</td>\n",
              "      <td>170</td>\n",
              "      <td>150</td>\n",
              "      <td>Batting</td>\n",
              "      <td>805</td>\n",
              "      <td>1178</td>\n",
              "      <td>RCB</td>\n",
              "    </tr>\n",
              "    <tr>\n",
              "      <th>5</th>\n",
              "      <td>5</td>\n",
              "      <td>6</td>\n",
              "      <td>2017</td>\n",
              "      <td>Hyderabad</td>\n",
              "      <td>2017-04-09</td>\n",
              "      <td>GL</td>\n",
              "      <td>40</td>\n",
              "      <td>2</td>\n",
              "      <td>SRH</td>\n",
              "      <td>59</td>\n",
              "      <td>1</td>\n",
              "      <td>SRH</td>\n",
              "      <td>field</td>\n",
              "      <td>normal</td>\n",
              "      <td>0</td>\n",
              "      <td>SRH</td>\n",
              "      <td>0</td>\n",
              "      <td>9</td>\n",
              "      <td>Rashid Khan</td>\n",
              "      <td>Rajiv Gandhi International Cricket Stadium</td>\n",
              "      <td>185</td>\n",
              "      <td>175</td>\n",
              "      <td>Batting</td>\n",
              "      <td>536</td>\n",
              "      <td>660</td>\n",
              "      <td>SRH</td>\n",
              "    </tr>\n",
              "    <tr>\n",
              "      <th>6</th>\n",
              "      <td>6</td>\n",
              "      <td>7</td>\n",
              "      <td>2017</td>\n",
              "      <td>Mumbai</td>\n",
              "      <td>2017-04-09</td>\n",
              "      <td>KKR</td>\n",
              "      <td>59</td>\n",
              "      <td>2</td>\n",
              "      <td>MI</td>\n",
              "      <td>49</td>\n",
              "      <td>0</td>\n",
              "      <td>MI</td>\n",
              "      <td>field</td>\n",
              "      <td>normal</td>\n",
              "      <td>0</td>\n",
              "      <td>MI</td>\n",
              "      <td>0</td>\n",
              "      <td>4</td>\n",
              "      <td>N Rana</td>\n",
              "      <td>Wankhede Stadium</td>\n",
              "      <td>194</td>\n",
              "      <td>182</td>\n",
              "      <td>Both</td>\n",
              "      <td>812</td>\n",
              "      <td>936</td>\n",
              "      <td>MI</td>\n",
              "    </tr>\n",
              "    <tr>\n",
              "      <th>7</th>\n",
              "      <td>7</td>\n",
              "      <td>8</td>\n",
              "      <td>2017</td>\n",
              "      <td>Indore</td>\n",
              "      <td>2017-04-10</td>\n",
              "      <td>RCB</td>\n",
              "      <td>23</td>\n",
              "      <td>3</td>\n",
              "      <td>PBKS</td>\n",
              "      <td>62</td>\n",
              "      <td>1</td>\n",
              "      <td>RCB</td>\n",
              "      <td>bat</td>\n",
              "      <td>normal</td>\n",
              "      <td>0</td>\n",
              "      <td>PBKS</td>\n",
              "      <td>0</td>\n",
              "      <td>8</td>\n",
              "      <td>AR Patel</td>\n",
              "      <td>Holkar Cricket Stadium</td>\n",
              "      <td>160</td>\n",
              "      <td>158</td>\n",
              "      <td>Batting</td>\n",
              "      <td>805</td>\n",
              "      <td>768</td>\n",
              "      <td>PBKS</td>\n",
              "    </tr>\n",
              "    <tr>\n",
              "      <th>8</th>\n",
              "      <td>8</td>\n",
              "      <td>9</td>\n",
              "      <td>2017</td>\n",
              "      <td>Pune</td>\n",
              "      <td>2017-04-11</td>\n",
              "      <td>DC</td>\n",
              "      <td>62</td>\n",
              "      <td>1</td>\n",
              "      <td>RPS</td>\n",
              "      <td>50</td>\n",
              "      <td>3</td>\n",
              "      <td>RPS</td>\n",
              "      <td>field</td>\n",
              "      <td>normal</td>\n",
              "      <td>0</td>\n",
              "      <td>DC</td>\n",
              "      <td>97</td>\n",
              "      <td>0</td>\n",
              "      <td>SV Samson</td>\n",
              "      <td>Maharashtra Cricket Association Stadium</td>\n",
              "      <td>160</td>\n",
              "      <td>148</td>\n",
              "      <td>Batting &amp; Spinner Friendly</td>\n",
              "      <td>1178</td>\n",
              "      <td>835</td>\n",
              "      <td>none</td>\n",
              "    </tr>\n",
              "    <tr>\n",
              "      <th>9</th>\n",
              "      <td>9</td>\n",
              "      <td>10</td>\n",
              "      <td>2017</td>\n",
              "      <td>Mumbai</td>\n",
              "      <td>2017-04-12</td>\n",
              "      <td>SRH</td>\n",
              "      <td>34</td>\n",
              "      <td>0</td>\n",
              "      <td>MI</td>\n",
              "      <td>61</td>\n",
              "      <td>2</td>\n",
              "      <td>MI</td>\n",
              "      <td>field</td>\n",
              "      <td>normal</td>\n",
              "      <td>0</td>\n",
              "      <td>MI</td>\n",
              "      <td>0</td>\n",
              "      <td>4</td>\n",
              "      <td>JJ Bumrah</td>\n",
              "      <td>Wankhede Stadium</td>\n",
              "      <td>194</td>\n",
              "      <td>182</td>\n",
              "      <td>Both</td>\n",
              "      <td>660</td>\n",
              "      <td>936</td>\n",
              "      <td>MI</td>\n",
              "    </tr>\n",
              "  </tbody>\n",
              "</table>\n",
              "</div>"
            ],
            "text/plain": [
              "   Unnamed: 0  id  season  ... team1_points team2_points homeground_advantage\n",
              "0           0   1    2017  ...          660          805                  SRH\n",
              "1           1   2    2017  ...          936          835                 none\n",
              "2           2   3    2017  ...          536          812                   GL\n",
              "3           3   4    2017  ...          835          768                 PBKS\n",
              "4           4   5    2017  ...          805         1178                  RCB\n",
              "5           5   6    2017  ...          536          660                  SRH\n",
              "6           6   7    2017  ...          812          936                   MI\n",
              "7           7   8    2017  ...          805          768                 PBKS\n",
              "8           8   9    2017  ...         1178          835                 none\n",
              "9           9  10    2017  ...          660          936                   MI\n",
              "\n",
              "[10 rows x 26 columns]"
            ]
          },
          "metadata": {
            "tags": []
          },
          "execution_count": 26
        }
      ]
    },
    {
      "cell_type": "markdown",
      "metadata": {
        "id": "z0U3gOwb2Hqr"
      },
      "source": [
        "#### **Significance of each feature:**\n"
      ]
    },
    {
      "cell_type": "markdown",
      "metadata": {
        "id": "LyM8ETwg7NbL"
      },
      "source": [
        "\n",
        "Notations <=> (X == remove feature)\n",
        "\n",
        "*   id --> X\n",
        "*   season  --> X   \n",
        "*   city --> YES\n",
        "*   date --> X\n",
        "*   team1 --> YES\n",
        "*   Pplay T1 --> YES --> powerplay_runs_team1\n",
        "*   pplay twick1 --> YES --> powerplay_wickets_team1\n",
        "*   team2 --> YES\n",
        "*   Pplay T2 --> YES --> powerplay_runs_team2\n",
        "*   pplay twick2 --> YES --> powerplay_wickets_team2\n",
        "*   toss_winner --> YES\n",
        "*   toss_decision--> YES\n",
        "*   result --> X\n",
        "*   dl_applied --> X\n",
        "*   **winner --> LABEL**\n",
        "*   win_by_runs  --> X\n",
        "*   win_by_wickets  --> X\n",
        "*   player_of_match  --> X\n",
        "*   venue  --> YES\n",
        "*   Avg 1st Innings Score --> X\n",
        "*   Avg 2nd Innings Score --> X\n",
        "*   Pitch Type  --> YES\n",
        "*   team1_points  --> YES\n",
        "*   team2_points  --> YES\n",
        "*   homeground_advantage  --> YES\n"
      ]
    },
    {
      "cell_type": "markdown",
      "metadata": {
        "id": "WyXrTtKn5E9Q"
      },
      "source": [
        "#### **Irrelavant features to be removed:**\n",
        "\n"
      ]
    },
    {
      "cell_type": "markdown",
      "metadata": {
        "id": "hhrX4-3h8GmK"
      },
      "source": [
        "\n",
        "--> *Name mein kya rakha h?*\n",
        "*   id --> X\n",
        "*   season  --> X   \n",
        "*   date --> X\n",
        "\n",
        "--> features whose value can only be found once the match is over, since we are predicting before the match is over.\n",
        "*   result --> X\n",
        "*   dl_applied --> X\n",
        "*   win_by_runs \n",
        "*   win_by_wickets \n",
        "*   player_of_match  \n",
        "*   Avg 1st Innings Score\n",
        "*   Avg 2nd Innings Score"
      ]
    },
    {
      "cell_type": "code",
      "metadata": {
        "id": "gTDk-7qDKAkf"
      },
      "source": [
        "\n",
        "# ***********************  DROP UNNECESSARY FIELDS *********************** \n",
        "data.drop(columns=['id', 'season', 'date', 'result', 'dl_applied', 'win_by_runs','win_by_wickets',\n",
        "                    'player_of_match', 'Avg 2nd Innings Score'],  axis=1, inplace=True)\n",
        "# data.drop(columns=['Avg 1st Innings Score', axis=1])"
      ],
      "execution_count": null,
      "outputs": []
    },
    {
      "cell_type": "code",
      "metadata": {
        "id": "v_p5brnQOFnT",
        "colab": {
          "base_uri": "https://localhost:8080/"
        },
        "outputId": "9a4b4f01-2b8f-47d1-c8ed-f85de8e817f6"
      },
      "source": [
        "data.head()"
      ],
      "execution_count": null,
      "outputs": [
        {
          "output_type": "execute_result",
          "data": {
            "text/html": [
              "<div>\n",
              "<style scoped>\n",
              "    .dataframe tbody tr th:only-of-type {\n",
              "        vertical-align: middle;\n",
              "    }\n",
              "\n",
              "    .dataframe tbody tr th {\n",
              "        vertical-align: top;\n",
              "    }\n",
              "\n",
              "    .dataframe thead th {\n",
              "        text-align: right;\n",
              "    }\n",
              "</style>\n",
              "<table border=\"1\" class=\"dataframe\">\n",
              "  <thead>\n",
              "    <tr style=\"text-align: right;\">\n",
              "      <th></th>\n",
              "      <th>Unnamed: 0</th>\n",
              "      <th>city</th>\n",
              "      <th>team1</th>\n",
              "      <th>Pplay T1</th>\n",
              "      <th>pplay twick1</th>\n",
              "      <th>team2</th>\n",
              "      <th>Pplay T2</th>\n",
              "      <th>pplay twick2</th>\n",
              "      <th>toss_winner</th>\n",
              "      <th>toss_decision</th>\n",
              "      <th>winner</th>\n",
              "      <th>venue</th>\n",
              "      <th>Avg 1st Innings Score</th>\n",
              "      <th>Pitch Type</th>\n",
              "      <th>team1_points</th>\n",
              "      <th>team2_points</th>\n",
              "      <th>homeground_advantage</th>\n",
              "    </tr>\n",
              "  </thead>\n",
              "  <tbody>\n",
              "    <tr>\n",
              "      <th>0</th>\n",
              "      <td>0</td>\n",
              "      <td>Hyderabad</td>\n",
              "      <td>SRH</td>\n",
              "      <td>59</td>\n",
              "      <td>1</td>\n",
              "      <td>RCB</td>\n",
              "      <td>54</td>\n",
              "      <td>1</td>\n",
              "      <td>RCB</td>\n",
              "      <td>field</td>\n",
              "      <td>SRH</td>\n",
              "      <td>Rajiv Gandhi International Cricket Stadium</td>\n",
              "      <td>185</td>\n",
              "      <td>Batting</td>\n",
              "      <td>660</td>\n",
              "      <td>805</td>\n",
              "      <td>SRH</td>\n",
              "    </tr>\n",
              "    <tr>\n",
              "      <th>1</th>\n",
              "      <td>1</td>\n",
              "      <td>Pune</td>\n",
              "      <td>MI</td>\n",
              "      <td>61</td>\n",
              "      <td>1</td>\n",
              "      <td>RPS</td>\n",
              "      <td>59</td>\n",
              "      <td>1</td>\n",
              "      <td>RPS</td>\n",
              "      <td>field</td>\n",
              "      <td>RPS</td>\n",
              "      <td>Maharashtra Cricket Association Stadium</td>\n",
              "      <td>160</td>\n",
              "      <td>Batting &amp; Spinner Friendly</td>\n",
              "      <td>936</td>\n",
              "      <td>835</td>\n",
              "      <td>none</td>\n",
              "    </tr>\n",
              "    <tr>\n",
              "      <th>2</th>\n",
              "      <td>2</td>\n",
              "      <td>Rajkot</td>\n",
              "      <td>GL</td>\n",
              "      <td>52</td>\n",
              "      <td>1</td>\n",
              "      <td>KKR</td>\n",
              "      <td>73</td>\n",
              "      <td>0</td>\n",
              "      <td>KKR</td>\n",
              "      <td>field</td>\n",
              "      <td>KKR</td>\n",
              "      <td>Saurashtra Cricket Association Stadium</td>\n",
              "      <td>183</td>\n",
              "      <td>Batting</td>\n",
              "      <td>536</td>\n",
              "      <td>812</td>\n",
              "      <td>GL</td>\n",
              "    </tr>\n",
              "    <tr>\n",
              "      <th>3</th>\n",
              "      <td>3</td>\n",
              "      <td>Indore</td>\n",
              "      <td>RPS</td>\n",
              "      <td>35</td>\n",
              "      <td>1</td>\n",
              "      <td>PBKS</td>\n",
              "      <td>56</td>\n",
              "      <td>2</td>\n",
              "      <td>PBKS</td>\n",
              "      <td>field</td>\n",
              "      <td>PBKS</td>\n",
              "      <td>Holkar Cricket Stadium</td>\n",
              "      <td>160</td>\n",
              "      <td>Batting</td>\n",
              "      <td>835</td>\n",
              "      <td>768</td>\n",
              "      <td>PBKS</td>\n",
              "    </tr>\n",
              "    <tr>\n",
              "      <th>4</th>\n",
              "      <td>4</td>\n",
              "      <td>Bangalore</td>\n",
              "      <td>RCB</td>\n",
              "      <td>41</td>\n",
              "      <td>2</td>\n",
              "      <td>DC</td>\n",
              "      <td>43</td>\n",
              "      <td>2</td>\n",
              "      <td>RCB</td>\n",
              "      <td>bat</td>\n",
              "      <td>RCB</td>\n",
              "      <td>M. Chinnaswamy Stadium</td>\n",
              "      <td>170</td>\n",
              "      <td>Batting</td>\n",
              "      <td>805</td>\n",
              "      <td>1178</td>\n",
              "      <td>RCB</td>\n",
              "    </tr>\n",
              "  </tbody>\n",
              "</table>\n",
              "</div>"
            ],
            "text/plain": [
              "   Unnamed: 0       city team1  ...  team1_points  team2_points homeground_advantage\n",
              "0           0  Hyderabad   SRH  ...           660           805                  SRH\n",
              "1           1       Pune    MI  ...           936           835                 none\n",
              "2           2     Rajkot    GL  ...           536           812                   GL\n",
              "3           3     Indore   RPS  ...           835           768                 PBKS\n",
              "4           4  Bangalore   RCB  ...           805          1178                  RCB\n",
              "\n",
              "[5 rows x 17 columns]"
            ]
          },
          "metadata": {
            "tags": []
          },
          "execution_count": 28
        }
      ]
    },
    {
      "cell_type": "markdown",
      "metadata": {
        "id": "nx5dL2hpDmq2"
      },
      "source": [
        "#### **RENAMING**"
      ]
    },
    {
      "cell_type": "markdown",
      "metadata": {
        "id": "Hz4W2Q1jDq45"
      },
      "source": [
        "*   Pplay T1 --> powerplay_runs_team1\n",
        "*   pplay twick1 --> powerplay_wickets_team1\n",
        "*   Pplay T2 --> powerplay_runs_team2\n",
        "*   pplay twick2 --> powerplay_wickets_team2\n"
      ]
    },
    {
      "cell_type": "code",
      "metadata": {
        "id": "SRmnpzlZKsYM",
        "colab": {
          "base_uri": "https://localhost:8080/"
        },
        "outputId": "e28916f1-1c24-4612-8f19-94d937b2a962"
      },
      "source": [
        "data=data.rename(columns={\n",
        "    \"Pplay T1\": \"powerplay_runs_team1\", \n",
        "    \"pplay twick1\": \"powerplay_wickets_team1\",\n",
        "    \"Pplay T2\": \"powerplay_runs_team2\", \n",
        "    \"pplay twick2\": \"powerplay_wickets_team2\",\n",
        "    \"Pitch Type\": \"pitch_type\"\n",
        "})\n",
        "data.head()"
      ],
      "execution_count": null,
      "outputs": [
        {
          "output_type": "execute_result",
          "data": {
            "text/html": [
              "<div>\n",
              "<style scoped>\n",
              "    .dataframe tbody tr th:only-of-type {\n",
              "        vertical-align: middle;\n",
              "    }\n",
              "\n",
              "    .dataframe tbody tr th {\n",
              "        vertical-align: top;\n",
              "    }\n",
              "\n",
              "    .dataframe thead th {\n",
              "        text-align: right;\n",
              "    }\n",
              "</style>\n",
              "<table border=\"1\" class=\"dataframe\">\n",
              "  <thead>\n",
              "    <tr style=\"text-align: right;\">\n",
              "      <th></th>\n",
              "      <th>Unnamed: 0</th>\n",
              "      <th>city</th>\n",
              "      <th>team1</th>\n",
              "      <th>powerplay_runs_team1</th>\n",
              "      <th>powerplay_wickets_team1</th>\n",
              "      <th>team2</th>\n",
              "      <th>powerplay_runs_team2</th>\n",
              "      <th>powerplay_wickets_team2</th>\n",
              "      <th>toss_winner</th>\n",
              "      <th>toss_decision</th>\n",
              "      <th>winner</th>\n",
              "      <th>venue</th>\n",
              "      <th>Avg 1st Innings Score</th>\n",
              "      <th>pitch_type</th>\n",
              "      <th>team1_points</th>\n",
              "      <th>team2_points</th>\n",
              "      <th>homeground_advantage</th>\n",
              "    </tr>\n",
              "  </thead>\n",
              "  <tbody>\n",
              "    <tr>\n",
              "      <th>0</th>\n",
              "      <td>0</td>\n",
              "      <td>Hyderabad</td>\n",
              "      <td>SRH</td>\n",
              "      <td>59</td>\n",
              "      <td>1</td>\n",
              "      <td>RCB</td>\n",
              "      <td>54</td>\n",
              "      <td>1</td>\n",
              "      <td>RCB</td>\n",
              "      <td>field</td>\n",
              "      <td>SRH</td>\n",
              "      <td>Rajiv Gandhi International Cricket Stadium</td>\n",
              "      <td>185</td>\n",
              "      <td>Batting</td>\n",
              "      <td>660</td>\n",
              "      <td>805</td>\n",
              "      <td>SRH</td>\n",
              "    </tr>\n",
              "    <tr>\n",
              "      <th>1</th>\n",
              "      <td>1</td>\n",
              "      <td>Pune</td>\n",
              "      <td>MI</td>\n",
              "      <td>61</td>\n",
              "      <td>1</td>\n",
              "      <td>RPS</td>\n",
              "      <td>59</td>\n",
              "      <td>1</td>\n",
              "      <td>RPS</td>\n",
              "      <td>field</td>\n",
              "      <td>RPS</td>\n",
              "      <td>Maharashtra Cricket Association Stadium</td>\n",
              "      <td>160</td>\n",
              "      <td>Batting &amp; Spinner Friendly</td>\n",
              "      <td>936</td>\n",
              "      <td>835</td>\n",
              "      <td>none</td>\n",
              "    </tr>\n",
              "    <tr>\n",
              "      <th>2</th>\n",
              "      <td>2</td>\n",
              "      <td>Rajkot</td>\n",
              "      <td>GL</td>\n",
              "      <td>52</td>\n",
              "      <td>1</td>\n",
              "      <td>KKR</td>\n",
              "      <td>73</td>\n",
              "      <td>0</td>\n",
              "      <td>KKR</td>\n",
              "      <td>field</td>\n",
              "      <td>KKR</td>\n",
              "      <td>Saurashtra Cricket Association Stadium</td>\n",
              "      <td>183</td>\n",
              "      <td>Batting</td>\n",
              "      <td>536</td>\n",
              "      <td>812</td>\n",
              "      <td>GL</td>\n",
              "    </tr>\n",
              "    <tr>\n",
              "      <th>3</th>\n",
              "      <td>3</td>\n",
              "      <td>Indore</td>\n",
              "      <td>RPS</td>\n",
              "      <td>35</td>\n",
              "      <td>1</td>\n",
              "      <td>PBKS</td>\n",
              "      <td>56</td>\n",
              "      <td>2</td>\n",
              "      <td>PBKS</td>\n",
              "      <td>field</td>\n",
              "      <td>PBKS</td>\n",
              "      <td>Holkar Cricket Stadium</td>\n",
              "      <td>160</td>\n",
              "      <td>Batting</td>\n",
              "      <td>835</td>\n",
              "      <td>768</td>\n",
              "      <td>PBKS</td>\n",
              "    </tr>\n",
              "    <tr>\n",
              "      <th>4</th>\n",
              "      <td>4</td>\n",
              "      <td>Bangalore</td>\n",
              "      <td>RCB</td>\n",
              "      <td>41</td>\n",
              "      <td>2</td>\n",
              "      <td>DC</td>\n",
              "      <td>43</td>\n",
              "      <td>2</td>\n",
              "      <td>RCB</td>\n",
              "      <td>bat</td>\n",
              "      <td>RCB</td>\n",
              "      <td>M. Chinnaswamy Stadium</td>\n",
              "      <td>170</td>\n",
              "      <td>Batting</td>\n",
              "      <td>805</td>\n",
              "      <td>1178</td>\n",
              "      <td>RCB</td>\n",
              "    </tr>\n",
              "  </tbody>\n",
              "</table>\n",
              "</div>"
            ],
            "text/plain": [
              "   Unnamed: 0       city team1  ...  team1_points  team2_points homeground_advantage\n",
              "0           0  Hyderabad   SRH  ...           660           805                  SRH\n",
              "1           1       Pune    MI  ...           936           835                 none\n",
              "2           2     Rajkot    GL  ...           536           812                   GL\n",
              "3           3     Indore   RPS  ...           835           768                 PBKS\n",
              "4           4  Bangalore   RCB  ...           805          1178                  RCB\n",
              "\n",
              "[5 rows x 17 columns]"
            ]
          },
          "metadata": {
            "tags": []
          },
          "execution_count": 29
        }
      ]
    },
    {
      "cell_type": "markdown",
      "metadata": {
        "id": "DmtNtjjr79K-"
      },
      "source": [
        "\n",
        "#### **Features to be further analyzed:**\n"
      ]
    },
    {
      "cell_type": "markdown",
      "metadata": {
        "id": "EE_qadG38ByI"
      },
      "source": [
        "\n",
        "*   city --> ENCODING\n",
        "*   team1 --> ENCODING\n",
        "*   Pplay T1 --> powerplay_runs_team1\n",
        "*   pplay twick1 --> powerplay_wickets_team1\n",
        "*   team2 --> ENCODING\n",
        "*   Pplay T2 --> powerplay_runs_team2\n",
        "*   pplay twick2 --> powerplay_wickets_team2\n",
        "*   toss_winner --> DERIVE NEW FEATURE\n",
        "*   toss_decision--> DERIVE NEW FEATURE\n",
        "*   venue  --> ENCODING\n",
        "*   Pitch Type  --> ENCODING\n",
        "*   team1_points  --> -\n",
        "*   team2_points  --> -\n",
        "*   homeground_advantage  --> ENCODING\n",
        "\n",
        "*   **winner --> LABEL** --> DERIVE NEW FEATURE"
      ]
    },
    {
      "cell_type": "markdown",
      "metadata": {
        "id": "CyNzb-JPSGyI"
      },
      "source": [
        "#### **ENCODING**"
      ]
    },
    {
      "cell_type": "markdown",
      "metadata": {
        "id": "IcGEeZG79i9g"
      },
      "source": [
        "##### *   city --> ENCODING FROM 1 TO COUNT(city.unique())"
      ]
    },
    {
      "cell_type": "code",
      "metadata": {
        "id": "BSjpDIU5EsVN",
        "colab": {
          "base_uri": "https://localhost:8080/"
        },
        "outputId": "066172a2-13d0-44d1-f25d-1e977d2aeb26"
      },
      "source": [
        "# encode city\n",
        "IPL_city=list(set(data['city']))\n",
        "count=1  \n",
        "encoding_key={}\n",
        "for city in IPL_city:\n",
        "  encoding_key[city]=count\n",
        "  data.replace(city, count, inplace=True)\n",
        "  count += 1\n",
        "print(\"Encoding for city: \", encoding_key)"
      ],
      "execution_count": null,
      "outputs": [
        {
          "output_type": "stream",
          "text": [
            "Encoding for city:  {'Rajkot': 1, 'Dubai': 2, 'East London': 3, 'Ahmedabad': 4, 'Sharjah': 5, 'Delhi': 6, 'Jaipur': 7, 'Kimberley': 8, 'Mohali': 9, 'Nagpur': 10, 'Abu Dhabi': 11, 'Cuttack': 12, 'Cape Town': 13, 'Bangalore': 14, 'Johannesburg': 15, 'Hyderabad': 16, 'Kochi': 17, 'Mumbai': 18, 'Durban': 19, 'Kolkata': 20, 'Visakhapatnam': 21, 'Dharamsala': 22, 'Ranchi': 23, 'Raipur': 24, 'Chennai': 25, 'Port Elizabeth': 26, 'Indore': 27, 'Pune': 28, 'Bloemfontein': 29, 'Centurion': 30, 'Kanpur': 31}\n"
          ],
          "name": "stdout"
        }
      ]
    },
    {
      "cell_type": "markdown",
      "metadata": {
        "id": "hGqT1tZ_E2yx"
      },
      "source": [
        "##### *   venue  --> ENCODING FROM 1 TO COUNT(venue.unique())"
      ]
    },
    {
      "cell_type": "code",
      "metadata": {
        "id": "it2t8NpQE3Ds",
        "colab": {
          "base_uri": "https://localhost:8080/"
        },
        "outputId": "812ccade-fc5c-4046-dcb0-4f0b0199b3df"
      },
      "source": [
        "# encode venue\n",
        "IPL_venue=list(set(data['venue']))\n",
        "count=1  \n",
        "encoding_key={}\n",
        "for venue in IPL_venue:\n",
        "  encoding_key[venue]=count\n",
        "  data.replace(venue, count, inplace=True)\n",
        "  count += 1\n",
        "print(\"Encoding for venue: \", encoding_key)"
      ],
      "execution_count": null,
      "outputs": [
        {
          "output_type": "stream",
          "text": [
            "Encoding for venue:  {'Punjab Cricket Association IS Bindra Stadium': 1, 'Holkar Cricket Stadium': 2, 'Dr DY Patil Sports Academy': 3, 'Sawai Mansingh Stadium': 4, 'Wankhede Stadium': 5, 'SuperSport Park': 6, 'New Wanderers Stadium': 7, 'Maharashtra Cricket Association Stadium': 8, 'ACA-VDCA Stadium': 9, 'Barabati Stadium': 10, 'Buffalo Park': 11, 'OUTsurance Oval': 12, 'Shaheed Veer Narayan Singh International Stadium': 13, 'Vidarbha Cricket Association Stadium, Jamtha': 14, 'Newlands': 15, 'Sharjah Cricket Stadium': 16, 'M. Chinnaswamy Stadium': 17, \"St George's Park\": 18, 'Nehru Stadium': 19, 'Eden Gardens': 20, 'Brabourne Stadium': 21, 'Green Park': 22, 'Sardar Patel Stadium, Motera': 23, 'JSCA International Stadium Complex': 24, 'De Beers Diamond Oval': 25, 'Himachal Pradesh Cricket Association Stadium': 26, 'Dr. Y.S. Rajasekhara Reddy ACA-VDCA Cricket Stadium': 27, 'Arun Jaitley Stadium': 28, 'Dubai International Cricket Stadium': 29, 'Rajiv Gandhi International Cricket Stadium': 30, 'Sheikh Zayed Stadium': 31, 'Saurashtra Cricket Association Stadium': 32, 'Kingsmead': 33, 'M. A. Chidambaram Stadium': 34}\n"
          ],
          "name": "stdout"
        }
      ]
    },
    {
      "cell_type": "markdown",
      "metadata": {
        "id": "xY18Y2g5Ehc1"
      },
      "source": [
        "##### *   team1, team2 --> ENCODING FROM 1 TO COUNT(team1.unique()+team2.unique())"
      ]
    },
    {
      "cell_type": "code",
      "metadata": {
        "id": "YpKvgy60FUep",
        "colab": {
          "base_uri": "https://localhost:8080/"
        },
        "outputId": "115890ca-176d-4963-9a79-e94a663afc7a"
      },
      "source": [
        "# encode teams\n",
        "IPL_teams=list(set(data['team1']).union(set(data['team2'])))\n",
        "count=1  \n",
        "encoding_key={}\n",
        "for team_name in IPL_teams:\n",
        "  encoding_key[team_name]=count\n",
        "  data.replace(team_name, count, inplace=True)\n",
        "  count += 1\n",
        "print(\"Encoding for teams: \", encoding_key)"
      ],
      "execution_count": null,
      "outputs": [
        {
          "output_type": "stream",
          "text": [
            "Encoding for teams:  {'PBKS': 1, 'RCB': 2, 'KKR': 3, 'GL': 4, 'MI': 5, 'DC': 6, 'RPS': 7, 'KTK': 8, 'SRH': 9, 'CSK': 10, 'RR': 11, 'PWI': 12}\n"
          ],
          "name": "stdout"
        }
      ]
    },
    {
      "cell_type": "markdown",
      "metadata": {
        "id": "lOuPrtA-EXZe"
      },
      "source": [
        "##### *   Pitch Type  --> ENCODING AS 'Bowling' = -1, 'Batting & Spinner Friendly' = -2, 'Both' = 2, 'Batting' = 1"
      ]
    },
    {
      "cell_type": "code",
      "metadata": {
        "id": "ib6JFzgYEEok",
        "colab": {
          "base_uri": "https://localhost:8080/"
        },
        "outputId": "45474809-8439-448c-d584-fcb007f39b04"
      },
      "source": [
        "print(set(data['pitch_type']))"
      ],
      "execution_count": null,
      "outputs": [
        {
          "output_type": "stream",
          "text": [
            "{'Both', 'Batting', 'Bowling', 'Batting & Spinner Friendly'}\n"
          ],
          "name": "stdout"
        }
      ]
    },
    {
      "cell_type": "code",
      "metadata": {
        "id": "UCkI5EI5EQg1"
      },
      "source": [
        "# encode pitch type\n",
        "data.replace(\"Batting & Spinner Friendly\", -2, inplace=True)\n",
        "data.replace(\"Bowling\", -1, inplace=True)\n",
        "data.replace(\"Batting\", 1, inplace=True)\n",
        "data.replace(\"Both\", 2, inplace=True)"
      ],
      "execution_count": null,
      "outputs": []
    },
    {
      "cell_type": "markdown",
      "metadata": {
        "id": "tG1AUmKSEZOR"
      },
      "source": [
        "##### *   homeground_advantage  --> ENCODING"
      ]
    },
    {
      "cell_type": "code",
      "metadata": {
        "id": "ZJdQTBTTHTTK",
        "colab": {
          "base_uri": "https://localhost:8080/"
        },
        "outputId": "4d5b32fd-e4a3-47b0-b25a-af967cfdd580"
      },
      "source": [
        "print(set(data['homeground_advantage']))"
      ],
      "execution_count": null,
      "outputs": [
        {
          "output_type": "stream",
          "text": [
            "{1, 2, 3, 4, 5, 6, 'overseas', 8, 9, 10, 11, 'none', 12, 7}\n"
          ],
          "name": "stdout"
        }
      ]
    },
    {
      "cell_type": "code",
      "metadata": {
        "id": "DuaYRc25HY3U",
        "colab": {
          "base_uri": "https://localhost:8080/"
        },
        "outputId": "52393258-3af7-441f-ad95-dc1782c9131e"
      },
      "source": [
        "# encode pitch type\n",
        "# 0: no teams has advantage\n",
        "# +1: team 1 has advantage\n",
        "# +2: team 2 has advantage\n",
        "# +3: both teams has advantage\n",
        "\n",
        "data.replace(\"none\", 0, inplace=True)\n",
        "data.replace(\"overseas\", 0, inplace=True)\n",
        "data.replace(\"both\", +3, inplace=True)\n",
        "data.loc[(data.team1 == data.homeground_advantage), 'homeground_advantage'] = +1\n",
        "data.loc[(data.team2 == data.homeground_advantage), 'homeground_advantage'] = +2\n",
        "\n",
        "print(\"Encoding keys: \", set(data['homeground_advantage']))"
      ],
      "execution_count": null,
      "outputs": [
        {
          "output_type": "stream",
          "text": [
            "Encoding keys:  {0, 1, 2}\n"
          ],
          "name": "stdout"
        }
      ]
    },
    {
      "cell_type": "markdown",
      "metadata": {
        "id": "dZp8QmxaXjgS"
      },
      "source": [
        "##### *  toss_decision  --> ENCODING: bat:0, field:0"
      ]
    },
    {
      "cell_type": "code",
      "metadata": {
        "id": "6f5pd8kqXjzJ"
      },
      "source": [
        "data.loc[data[\"toss_decision\"]==\"bat\",\"toss_decision\"]=1\n",
        "data.loc[data[\"toss_decision\"]==\"field\",\"toss_decision\"]=0"
      ],
      "execution_count": null,
      "outputs": []
    },
    {
      "cell_type": "code",
      "metadata": {
        "id": "GaJ8abZyJniJ",
        "colab": {
          "base_uri": "https://localhost:8080/"
        },
        "outputId": "5b6041d4-0c44-4248-adc2-830ea7cfdb77"
      },
      "source": [
        "data.head(15)"
      ],
      "execution_count": null,
      "outputs": [
        {
          "output_type": "execute_result",
          "data": {
            "text/html": [
              "<div>\n",
              "<style scoped>\n",
              "    .dataframe tbody tr th:only-of-type {\n",
              "        vertical-align: middle;\n",
              "    }\n",
              "\n",
              "    .dataframe tbody tr th {\n",
              "        vertical-align: top;\n",
              "    }\n",
              "\n",
              "    .dataframe thead th {\n",
              "        text-align: right;\n",
              "    }\n",
              "</style>\n",
              "<table border=\"1\" class=\"dataframe\">\n",
              "  <thead>\n",
              "    <tr style=\"text-align: right;\">\n",
              "      <th></th>\n",
              "      <th>Unnamed: 0</th>\n",
              "      <th>city</th>\n",
              "      <th>team1</th>\n",
              "      <th>powerplay_runs_team1</th>\n",
              "      <th>powerplay_wickets_team1</th>\n",
              "      <th>team2</th>\n",
              "      <th>powerplay_runs_team2</th>\n",
              "      <th>powerplay_wickets_team2</th>\n",
              "      <th>toss_winner</th>\n",
              "      <th>toss_decision</th>\n",
              "      <th>winner</th>\n",
              "      <th>venue</th>\n",
              "      <th>Avg 1st Innings Score</th>\n",
              "      <th>pitch_type</th>\n",
              "      <th>team1_points</th>\n",
              "      <th>team2_points</th>\n",
              "      <th>homeground_advantage</th>\n",
              "    </tr>\n",
              "  </thead>\n",
              "  <tbody>\n",
              "    <tr>\n",
              "      <th>0</th>\n",
              "      <td>0</td>\n",
              "      <td>16</td>\n",
              "      <td>9</td>\n",
              "      <td>59</td>\n",
              "      <td>1</td>\n",
              "      <td>2</td>\n",
              "      <td>54</td>\n",
              "      <td>1</td>\n",
              "      <td>2</td>\n",
              "      <td>0</td>\n",
              "      <td>9</td>\n",
              "      <td>30</td>\n",
              "      <td>185</td>\n",
              "      <td>1</td>\n",
              "      <td>660</td>\n",
              "      <td>805</td>\n",
              "      <td>1</td>\n",
              "    </tr>\n",
              "    <tr>\n",
              "      <th>1</th>\n",
              "      <td>1</td>\n",
              "      <td>28</td>\n",
              "      <td>5</td>\n",
              "      <td>61</td>\n",
              "      <td>1</td>\n",
              "      <td>7</td>\n",
              "      <td>59</td>\n",
              "      <td>1</td>\n",
              "      <td>7</td>\n",
              "      <td>0</td>\n",
              "      <td>7</td>\n",
              "      <td>8</td>\n",
              "      <td>160</td>\n",
              "      <td>-2</td>\n",
              "      <td>936</td>\n",
              "      <td>835</td>\n",
              "      <td>0</td>\n",
              "    </tr>\n",
              "    <tr>\n",
              "      <th>2</th>\n",
              "      <td>2</td>\n",
              "      <td>1</td>\n",
              "      <td>4</td>\n",
              "      <td>52</td>\n",
              "      <td>1</td>\n",
              "      <td>3</td>\n",
              "      <td>73</td>\n",
              "      <td>0</td>\n",
              "      <td>3</td>\n",
              "      <td>0</td>\n",
              "      <td>3</td>\n",
              "      <td>32</td>\n",
              "      <td>183</td>\n",
              "      <td>1</td>\n",
              "      <td>536</td>\n",
              "      <td>812</td>\n",
              "      <td>1</td>\n",
              "    </tr>\n",
              "    <tr>\n",
              "      <th>3</th>\n",
              "      <td>3</td>\n",
              "      <td>27</td>\n",
              "      <td>7</td>\n",
              "      <td>35</td>\n",
              "      <td>1</td>\n",
              "      <td>1</td>\n",
              "      <td>56</td>\n",
              "      <td>2</td>\n",
              "      <td>1</td>\n",
              "      <td>0</td>\n",
              "      <td>1</td>\n",
              "      <td>2</td>\n",
              "      <td>160</td>\n",
              "      <td>1</td>\n",
              "      <td>835</td>\n",
              "      <td>768</td>\n",
              "      <td>2</td>\n",
              "    </tr>\n",
              "    <tr>\n",
              "      <th>4</th>\n",
              "      <td>4</td>\n",
              "      <td>14</td>\n",
              "      <td>2</td>\n",
              "      <td>41</td>\n",
              "      <td>2</td>\n",
              "      <td>6</td>\n",
              "      <td>43</td>\n",
              "      <td>2</td>\n",
              "      <td>2</td>\n",
              "      <td>1</td>\n",
              "      <td>2</td>\n",
              "      <td>17</td>\n",
              "      <td>170</td>\n",
              "      <td>1</td>\n",
              "      <td>805</td>\n",
              "      <td>1178</td>\n",
              "      <td>1</td>\n",
              "    </tr>\n",
              "    <tr>\n",
              "      <th>5</th>\n",
              "      <td>5</td>\n",
              "      <td>16</td>\n",
              "      <td>4</td>\n",
              "      <td>40</td>\n",
              "      <td>2</td>\n",
              "      <td>9</td>\n",
              "      <td>59</td>\n",
              "      <td>1</td>\n",
              "      <td>9</td>\n",
              "      <td>0</td>\n",
              "      <td>9</td>\n",
              "      <td>30</td>\n",
              "      <td>185</td>\n",
              "      <td>1</td>\n",
              "      <td>536</td>\n",
              "      <td>660</td>\n",
              "      <td>2</td>\n",
              "    </tr>\n",
              "    <tr>\n",
              "      <th>6</th>\n",
              "      <td>6</td>\n",
              "      <td>18</td>\n",
              "      <td>3</td>\n",
              "      <td>59</td>\n",
              "      <td>2</td>\n",
              "      <td>5</td>\n",
              "      <td>49</td>\n",
              "      <td>0</td>\n",
              "      <td>5</td>\n",
              "      <td>0</td>\n",
              "      <td>5</td>\n",
              "      <td>5</td>\n",
              "      <td>194</td>\n",
              "      <td>2</td>\n",
              "      <td>812</td>\n",
              "      <td>936</td>\n",
              "      <td>2</td>\n",
              "    </tr>\n",
              "    <tr>\n",
              "      <th>7</th>\n",
              "      <td>7</td>\n",
              "      <td>27</td>\n",
              "      <td>2</td>\n",
              "      <td>23</td>\n",
              "      <td>3</td>\n",
              "      <td>1</td>\n",
              "      <td>62</td>\n",
              "      <td>1</td>\n",
              "      <td>2</td>\n",
              "      <td>1</td>\n",
              "      <td>1</td>\n",
              "      <td>2</td>\n",
              "      <td>160</td>\n",
              "      <td>1</td>\n",
              "      <td>805</td>\n",
              "      <td>768</td>\n",
              "      <td>2</td>\n",
              "    </tr>\n",
              "    <tr>\n",
              "      <th>8</th>\n",
              "      <td>8</td>\n",
              "      <td>28</td>\n",
              "      <td>6</td>\n",
              "      <td>62</td>\n",
              "      <td>1</td>\n",
              "      <td>7</td>\n",
              "      <td>50</td>\n",
              "      <td>3</td>\n",
              "      <td>7</td>\n",
              "      <td>0</td>\n",
              "      <td>6</td>\n",
              "      <td>8</td>\n",
              "      <td>160</td>\n",
              "      <td>-2</td>\n",
              "      <td>1178</td>\n",
              "      <td>835</td>\n",
              "      <td>0</td>\n",
              "    </tr>\n",
              "    <tr>\n",
              "      <th>9</th>\n",
              "      <td>9</td>\n",
              "      <td>18</td>\n",
              "      <td>9</td>\n",
              "      <td>34</td>\n",
              "      <td>0</td>\n",
              "      <td>5</td>\n",
              "      <td>61</td>\n",
              "      <td>2</td>\n",
              "      <td>5</td>\n",
              "      <td>0</td>\n",
              "      <td>5</td>\n",
              "      <td>5</td>\n",
              "      <td>194</td>\n",
              "      <td>2</td>\n",
              "      <td>660</td>\n",
              "      <td>936</td>\n",
              "      <td>2</td>\n",
              "    </tr>\n",
              "    <tr>\n",
              "      <th>10</th>\n",
              "      <td>10</td>\n",
              "      <td>20</td>\n",
              "      <td>1</td>\n",
              "      <td>57</td>\n",
              "      <td>1</td>\n",
              "      <td>3</td>\n",
              "      <td>76</td>\n",
              "      <td>1</td>\n",
              "      <td>3</td>\n",
              "      <td>0</td>\n",
              "      <td>3</td>\n",
              "      <td>20</td>\n",
              "      <td>143</td>\n",
              "      <td>1</td>\n",
              "      <td>768</td>\n",
              "      <td>812</td>\n",
              "      <td>2</td>\n",
              "    </tr>\n",
              "    <tr>\n",
              "      <th>11</th>\n",
              "      <td>11</td>\n",
              "      <td>14</td>\n",
              "      <td>2</td>\n",
              "      <td>41</td>\n",
              "      <td>0</td>\n",
              "      <td>5</td>\n",
              "      <td>21</td>\n",
              "      <td>4</td>\n",
              "      <td>5</td>\n",
              "      <td>0</td>\n",
              "      <td>5</td>\n",
              "      <td>17</td>\n",
              "      <td>170</td>\n",
              "      <td>1</td>\n",
              "      <td>805</td>\n",
              "      <td>936</td>\n",
              "      <td>1</td>\n",
              "    </tr>\n",
              "    <tr>\n",
              "      <th>12</th>\n",
              "      <td>12</td>\n",
              "      <td>1</td>\n",
              "      <td>7</td>\n",
              "      <td>64</td>\n",
              "      <td>2</td>\n",
              "      <td>4</td>\n",
              "      <td>61</td>\n",
              "      <td>0</td>\n",
              "      <td>4</td>\n",
              "      <td>0</td>\n",
              "      <td>4</td>\n",
              "      <td>32</td>\n",
              "      <td>183</td>\n",
              "      <td>1</td>\n",
              "      <td>835</td>\n",
              "      <td>536</td>\n",
              "      <td>2</td>\n",
              "    </tr>\n",
              "    <tr>\n",
              "      <th>13</th>\n",
              "      <td>13</td>\n",
              "      <td>20</td>\n",
              "      <td>3</td>\n",
              "      <td>40</td>\n",
              "      <td>2</td>\n",
              "      <td>9</td>\n",
              "      <td>45</td>\n",
              "      <td>0</td>\n",
              "      <td>9</td>\n",
              "      <td>0</td>\n",
              "      <td>3</td>\n",
              "      <td>20</td>\n",
              "      <td>143</td>\n",
              "      <td>1</td>\n",
              "      <td>812</td>\n",
              "      <td>660</td>\n",
              "      <td>1</td>\n",
              "    </tr>\n",
              "    <tr>\n",
              "      <th>14</th>\n",
              "      <td>14</td>\n",
              "      <td>6</td>\n",
              "      <td>6</td>\n",
              "      <td>49</td>\n",
              "      <td>0</td>\n",
              "      <td>1</td>\n",
              "      <td>40</td>\n",
              "      <td>3</td>\n",
              "      <td>6</td>\n",
              "      <td>1</td>\n",
              "      <td>6</td>\n",
              "      <td>28</td>\n",
              "      <td>156</td>\n",
              "      <td>2</td>\n",
              "      <td>1178</td>\n",
              "      <td>768</td>\n",
              "      <td>2</td>\n",
              "    </tr>\n",
              "  </tbody>\n",
              "</table>\n",
              "</div>"
            ],
            "text/plain": [
              "    Unnamed: 0  city  team1  ...  team1_points  team2_points  homeground_advantage\n",
              "0            0    16      9  ...           660           805                     1\n",
              "1            1    28      5  ...           936           835                     0\n",
              "2            2     1      4  ...           536           812                     1\n",
              "3            3    27      7  ...           835           768                     2\n",
              "4            4    14      2  ...           805          1178                     1\n",
              "5            5    16      4  ...           536           660                     2\n",
              "6            6    18      3  ...           812           936                     2\n",
              "7            7    27      2  ...           805           768                     2\n",
              "8            8    28      6  ...          1178           835                     0\n",
              "9            9    18      9  ...           660           936                     2\n",
              "10          10    20      1  ...           768           812                     2\n",
              "11          11    14      2  ...           805           936                     1\n",
              "12          12     1      7  ...           835           536                     2\n",
              "13          13    20      3  ...           812           660                     1\n",
              "14          14     6      6  ...          1178           768                     2\n",
              "\n",
              "[15 rows x 17 columns]"
            ]
          },
          "metadata": {
            "tags": []
          },
          "execution_count": 38
        }
      ]
    },
    {
      "cell_type": "markdown",
      "metadata": {
        "id": "i972nm4VDswC"
      },
      "source": [
        "#### **NEW COLUMNS**"
      ]
    },
    {
      "cell_type": "markdown",
      "metadata": {
        "id": "Wo_TsUyfDw_y"
      },
      "source": [
        "*   winner --> team1_win\n",
        "*   toss_winner --> team1_toss_win\n",
        "*   toss_decision --> team1_bat\n",
        "*   teampoint_diff --> teampoint_diff\n"
      ]
    },
    {
      "cell_type": "code",
      "metadata": {
        "id": "EW_rSvlOJ2sd"
      },
      "source": [
        "\n",
        "# ***********************  NEW FIELD : BOOLEAN  ***********************  \n",
        "\n",
        "# LOCATION: 1 => winner --> team1_win\n",
        "# 'winner' => 'team1_win' : team1 wins the match (1) ? else (0)\n",
        "# outcome variable team1_win as a probability of team1 winning the match\n",
        "data.loc[data[\"winner\"]==data[\"team1\"],\"team1_win\"]=1\n",
        "data.loc[data[\"winner\"]!=data[\"team1\"],\"team1_win\"]=0\n",
        "\n",
        "# LOCATION: 2 => toss_winner --> team1_toss_win\n",
        "# 'toss_winner' => 'team1_toss_win' : team1 wins the toss (1) ? else (0)\n",
        "#outcome variable team1_toss_win as a value of team1 winning the toss\n",
        "data.loc[data[\"toss_winner\"]==data[\"team1\"],\"team1_toss_win\"]=1\n",
        "data.loc[data[\"toss_winner\"]!=data[\"team1\"],\"team1_toss_win\"]=0\n",
        "\n",
        "# LOCATION: 3 => toss_decision --> team1_bat\n",
        "# 'toss_decision' => 'team1_bat' : team1 bats first (1) ? else (0)\n",
        "#outcome variable team1_bat to depict if team1 bats first\n",
        "data[\"team1_bat\"]=0\n",
        "data.loc[(data[\"team1_toss_win\"]==1) & (data[\"toss_decision\"]==1),\"team1_bat\"]=1\n",
        "\n",
        "# ***********************  NEW FIELD : DERIVED  ***********************  \n",
        "\n",
        "# LOCATION: 4 => teampoint_diff --> teampoint_diff\n",
        "data['teampoint_diff']=data['team2_points']-data['team1_points']"
      ],
      "execution_count": null,
      "outputs": []
    },
    {
      "cell_type": "code",
      "metadata": {
        "id": "jkgxPDmiT5DQ",
        "colab": {
          "base_uri": "https://localhost:8080/"
        },
        "outputId": "242f57d2-290b-4812-bab8-6402a1f94369"
      },
      "source": [
        "data.head(10)"
      ],
      "execution_count": null,
      "outputs": [
        {
          "output_type": "execute_result",
          "data": {
            "text/html": [
              "<div>\n",
              "<style scoped>\n",
              "    .dataframe tbody tr th:only-of-type {\n",
              "        vertical-align: middle;\n",
              "    }\n",
              "\n",
              "    .dataframe tbody tr th {\n",
              "        vertical-align: top;\n",
              "    }\n",
              "\n",
              "    .dataframe thead th {\n",
              "        text-align: right;\n",
              "    }\n",
              "</style>\n",
              "<table border=\"1\" class=\"dataframe\">\n",
              "  <thead>\n",
              "    <tr style=\"text-align: right;\">\n",
              "      <th></th>\n",
              "      <th>Unnamed: 0</th>\n",
              "      <th>city</th>\n",
              "      <th>team1</th>\n",
              "      <th>powerplay_runs_team1</th>\n",
              "      <th>powerplay_wickets_team1</th>\n",
              "      <th>team2</th>\n",
              "      <th>powerplay_runs_team2</th>\n",
              "      <th>powerplay_wickets_team2</th>\n",
              "      <th>toss_winner</th>\n",
              "      <th>toss_decision</th>\n",
              "      <th>winner</th>\n",
              "      <th>venue</th>\n",
              "      <th>Avg 1st Innings Score</th>\n",
              "      <th>pitch_type</th>\n",
              "      <th>team1_points</th>\n",
              "      <th>team2_points</th>\n",
              "      <th>homeground_advantage</th>\n",
              "      <th>team1_win</th>\n",
              "      <th>team1_toss_win</th>\n",
              "      <th>team1_bat</th>\n",
              "      <th>teampoint_diff</th>\n",
              "    </tr>\n",
              "  </thead>\n",
              "  <tbody>\n",
              "    <tr>\n",
              "      <th>0</th>\n",
              "      <td>0</td>\n",
              "      <td>16</td>\n",
              "      <td>9</td>\n",
              "      <td>59</td>\n",
              "      <td>1</td>\n",
              "      <td>2</td>\n",
              "      <td>54</td>\n",
              "      <td>1</td>\n",
              "      <td>2</td>\n",
              "      <td>0</td>\n",
              "      <td>9</td>\n",
              "      <td>30</td>\n",
              "      <td>185</td>\n",
              "      <td>1</td>\n",
              "      <td>660</td>\n",
              "      <td>805</td>\n",
              "      <td>1</td>\n",
              "      <td>1.0</td>\n",
              "      <td>0.0</td>\n",
              "      <td>0</td>\n",
              "      <td>145</td>\n",
              "    </tr>\n",
              "    <tr>\n",
              "      <th>1</th>\n",
              "      <td>1</td>\n",
              "      <td>28</td>\n",
              "      <td>5</td>\n",
              "      <td>61</td>\n",
              "      <td>1</td>\n",
              "      <td>7</td>\n",
              "      <td>59</td>\n",
              "      <td>1</td>\n",
              "      <td>7</td>\n",
              "      <td>0</td>\n",
              "      <td>7</td>\n",
              "      <td>8</td>\n",
              "      <td>160</td>\n",
              "      <td>-2</td>\n",
              "      <td>936</td>\n",
              "      <td>835</td>\n",
              "      <td>0</td>\n",
              "      <td>0.0</td>\n",
              "      <td>0.0</td>\n",
              "      <td>0</td>\n",
              "      <td>-101</td>\n",
              "    </tr>\n",
              "    <tr>\n",
              "      <th>2</th>\n",
              "      <td>2</td>\n",
              "      <td>1</td>\n",
              "      <td>4</td>\n",
              "      <td>52</td>\n",
              "      <td>1</td>\n",
              "      <td>3</td>\n",
              "      <td>73</td>\n",
              "      <td>0</td>\n",
              "      <td>3</td>\n",
              "      <td>0</td>\n",
              "      <td>3</td>\n",
              "      <td>32</td>\n",
              "      <td>183</td>\n",
              "      <td>1</td>\n",
              "      <td>536</td>\n",
              "      <td>812</td>\n",
              "      <td>1</td>\n",
              "      <td>0.0</td>\n",
              "      <td>0.0</td>\n",
              "      <td>0</td>\n",
              "      <td>276</td>\n",
              "    </tr>\n",
              "    <tr>\n",
              "      <th>3</th>\n",
              "      <td>3</td>\n",
              "      <td>27</td>\n",
              "      <td>7</td>\n",
              "      <td>35</td>\n",
              "      <td>1</td>\n",
              "      <td>1</td>\n",
              "      <td>56</td>\n",
              "      <td>2</td>\n",
              "      <td>1</td>\n",
              "      <td>0</td>\n",
              "      <td>1</td>\n",
              "      <td>2</td>\n",
              "      <td>160</td>\n",
              "      <td>1</td>\n",
              "      <td>835</td>\n",
              "      <td>768</td>\n",
              "      <td>2</td>\n",
              "      <td>0.0</td>\n",
              "      <td>0.0</td>\n",
              "      <td>0</td>\n",
              "      <td>-67</td>\n",
              "    </tr>\n",
              "    <tr>\n",
              "      <th>4</th>\n",
              "      <td>4</td>\n",
              "      <td>14</td>\n",
              "      <td>2</td>\n",
              "      <td>41</td>\n",
              "      <td>2</td>\n",
              "      <td>6</td>\n",
              "      <td>43</td>\n",
              "      <td>2</td>\n",
              "      <td>2</td>\n",
              "      <td>1</td>\n",
              "      <td>2</td>\n",
              "      <td>17</td>\n",
              "      <td>170</td>\n",
              "      <td>1</td>\n",
              "      <td>805</td>\n",
              "      <td>1178</td>\n",
              "      <td>1</td>\n",
              "      <td>1.0</td>\n",
              "      <td>1.0</td>\n",
              "      <td>1</td>\n",
              "      <td>373</td>\n",
              "    </tr>\n",
              "    <tr>\n",
              "      <th>5</th>\n",
              "      <td>5</td>\n",
              "      <td>16</td>\n",
              "      <td>4</td>\n",
              "      <td>40</td>\n",
              "      <td>2</td>\n",
              "      <td>9</td>\n",
              "      <td>59</td>\n",
              "      <td>1</td>\n",
              "      <td>9</td>\n",
              "      <td>0</td>\n",
              "      <td>9</td>\n",
              "      <td>30</td>\n",
              "      <td>185</td>\n",
              "      <td>1</td>\n",
              "      <td>536</td>\n",
              "      <td>660</td>\n",
              "      <td>2</td>\n",
              "      <td>0.0</td>\n",
              "      <td>0.0</td>\n",
              "      <td>0</td>\n",
              "      <td>124</td>\n",
              "    </tr>\n",
              "    <tr>\n",
              "      <th>6</th>\n",
              "      <td>6</td>\n",
              "      <td>18</td>\n",
              "      <td>3</td>\n",
              "      <td>59</td>\n",
              "      <td>2</td>\n",
              "      <td>5</td>\n",
              "      <td>49</td>\n",
              "      <td>0</td>\n",
              "      <td>5</td>\n",
              "      <td>0</td>\n",
              "      <td>5</td>\n",
              "      <td>5</td>\n",
              "      <td>194</td>\n",
              "      <td>2</td>\n",
              "      <td>812</td>\n",
              "      <td>936</td>\n",
              "      <td>2</td>\n",
              "      <td>0.0</td>\n",
              "      <td>0.0</td>\n",
              "      <td>0</td>\n",
              "      <td>124</td>\n",
              "    </tr>\n",
              "    <tr>\n",
              "      <th>7</th>\n",
              "      <td>7</td>\n",
              "      <td>27</td>\n",
              "      <td>2</td>\n",
              "      <td>23</td>\n",
              "      <td>3</td>\n",
              "      <td>1</td>\n",
              "      <td>62</td>\n",
              "      <td>1</td>\n",
              "      <td>2</td>\n",
              "      <td>1</td>\n",
              "      <td>1</td>\n",
              "      <td>2</td>\n",
              "      <td>160</td>\n",
              "      <td>1</td>\n",
              "      <td>805</td>\n",
              "      <td>768</td>\n",
              "      <td>2</td>\n",
              "      <td>0.0</td>\n",
              "      <td>1.0</td>\n",
              "      <td>1</td>\n",
              "      <td>-37</td>\n",
              "    </tr>\n",
              "    <tr>\n",
              "      <th>8</th>\n",
              "      <td>8</td>\n",
              "      <td>28</td>\n",
              "      <td>6</td>\n",
              "      <td>62</td>\n",
              "      <td>1</td>\n",
              "      <td>7</td>\n",
              "      <td>50</td>\n",
              "      <td>3</td>\n",
              "      <td>7</td>\n",
              "      <td>0</td>\n",
              "      <td>6</td>\n",
              "      <td>8</td>\n",
              "      <td>160</td>\n",
              "      <td>-2</td>\n",
              "      <td>1178</td>\n",
              "      <td>835</td>\n",
              "      <td>0</td>\n",
              "      <td>1.0</td>\n",
              "      <td>0.0</td>\n",
              "      <td>0</td>\n",
              "      <td>-343</td>\n",
              "    </tr>\n",
              "    <tr>\n",
              "      <th>9</th>\n",
              "      <td>9</td>\n",
              "      <td>18</td>\n",
              "      <td>9</td>\n",
              "      <td>34</td>\n",
              "      <td>0</td>\n",
              "      <td>5</td>\n",
              "      <td>61</td>\n",
              "      <td>2</td>\n",
              "      <td>5</td>\n",
              "      <td>0</td>\n",
              "      <td>5</td>\n",
              "      <td>5</td>\n",
              "      <td>194</td>\n",
              "      <td>2</td>\n",
              "      <td>660</td>\n",
              "      <td>936</td>\n",
              "      <td>2</td>\n",
              "      <td>0.0</td>\n",
              "      <td>0.0</td>\n",
              "      <td>0</td>\n",
              "      <td>276</td>\n",
              "    </tr>\n",
              "  </tbody>\n",
              "</table>\n",
              "</div>"
            ],
            "text/plain": [
              "   Unnamed: 0  city  team1  ...  team1_toss_win  team1_bat  teampoint_diff\n",
              "0           0    16      9  ...             0.0          0             145\n",
              "1           1    28      5  ...             0.0          0            -101\n",
              "2           2     1      4  ...             0.0          0             276\n",
              "3           3    27      7  ...             0.0          0             -67\n",
              "4           4    14      2  ...             1.0          1             373\n",
              "5           5    16      4  ...             0.0          0             124\n",
              "6           6    18      3  ...             0.0          0             124\n",
              "7           7    27      2  ...             1.0          1             -37\n",
              "8           8    28      6  ...             0.0          0            -343\n",
              "9           9    18      9  ...             0.0          0             276\n",
              "\n",
              "[10 rows x 21 columns]"
            ]
          },
          "metadata": {
            "tags": []
          },
          "execution_count": 40
        }
      ]
    },
    {
      "cell_type": "markdown",
      "metadata": {
        "id": "TjsvQBD8RciA"
      },
      "source": [
        "---\n",
        "## **Step 8 — Feature Selection**\n",
        "---"
      ]
    },
    {
      "cell_type": "markdown",
      "metadata": {
        "id": "fDgXqqMGVcj4"
      },
      "source": [
        "#### **Pearson Correlation**"
      ]
    },
    {
      "cell_type": "code",
      "metadata": {
        "colab": {
          "base_uri": "https://localhost:8080/"
        },
        "id": "YCEOfYn5ZM4o",
        "outputId": "aa0d459d-217d-4681-9227-92a2cb524256"
      },
      "source": [
        "from matplotlib import pyplot as plt\n",
        "import seaborn as sns\n",
        "\n",
        "prediction_df = data\n",
        "correlated_features = set()\n",
        "correlation_matrix = prediction_df.corr()\n",
        "print(\"correlation_matrix\",correlation_matrix)\n",
        "\n",
        "for i in range(len(correlation_matrix.columns)):\n",
        "    for j in range(i):\n",
        "        if abs(correlation_matrix.iloc[i, j]) > 0.8:\n",
        "            colname = correlation_matrix.columns[i]\n",
        "            correlated_features.add(colname)\n",
        "\n",
        "print(\"correlated_features\",correlated_features)\n",
        "correlation_matrix.to_csv('correlation_matrix.csv')"
      ],
      "execution_count": null,
      "outputs": [
        {
          "output_type": "stream",
          "text": [
            "correlation_matrix                          Unnamed: 0      city  ...  team1_bat  teampoint_diff\n",
            "Unnamed: 0                 1.000000 -0.193755  ...  -0.170946       -0.019114\n",
            "city                      -0.193755  1.000000  ...   0.074715       -0.012541\n",
            "team1                     -0.016153  0.027462  ...   0.149441       -0.112660\n",
            "powerplay_runs_team1       0.079470 -0.045209  ...  -0.140193       -0.048142\n",
            "powerplay_wickets_team1   -0.063386  0.002449  ...  -0.005876        0.085506\n",
            "team2                      0.031227  0.052850  ...   0.093694        0.025550\n",
            "powerplay_runs_team2       0.075391 -0.011466  ...  -0.090087        0.043071\n",
            "powerplay_wickets_team2   -0.056799  0.039104  ...  -0.040743       -0.005121\n",
            "toss_winner                0.047688  0.043687  ...   0.129692       -0.048159\n",
            "winner                     0.002933  0.045004  ...   0.133919       -0.096193\n",
            "venue                      0.115851 -0.048074  ...   0.102532        0.027459\n",
            "Avg 1st Innings Score     -0.090581  0.037744  ...  -0.061899       -0.030118\n",
            "pitch_type                -0.009781 -0.474831  ...  -0.069566        0.009111\n",
            "team1_points              -0.161494  0.218933  ...   0.060004       -0.594793\n",
            "team2_points              -0.187235  0.208485  ...   0.003074        0.572627\n",
            "homeground_advantage      -0.104615  0.070013  ...  -0.017242        0.022440\n",
            "team1_win                  0.005083  0.007567  ...   0.011457       -0.047968\n",
            "team1_toss_win            -0.105128  0.031457  ...   0.959349       -0.047460\n",
            "team1_bat                 -0.170946  0.074715  ...   1.000000       -0.049287\n",
            "teampoint_diff            -0.019114 -0.012541  ...  -0.049287        1.000000\n",
            "\n",
            "[20 rows x 20 columns]\n",
            "correlated_features {'team1_bat'}\n"
          ],
          "name": "stdout"
        }
      ]
    },
    {
      "cell_type": "code",
      "metadata": {
        "colab": {
          "base_uri": "https://localhost:8080/",
          "height": 386
        },
        "id": "UkBQQhtsaaFK",
        "outputId": "91b1dbaf-f6c2-41a6-f4cd-879e8f8db7f1"
      },
      "source": [
        "sns.heatmap(correlation_matrix, cmap=\"Blues\", vmin= -1, vmax=1, linewidth=0.3, cbar_kws={\"shrink\": .8})\n",
        "plt.savefig('correlation_matrix.png')\n",
        "plt.show()"
      ],
      "execution_count": null,
      "outputs": [
        {
          "output_type": "display_data",
          "data": {
            "image/png": "[encoded data removed]",
            "text/plain": [
              "<Figure size 432x288 with 2 Axes>"
            ]
          },
          "metadata": {
            "tags": [],
            "needs_background": "light"
          }
        }
      ]
    },
    {
      "cell_type": "markdown",
      "metadata": {
        "id": "XpXJ0E7KdAYb"
      },
      "source": [
        "Here, we see that team1_bat represents the same information as team1_toss_win. Strange, right? It’s just how the dataset was built, if team1 wins the toss then they will always bat and if team2 wins the toss then they will always field. So we removed the column team1_bat from our list of features."
      ]
    },
    {
      "cell_type": "markdown",
      "metadata": {
        "id": "0PC-GPJpuyrf"
      },
      "source": [
        "**Drop redundant fields**"
      ]
    },
    {
      "cell_type": "code",
      "metadata": {
        "colab": {
          "base_uri": "https://localhost:8080/",
          "height": 410
        },
        "id": "4TZmVL_vfS7g",
        "outputId": "c12a57db-b809-4888-a50e-d393b722002f"
      },
      "source": [
        "# ***********************  DROP REDUNDANT FIELDS *********************** \n",
        "# Redundant fields: drop first one\n",
        "data=data.drop(columns=['city', 'venue', 'toss_winner', 'toss_decision', 'winner', 'team1_bat'], axis=1)\n",
        "# data=data.drop(columns=['team1_points', 'team2_points'], axis=1)\n",
        "# data=data.drop(columns=['powerplay_runs_team1', 'powerplay_wickets_team1', 'powerplay_runs_team2', 'powerplay_wickets_team2'], axis=1)\n",
        "data.head(10)\n"
      ],
      "execution_count": null,
      "outputs": [
        {
          "output_type": "execute_result",
          "data": {
            "text/html": [
              "<div>\n",
              "<style scoped>\n",
              "    .dataframe tbody tr th:only-of-type {\n",
              "        vertical-align: middle;\n",
              "    }\n",
              "\n",
              "    .dataframe tbody tr th {\n",
              "        vertical-align: top;\n",
              "    }\n",
              "\n",
              "    .dataframe thead th {\n",
              "        text-align: right;\n",
              "    }\n",
              "</style>\n",
              "<table border=\"1\" class=\"dataframe\">\n",
              "  <thead>\n",
              "    <tr style=\"text-align: right;\">\n",
              "      <th></th>\n",
              "      <th>Unnamed: 0</th>\n",
              "      <th>team1</th>\n",
              "      <th>powerplay_runs_team1</th>\n",
              "      <th>powerplay_wickets_team1</th>\n",
              "      <th>team2</th>\n",
              "      <th>powerplay_runs_team2</th>\n",
              "      <th>powerplay_wickets_team2</th>\n",
              "      <th>Avg 1st Innings Score</th>\n",
              "      <th>pitch_type</th>\n",
              "      <th>team1_points</th>\n",
              "      <th>team2_points</th>\n",
              "      <th>homeground_advantage</th>\n",
              "      <th>team1_win</th>\n",
              "      <th>team1_toss_win</th>\n",
              "      <th>teampoint_diff</th>\n",
              "    </tr>\n",
              "  </thead>\n",
              "  <tbody>\n",
              "    <tr>\n",
              "      <th>0</th>\n",
              "      <td>0</td>\n",
              "      <td>9</td>\n",
              "      <td>59</td>\n",
              "      <td>1</td>\n",
              "      <td>2</td>\n",
              "      <td>54</td>\n",
              "      <td>1</td>\n",
              "      <td>185</td>\n",
              "      <td>1</td>\n",
              "      <td>660</td>\n",
              "      <td>805</td>\n",
              "      <td>1</td>\n",
              "      <td>1.0</td>\n",
              "      <td>0.0</td>\n",
              "      <td>145</td>\n",
              "    </tr>\n",
              "    <tr>\n",
              "      <th>1</th>\n",
              "      <td>1</td>\n",
              "      <td>5</td>\n",
              "      <td>61</td>\n",
              "      <td>1</td>\n",
              "      <td>7</td>\n",
              "      <td>59</td>\n",
              "      <td>1</td>\n",
              "      <td>160</td>\n",
              "      <td>-2</td>\n",
              "      <td>936</td>\n",
              "      <td>835</td>\n",
              "      <td>0</td>\n",
              "      <td>0.0</td>\n",
              "      <td>0.0</td>\n",
              "      <td>-101</td>\n",
              "    </tr>\n",
              "    <tr>\n",
              "      <th>2</th>\n",
              "      <td>2</td>\n",
              "      <td>4</td>\n",
              "      <td>52</td>\n",
              "      <td>1</td>\n",
              "      <td>3</td>\n",
              "      <td>73</td>\n",
              "      <td>0</td>\n",
              "      <td>183</td>\n",
              "      <td>1</td>\n",
              "      <td>536</td>\n",
              "      <td>812</td>\n",
              "      <td>1</td>\n",
              "      <td>0.0</td>\n",
              "      <td>0.0</td>\n",
              "      <td>276</td>\n",
              "    </tr>\n",
              "    <tr>\n",
              "      <th>3</th>\n",
              "      <td>3</td>\n",
              "      <td>7</td>\n",
              "      <td>35</td>\n",
              "      <td>1</td>\n",
              "      <td>1</td>\n",
              "      <td>56</td>\n",
              "      <td>2</td>\n",
              "      <td>160</td>\n",
              "      <td>1</td>\n",
              "      <td>835</td>\n",
              "      <td>768</td>\n",
              "      <td>2</td>\n",
              "      <td>0.0</td>\n",
              "      <td>0.0</td>\n",
              "      <td>-67</td>\n",
              "    </tr>\n",
              "    <tr>\n",
              "      <th>4</th>\n",
              "      <td>4</td>\n",
              "      <td>2</td>\n",
              "      <td>41</td>\n",
              "      <td>2</td>\n",
              "      <td>6</td>\n",
              "      <td>43</td>\n",
              "      <td>2</td>\n",
              "      <td>170</td>\n",
              "      <td>1</td>\n",
              "      <td>805</td>\n",
              "      <td>1178</td>\n",
              "      <td>1</td>\n",
              "      <td>1.0</td>\n",
              "      <td>1.0</td>\n",
              "      <td>373</td>\n",
              "    </tr>\n",
              "    <tr>\n",
              "      <th>5</th>\n",
              "      <td>5</td>\n",
              "      <td>4</td>\n",
              "      <td>40</td>\n",
              "      <td>2</td>\n",
              "      <td>9</td>\n",
              "      <td>59</td>\n",
              "      <td>1</td>\n",
              "      <td>185</td>\n",
              "      <td>1</td>\n",
              "      <td>536</td>\n",
              "      <td>660</td>\n",
              "      <td>2</td>\n",
              "      <td>0.0</td>\n",
              "      <td>0.0</td>\n",
              "      <td>124</td>\n",
              "    </tr>\n",
              "    <tr>\n",
              "      <th>6</th>\n",
              "      <td>6</td>\n",
              "      <td>3</td>\n",
              "      <td>59</td>\n",
              "      <td>2</td>\n",
              "      <td>5</td>\n",
              "      <td>49</td>\n",
              "      <td>0</td>\n",
              "      <td>194</td>\n",
              "      <td>2</td>\n",
              "      <td>812</td>\n",
              "      <td>936</td>\n",
              "      <td>2</td>\n",
              "      <td>0.0</td>\n",
              "      <td>0.0</td>\n",
              "      <td>124</td>\n",
              "    </tr>\n",
              "    <tr>\n",
              "      <th>7</th>\n",
              "      <td>7</td>\n",
              "      <td>2</td>\n",
              "      <td>23</td>\n",
              "      <td>3</td>\n",
              "      <td>1</td>\n",
              "      <td>62</td>\n",
              "      <td>1</td>\n",
              "      <td>160</td>\n",
              "      <td>1</td>\n",
              "      <td>805</td>\n",
              "      <td>768</td>\n",
              "      <td>2</td>\n",
              "      <td>0.0</td>\n",
              "      <td>1.0</td>\n",
              "      <td>-37</td>\n",
              "    </tr>\n",
              "    <tr>\n",
              "      <th>8</th>\n",
              "      <td>8</td>\n",
              "      <td>6</td>\n",
              "      <td>62</td>\n",
              "      <td>1</td>\n",
              "      <td>7</td>\n",
              "      <td>50</td>\n",
              "      <td>3</td>\n",
              "      <td>160</td>\n",
              "      <td>-2</td>\n",
              "      <td>1178</td>\n",
              "      <td>835</td>\n",
              "      <td>0</td>\n",
              "      <td>1.0</td>\n",
              "      <td>0.0</td>\n",
              "      <td>-343</td>\n",
              "    </tr>\n",
              "    <tr>\n",
              "      <th>9</th>\n",
              "      <td>9</td>\n",
              "      <td>9</td>\n",
              "      <td>34</td>\n",
              "      <td>0</td>\n",
              "      <td>5</td>\n",
              "      <td>61</td>\n",
              "      <td>2</td>\n",
              "      <td>194</td>\n",
              "      <td>2</td>\n",
              "      <td>660</td>\n",
              "      <td>936</td>\n",
              "      <td>2</td>\n",
              "      <td>0.0</td>\n",
              "      <td>0.0</td>\n",
              "      <td>276</td>\n",
              "    </tr>\n",
              "  </tbody>\n",
              "</table>\n",
              "</div>"
            ],
            "text/plain": [
              "   Unnamed: 0  team1  ...  team1_toss_win  teampoint_diff\n",
              "0           0      9  ...             0.0             145\n",
              "1           1      5  ...             0.0            -101\n",
              "2           2      4  ...             0.0             276\n",
              "3           3      7  ...             0.0             -67\n",
              "4           4      2  ...             1.0             373\n",
              "5           5      4  ...             0.0             124\n",
              "6           6      3  ...             0.0             124\n",
              "7           7      2  ...             1.0             -37\n",
              "8           8      6  ...             0.0            -343\n",
              "9           9      9  ...             0.0             276\n",
              "\n",
              "[10 rows x 15 columns]"
            ]
          },
          "metadata": {
            "tags": []
          },
          "execution_count": 43
        }
      ]
    },
    {
      "cell_type": "code",
      "metadata": {
        "colab": {
          "base_uri": "https://localhost:8080/"
        },
        "id": "zL5I0vuHdG0v",
        "outputId": "dda05e05-76a2-4449-8b22-33e640d96c03"
      },
      "source": [
        "dataset_file=\"encoded_dataset.csv\"\n",
        "data.to_csv(dataset_file, index = True)\n",
        "# df.head()\n",
        "print(\"New file named '\", dataset_file, \"' exported successfully...\")"
      ],
      "execution_count": null,
      "outputs": [
        {
          "output_type": "stream",
          "text": [
            "New file named ' encoded_dataset.csv ' exported successfully...\n"
          ],
          "name": "stdout"
        }
      ]
    },
    {
      "cell_type": "markdown",
      "metadata": {
        "id": "ackYmJiPw5l9"
      },
      "source": [
        "---\n",
        "## **Step 9 - Building, Training and Testing the Model**\n",
        "---"
      ]
    },
    {
      "cell_type": "code",
      "metadata": {
        "id": "g1r1Vv9UwEP1"
      },
      "source": [
        "#data=data.drop(columns=['teampoint_diff'], axis=1)\n",
        "data.head()"
      ],
      "execution_count": null,
      "outputs": []
    },
    {
      "cell_type": "code",
      "metadata": {
        "id": "c53QZy3ZP7NX"
      },
      "source": [
        "import pandas as pd\n",
        "import numpy as np\n",
        "from sklearn.model_selection import train_test_split\n",
        "from sklearn.linear_model import LogisticRegression\n",
        "from sklearn.preprocessing import StandardScaler\n",
        "import matplotlib.pyplot as plt"
      ],
      "execution_count": null,
      "outputs": []
    },
    {
      "cell_type": "code",
      "metadata": {
        "id": "zRc1bL8Ow0Vr",
        "colab": {
          "base_uri": "https://localhost:8080/",
          "height": 265
        },
        "outputId": "2d9da3ae-bf39-4993-e862-f921cf4b8ffb"
      },
      "source": [
        "#Splitting the data into training and testing data and scaling it\n",
        "X=data.drop(columns=['team1_win'], axis=1)\n",
        "target=list(map(int, data.team1_win.values))\n",
        "team1_wins = data.loc[data.team1_win == 1]\n",
        "team2_wins = data.loc[data.team1_win == 0]\n",
        "team1_wins=team1_wins[[\"team1\", \"team2\", \"team1_toss_win\", \"teampoint_diff\"]]\n",
        "team2_wins=team2_wins[[\"team1\", \"team2\", \"team1_toss_win\", \"teampoint_diff\"]]\n",
        "plt.scatter(team1_wins.iloc[:, 0], team1_wins.iloc[:, 1], s=50, label='Team 1 wins', color=\"red\")\n",
        "plt.scatter(team2_wins.iloc[:, 0], team2_wins.iloc[:, 1], s=30, label='Team 2 wins', color=\"blue\")\n",
        "plt.legend()\n",
        "plt.show()"
      ],
      "execution_count": null,
      "outputs": [
        {
          "output_type": "display_data",
          "data": {
            "image/png": "[encoded data removed]",
            "text/plain": [
              "<Figure size 432x288 with 1 Axes>"
            ]
          },
          "metadata": {
            "tags": [],
            "needs_background": "light"
          }
        }
      ]
    },
    {
      "cell_type": "markdown",
      "metadata": {
        "id": "lK5JhqofX1dk"
      },
      "source": [
        "#### **SIGMOID FUNCTION**"
      ]
    },
    {
      "cell_type": "code",
      "metadata": {
        "id": "K6Q3JNbwP9kP"
      },
      "source": [
        "def sigmoid_func(X, theta):\n",
        "    # First ompute the weighted sum of inputs \n",
        "    z = np.dot(X, theta)\n",
        "    # Activation function used to map any real value between 0 and 1\n",
        "    return 1 / (1 + np.exp(-z))"
      ],
      "execution_count": null,
      "outputs": []
    },
    {
      "cell_type": "code",
      "metadata": {
        "colab": {
          "base_uri": "https://localhost:8080/",
          "height": 344
        },
        "id": "4zsgJNtlXstX",
        "outputId": "d8d870d3-c36f-4f01-b475-a56f3821d4bf"
      },
      "source": [
        "# PLOT SIGMOID FUNCTION\n",
        "theta=1\n",
        "X=np.arange(start=-6, stop=6, step=0.1)\n",
        "Y1=[]\n",
        "Y2=[]\n",
        "Y3=[]\n",
        "for x in X:\n",
        "    Y1.append(sigmoid_func(x, theta))\n",
        "    Y2.append(sigmoid_func(x, 2*theta))\n",
        "    Y3.append(sigmoid_func(x, 3*theta))\n",
        "\n",
        "markinterval=10\n",
        "test=plt.figure(figsize=(5, 4))\n",
        "plt.plot(X, Y1, label=\"$\\\\theta =1$ \", color=\"red\", marker='o', markevery=markinterval, linewidth=2)\n",
        "plt.plot(X, Y2, label=\"$\\\\theta=2$\", color=\"blue\", marker='s', markevery=markinterval, linewidth=2)\n",
        "plt.plot(X, Y3, label=\"$\\\\theta=3$\", color=\"green\", marker='X', markevery=markinterval, linewidth=2)\n",
        "plt.title(\"Sigmoid Function $\\\\sigma(x)=\\\\dfrac{1}{1+e^{-\\\\theta^T x}}$\")\n",
        "plt.xlabel(\"x\")\n",
        "plt.ylabel(\"$\\\\sigma(x)$\")\n",
        "plt.legend()\n",
        "test.savefig(\"Sigmoid.eps\", format='eps')\n",
        "test.show()"
      ],
      "execution_count": null,
      "outputs": [
        {
          "output_type": "stream",
          "text": [
            "The PostScript backend does not support transparency; partially transparent artists will be rendered opaque.\n",
            "The PostScript backend does not support transparency; partially transparent artists will be rendered opaque.\n"
          ],
          "name": "stderr"
        },
        {
          "output_type": "display_data",
          "data": {
            "image/png": "[encoded data removed]",
            "text/plain": [
              "<Figure size 360x288 with 1 Axes>"
            ]
          },
          "metadata": {
            "tags": [],
            "needs_background": "light"
          }
        }
      ]
    },
    {
      "cell_type": "markdown",
      "metadata": {
        "id": "GbDzWJZ1YC2i"
      },
      "source": [
        "#### **GRADIENT FUNCTION**"
      ]
    },
    {
      "cell_type": "code",
      "metadata": {
        "id": "u2ccA4x5UwBU"
      },
      "source": [
        "# Returns the probability after passing through sigmoid\n",
        "def probability(X, theta):   \n",
        "    return sigmoid_func(X, theta)\n",
        "    \n",
        "# Computes the weighted sum of inputs\n",
        "def weighted_sum(X, theta):\n",
        "    return np.dot(theta.transpose(), X).transpose()\n",
        "\n",
        "# Computes the gradient of the cost function at the point theta\n",
        "def gradient_descent(X, theta, y):\n",
        "    h = sigmoid_func(X, theta)    \n",
        "    m=y.shape[0] # m is the number of training samples\n",
        "    return  weighted_sum(X, (h - y))/m\n",
        "\n",
        "# Computes the cost function for all the training samples\n",
        "def cost_function(X, y, theta):\n",
        "    m = X.shape[0] # m is the number of training samples\n",
        "    hx=probability(theta, x)\n",
        "    term1 = np.dot(y.transpose(), np.log(hx))\n",
        "    term2 = np.dot((1 - y).transpose(), np.log(1 - hx))\n",
        "    net_cost = -np.sum(term1 + term2) / m\n",
        "    return net_cost\n",
        "\n",
        "def update_theta(theta, alpha, gradient):\n",
        "    return theta - alpha*gradient"
      ],
      "execution_count": null,
      "outputs": []
    },
    {
      "cell_type": "markdown",
      "metadata": {
        "id": "MvSjHwK-dIDw"
      },
      "source": [
        "#### **FIT FUNCTION**"
      ]
    },
    {
      "cell_type": "code",
      "metadata": {
        "colab": {
          "base_uri": "https://localhost:8080/"
        },
        "id": "j0PGA_dNdN3g",
        "outputId": "4efa9f75-1553-491a-f1cd-80e018680fe5"
      },
      "source": [
        "import numpy as np\n",
        "from sklearn.metrics import accuracy_score\n",
        "\n",
        "def weightInitialization(n_features):\n",
        "    w = np.zeros((1,n_features))\n",
        "    b = 0\n",
        "    return w,b\n",
        "def sigmoid_activation(result):\n",
        "    final_result = 1/(1+np.exp(-result))\n",
        "    return final_result\n",
        "\n",
        "def model_optimize(w, b, X, Y):\n",
        "    m = X.shape[0]\n",
        "    \n",
        "    #Prediction\n",
        "    final_result = sigmoid_activation(np.dot(w,X.T)+b)\n",
        "    Y_T = Y.T\n",
        "    cost = (-1/m)*(np.sum((Y_T*np.log(final_result)) + ((1-Y_T)*(np.log(1-final_result)))))\n",
        "    #\n",
        "    \n",
        "    #Gradient calculation\n",
        "    dw = (1/m)*(np.dot(X.T, (final_result-Y.T).T))\n",
        "    db = (1/m)*(np.sum(final_result-Y.T))\n",
        "    \n",
        "    grads = {\"dw\": dw, \"db\": db}\n",
        "    \n",
        "    return grads, cost\n",
        "def model_predict(w, b, X, Y, learning_rate, no_iterations):\n",
        "    costs = []\n",
        "    for i in range(no_iterations):\n",
        "        #\n",
        "        grads, cost = model_optimize(w,b,X,Y)\n",
        "        #\n",
        "        dw = grads[\"dw\"]\n",
        "        db = grads[\"db\"]\n",
        "        #weight update\n",
        "        w = w - (learning_rate * (dw.T))\n",
        "        b = b - (learning_rate * db)\n",
        "        #\n",
        "        \n",
        "        if (i % 100 == 0):\n",
        "            costs.append(cost)\n",
        "            #print(\"Cost after %i iteration is %f\" %(i, cost))\n",
        "    \n",
        "    #final parameters\n",
        "    coeff = {\"w\": w, \"b\": b}\n",
        "    gradient = {\"dw\": dw, \"db\": db}\n",
        "    \n",
        "    return coeff, gradient, costs\n",
        "\n",
        "def predict(final_pred, m):\n",
        "    y_pred = np.zeros((1,m))\n",
        "    for i in range(final_pred.shape[1]):\n",
        "        if final_pred[0][i] > 0.5:\n",
        "            y_pred[0][i] = 1\n",
        "    return y_pred\n",
        "    \n",
        "\n",
        "df=data\n",
        "df.loc[df[\"teampoint_diff\"] < 0, \"teampoint_diff\"] = 0\n",
        "df.loc[df[\"teampoint_diff\"] >= 0, \"teampoint_diff\"] = 1\n",
        "\n",
        "X = df.drop(columns=[\"team1_win\"], axis=1)\n",
        "y = df['team1_win']\n",
        "x_train, x_test, y_train, y_test = train_test_split(X, y, test_size=0.132, random_state=0)\n",
        "X_tr_arr = x_train\n",
        "X_ts_arr = x_test\n",
        "y_tr_arr = y_train.to_numpy()\n",
        "y_ts_arr = y_test.to_numpy()\n",
        "print('Input Shape', (X_tr_arr.shape))\n",
        "print('Output Shape', x_test.shape)\n",
        "#Get number of features\n",
        "n_features = X_tr_arr.shape[1]\n",
        "print('Number of Features', n_features)\n",
        "w, b = weightInitialization(n_features)\n",
        "#Gradient Descent\n",
        "coeff, gradient, costs = model_predict(w, b, X_tr_arr, y_tr_arr, learning_rate=0.1,no_iterations=5000)\n",
        "#Final prediction\n",
        "w = coeff[\"w\"]\n",
        "b = coeff[\"b\"]\n",
        "print('Optimized weights', w)\n",
        "print('Optimized intercept',b)\n",
        "#\n",
        "final_train_pred = sigmoid_activation(np.dot(w,X_tr_arr.T)+b)\n",
        "final_test_pred = sigmoid_activation(np.dot(w,X_ts_arr.T)+b)\n",
        "#\n",
        "m_tr =  X_tr_arr.shape[0]\n",
        "m_ts =  X_ts_arr.shape[0]\n",
        "#\n",
        "y_tr_pred = predict(final_train_pred, m_tr)\n",
        "print('Training Accuracy',accuracy_score(y_tr_pred.T, y_tr_arr))\n",
        "#\n",
        "y_ts_pred = predict(final_test_pred, m_ts)\n",
        "print('Test Accuracy',accuracy_score(y_ts_pred.T, y_ts_arr))\n",
        "\n",
        "\n",
        "# Logistic Regression\n",
        "from sklearn.linear_model import SGDClassifier\n",
        "logreg = SGDClassifier(max_iter=5000)\n",
        "logreg.fit(x_train, y_train)\n",
        "print('\\n\\n\\nAccuracy of Logistic Regression Classifier on test set: {:.4f}'.format(logreg.score(x_test, y_test)))\n",
        "print('Accuracy of Logistic Regression Classifier on train set: {:.4f}'.format(logreg.score(x_train, y_train)))\n",
        "parameters = logreg.coef_\n",
        "print(\"Params are \", parameters)\n"
      ],
      "execution_count": null,
      "outputs": [
        {
          "output_type": "stream",
          "text": [
            "Input Shape (704, 14)\n",
            "Output Shape (108, 14)\n",
            "Number of Features 14\n"
          ],
          "name": "stdout"
        },
        {
          "output_type": "stream",
          "text": [
            "/usr/local/lib/python3.7/dist-packages/ipykernel_launcher.py:9: RuntimeWarning: overflow encountered in exp\n",
            "  if __name__ == '__main__':\n",
            "/usr/local/lib/python3.7/dist-packages/ipykernel_launcher.py:18: RuntimeWarning: divide by zero encountered in log\n",
            "/usr/local/lib/python3.7/dist-packages/ipykernel_launcher.py:18: RuntimeWarning: invalid value encountered in multiply\n"
          ],
          "name": "stderr"
        },
        {
          "output_type": "stream",
          "text": [
            "Optimized weights [[-1.69956745e+01  1.45532375e+01  3.95770115e+02 -5.82595441e+01\n",
            "   1.12724982e+01 -4.48421334e+02  8.60244610e+01  4.48228352e+01\n",
            "  -7.69411963e+00 -2.77841106e+01 -3.83537496e+01 -1.21651715e+01\n",
            "  -1.25861745e+00 -1.73442134e-01]]\n",
            "Optimized intercept -0.17344213363866967\n",
            "Training Accuracy 0.5369318181818182\n",
            "Test Accuracy 0.6203703703703703\n",
            "\n",
            "\n",
            "\n",
            "Accuracy of Logistic Regression Classifier on test set: 0.5278\n",
            "Accuracy of Logistic Regression Classifier on train set: 0.5810\n",
            "Params are  [[  214.92306417   111.32904224  5182.73985469 -1031.52020774\n",
            "    259.95193237 -6163.15367828  1464.12884334   240.89063234\n",
            "   -217.4093207   -160.50167132   129.5615901   -229.84060333\n",
            "    -36.46509572   -11.05002901]]\n"
          ],
          "name": "stdout"
        }
      ]
    },
    {
      "cell_type": "markdown",
      "metadata": {
        "id": "PI5-gJEMbY5n"
      },
      "source": [
        "#### **Prediction function**"
      ]
    },
    {
      "cell_type": "code",
      "metadata": {
        "colab": {
          "base_uri": "https://localhost:8080/"
        },
        "id": "2SLsdf9SJfiN",
        "outputId": "ab4ca3db-534f-47f9-db94-e4217232cb33"
      },
      "source": [
        "df=data\n",
        "df.loc[df[\"teampoint_diff\"] < 0, \"teampoint_diff\"] = 0\n",
        "df.loc[df[\"teampoint_diff\"] >= 0, \"teampoint_diff\"] = 1\n",
        "\n",
        "X = df.drop(columns=[\"team1_win\"], axis=1)\n",
        "y = df['team1_win']\n",
        "x_train, x_test, y_train, y_test = train_test_split(X, y, test_size=0.132, random_state=0)\n",
        "# x_train = x_train.to_numpy()\n",
        "# x_test = x_test.to_numpy()\n",
        "y_train = y_train.to_numpy()\n",
        "y_test = y_test.to_numpy()\n",
        "learning_rate=[0.1]\n",
        "iterations = 100\n",
        "\n",
        "\n",
        "for l_rate in learning_rate:\n",
        "    theta = np.zeros(x_train.shape[1])    # size = total features        \n",
        "    print(\"Learning rate:\", l_rate)\n",
        "    print(\"Iterations:\", iterations)\n",
        "\n",
        "    for i in range(iterations):        \n",
        "        gradient = gradient_descent(x_train, theta, y_train)\n",
        "        theta = update_theta(theta, l_rate, gradient)\n",
        "\n",
        "    theta = np.zeros(x_train.shape[1])\n",
        "    pred_y = sigmoid_func(x_test, theta)\n",
        "\n",
        "    pred_y_round_off = pd.DataFrame()\n",
        "    pred_y_round_off['confidence']=pred_y\n",
        "    # print(y_test)\n",
        "\n",
        "    pred_y_round_off.loc[pred_y_round_off['confidence'] < 0.5, \"y_hat_predicted\"] = 0\n",
        "    pred_y_round_off.loc[pred_y_round_off['confidence'] >= 0.5, \"y_hat_predicted\"] = 1\n",
        "\n",
        "    pred_y_round_off['y_team1_win'] = pd.DataFrame(y_test)\n",
        "\n",
        "    print(\"Dataframe...\")\n",
        "    print(pred_y_round_off.head(10))\n",
        "    accuracy = (pred_y_round_off.loc[pred_y_round_off['y_hat_predicted'] == pred_y_round_off['y_team1_win']].shape[0]/pred_y_round_off.shape[0])*100\n",
        "    print(\"Accuracy: \", accuracy)\n",
        "\n",
        "# Logistic Regression\n",
        "logreg = LogisticRegression()\n",
        "logreg.fit(x_train, y_train)\n",
        "y_pred = logreg.predict(x_test)\n",
        "print('Accuracy of Logistic Regression Classifier on test set: {:.4f}'.format(logreg.score(x_test, y_test)))\n",
        "parameters = logreg.coef_\n",
        "print(\"Params are \", parameters)"
      ],
      "execution_count": null,
      "outputs": [
        {
          "output_type": "stream",
          "text": [
            "Learning rate: 0.1\n",
            "Iterations: 100\n",
            "Dataframe...\n",
            "   confidence  y_hat_predicted  y_team1_win\n",
            "0         0.5              1.0          0.0\n",
            "1         0.5              1.0          1.0\n",
            "2         0.5              1.0          1.0\n",
            "3         0.5              1.0          0.0\n",
            "4         0.5              1.0          1.0\n",
            "5         0.5              1.0          1.0\n",
            "6         0.5              1.0          0.0\n",
            "7         0.5              1.0          0.0\n",
            "8         0.5              1.0          1.0\n",
            "9         0.5              1.0          1.0\n",
            "Accuracy:  38.88888888888889\n",
            "Accuracy of Logistic Regression Classifier on test set: 0.7037\n",
            "Params are  [[ 2.06118860e-04 -1.04430328e-03  2.21089923e-02 -4.00464699e-01\n",
            "   1.52348805e-02 -3.19316998e-02  5.15986458e-01  1.24104194e-03\n",
            "  -6.29553372e-02  1.22049298e-04 -1.69451660e-04 -9.41538553e-02\n",
            "  -7.88644294e-03 -8.96024790e-03]]\n"
          ],
          "name": "stdout"
        },
        {
          "output_type": "stream",
          "text": [
            "/usr/local/lib/python3.7/dist-packages/ipykernel_launcher.py:6: RuntimeWarning: overflow encountered in exp\n",
            "  \n",
            "/usr/local/lib/python3.7/dist-packages/sklearn/linear_model/_logistic.py:940: ConvergenceWarning: lbfgs failed to converge (status=1):\n",
            "STOP: TOTAL NO. of ITERATIONS REACHED LIMIT.\n",
            "\n",
            "Increase the number of iterations (max_iter) or scale the data as shown in:\n",
            "    https://scikit-learn.org/stable/modules/preprocessing.html\n",
            "Please also refer to the documentation for alternative solver options:\n",
            "    https://scikit-learn.org/stable/modules/linear_model.html#logistic-regression\n",
            "  extra_warning_msg=_LOGISTIC_SOLVER_CONVERGENCE_MSG)\n"
          ],
          "name": "stderr"
        }
      ]
    },
    {
      "cell_type": "markdown",
      "metadata": {
        "id": "EzAC9BL_xKAU"
      },
      "source": [
        "**Splitting the data-set into training and testing**"
      ]
    },
    {
      "cell_type": "code",
      "metadata": {
        "colab": {
          "base_uri": "https://localhost:8080/",
          "height": 778
        },
        "id": "pE-U_g-G5ZdF",
        "outputId": "72156dc0-5726-497b-cba7-6dc33ca50e3e"
      },
      "source": [
        "from sklearn.preprocessing import StandardScaler\n",
        "from sklearn.model_selection import KFold\n",
        "from sklearn.model_selection import cross_val_score\n",
        "from numpy import mean\n",
        "\n",
        "split =0.132\n",
        "while split <= 0.132:\n",
        "    \n",
        "    print(\"\\n\\n\\t\\t******************TEST SPLIT: \", split, \"******************\")\n",
        "    X_train, X_test, y_train, y_test = train_test_split(X, target, test_size=split, random_state=0,shuffle=True)\n",
        "    \n",
        "    #Data Preprocessing\n",
        "    sc_x= StandardScaler()\n",
        "    X_train=sc_x.fit_transform(X_train)\n",
        "    X_test=sc_x.transform(X_test)\n",
        "\n",
        "    # ********************************* Model 1 ********************************* \n",
        "    # Passing Logistic regression\n",
        "    classifier=LogisticRegression(random_state=0)\n",
        "    classifier.fit(X_train,y_train)\n",
        "    #Predicting on Test Set\n",
        "    y_pred1=classifier.predict(X_test)\n",
        "    #Importing Accuracy Score from Metrics\n",
        "    from sklearn.metrics import accuracy_score\n",
        "    accuracy = accuracy_score(y_test,y_pred1)\n",
        "    print(\"Accuracy of Logistic regression: \", accuracy*100, \"%\")\n",
        "    #confusion matrix\n",
        "    print(\"Confusion Matrix: \")\n",
        "    cm1=confusion_matrix(y_test,y_pred1)\n",
        "    print(cm1)\n",
        "    \n",
        "    fig, ax = plt.subplots(figsize=(8, 8))\n",
        "    ax.imshow(cm1)\n",
        "    ax.grid(False)\n",
        "    ax.xaxis.set(ticks=(0, 1), ticklabels=('Predicted 0s', 'Predicted 1s'))\n",
        "    ax.yaxis.set(ticks=(0, 1), ticklabels=('Actual 0s', 'Actual 1s'))\n",
        "    ax.set_ylim(1.5, -0.5)\n",
        "    for i in range(2):\n",
        "        for j in range(2):\n",
        "            ax.text(j, i, cm1[i, j], ha='center', va='center', color='white')\n",
        "    plt.show()\n",
        "\n",
        "    # prepare the cross-validation procedure\n",
        "    cv = KFold(n_splits=4, random_state=1, shuffle=True)\n",
        "    scores = cross_val_score(classifier, X, target, scoring='accuracy', cv=cv, n_jobs=-1)\n",
        "    print('Accuracy of Logistic Regression Classifier for 4 folds on test set: {:.4f}'.format(mean(scores)))\n",
        "    print('Scores:', scores)\n",
        "\n",
        "    print(\"_______________________________________________________________\")\n",
        "    # ********************************* Model 2 ********************************* \n",
        "    # Training the Random Forest Classification model on the Training set\n",
        "    classifier = RandomForestClassifier(n_estimators = 812, criterion = 'gini', random_state = 0)\n",
        "    classifier.fit(X_train, y_train)\n",
        "    # Predicting the Test set results\n",
        "    y_pred2= classifier.predict(X_test)\n",
        "    #Accuracy Score\n",
        "    accuracy = accuracy_score(y_test,y_pred2)\n",
        "    print(\"\\nAccuracy of Random forest classifier\", accuracy*100, \"%\")\n",
        "    # Making the Confusion Matrix\n",
        "    print(\"Confusion Matrix: \")\n",
        "    cmm = confusion_matrix(y_test, y_pred2)\n",
        "    print(cmm)\n",
        "    # prepare the cross-validation procedure\n",
        "    cv = KFold(n_splits=3, random_state=1, shuffle=True)\n",
        "    scores = cross_val_score(classifier, X, target, scoring='accuracy', cv=cv, n_jobs=-1)\n",
        "    print('Accuracy of Random forest classifier for 4 folds on test set: {:.4f}'.format(mean(scores)))\n",
        "    print('Scores:', scores)\n",
        "\n",
        "\n",
        "    split += 0.004\n"
      ],
      "execution_count": null,
      "outputs": [
        {
          "output_type": "stream",
          "text": [
            "\n",
            "\n",
            "\t\t******************TEST SPLIT:  0.132 ******************\n",
            "Accuracy of Logistic regression:  71.29629629629629 %\n",
            "Confusion Matrix: \n",
            "[[44 22]\n",
            " [ 9 33]]\n"
          ],
          "name": "stdout"
        },
        {
          "output_type": "display_data",
          "data": {
            "image/png": "[encoded data removed]",
            "text/plain": [
              "<Figure size 576x576 with 1 Axes>"
            ]
          },
          "metadata": {
            "tags": [],
            "needs_background": "light"
          }
        },
        {
          "output_type": "stream",
          "text": [
            "Accuracy of Logistic Regression Classifier for 4 folds on test set: 0.6835\n",
            "Scores: [0.66009852 0.71921182 0.65517241 0.69950739]\n",
            "_______________________________________________________________\n",
            "\n",
            "Accuracy of Random forest classifier 75.0 %\n",
            "Confusion Matrix: \n",
            "[[47 19]\n",
            " [ 8 34]]\n",
            "Accuracy of Random forest classifier for 4 folds on test set: 0.6552\n",
            "Scores: [0.66420664 0.64575646 0.65555556]\n"
          ],
          "name": "stdout"
        }
      ]
    },
    {
      "cell_type": "markdown",
      "metadata": {
        "id": "v668nNJ_1_HI"
      },
      "source": [
        "### **Using K-fold Cross-Validation**:\n",
        "to maximize the use of the available data for training and then testing a model."
      ]
    },
    {
      "cell_type": "markdown",
      "metadata": {
        "id": "-VYtJbnDxjcE"
      },
      "source": [
        "Applying various models"
      ]
    },
    {
      "cell_type": "code",
      "metadata": {
        "colab": {
          "base_uri": "https://localhost:8080/"
        },
        "id": "Wvur4vTszhaL",
        "outputId": "d2c6bac5-19c5-4e3d-ec48-4f269a8051b4"
      },
      "source": [
        "#Logistic Regression\n",
        "logreg = LogisticRegression()\n",
        "logreg.fit(X_train, y_train)\n",
        "y_pred = logreg.predict(X_test)\n",
        "print('Accuracy of Logistic Regression Classifier on test set: {:.4f}'.format(logreg.score(X_test, y_test)))\n",
        "\n",
        "#Decision Tree Classifier\n",
        "dtree=DecisionTreeClassifier()\n",
        "dtree.fit(X_train,y_train)\n",
        "y_pred = dtree.predict(X_test)\n",
        "print('Accuracy of Decision Tree Classifier on test set: {:.4f}'.format(dtree.score(X_test, y_test)))\n",
        "\n",
        "#SVM\n",
        "svm=SVC()\n",
        "svm.fit(X_train,y_train)\n",
        "y_pred = svm.predict(X_test)\n",
        "print('Accuracy of SVM Classifier on test set: {:.4f}'.format(svm.score(X_test, y_test)))\n",
        "\n",
        "#Random Forest Classifier\n",
        "randomForest= RandomForestClassifier(n_estimators=100)\n",
        "randomForest.fit(X_train,y_train)\n",
        "y_pred = randomForest.predict(X_test)\n",
        "print('Accuracy of Random Forest Classifier on test set: {:.4f}'.format(randomForest.score(X_test, y_test)))"
      ],
      "execution_count": null,
      "outputs": [
        {
          "output_type": "stream",
          "text": [
            "/usr/local/lib/python3.7/dist-packages/sklearn/linear_model/_logistic.py:940: ConvergenceWarning: lbfgs failed to converge (status=1):\n",
            "STOP: TOTAL NO. of ITERATIONS REACHED LIMIT.\n",
            "\n",
            "Increase the number of iterations (max_iter) or scale the data as shown in:\n",
            "    https://scikit-learn.org/stable/modules/preprocessing.html\n",
            "Please also refer to the documentation for alternative solver options:\n",
            "    https://scikit-learn.org/stable/modules/linear_model.html#logistic-regression\n",
            "  extra_warning_msg=_LOGISTIC_SOLVER_CONVERGENCE_MSG)\n"
          ],
          "name": "stderr"
        },
        {
          "output_type": "stream",
          "text": [
            "Accuracy of Logistic Regression Classifier on test set: 0.7008\n",
            "Accuracy of Decision Tree Classifier on test set: 0.5861\n",
            "Accuracy of SVM Classifier on test set: 0.5984\n",
            "Accuracy of Random Forest Classifier on test set: 0.6762\n"
          ],
          "name": "stdout"
        }
      ]
    },
    {
      "cell_type": "code",
      "metadata": {
        "colab": {
          "base_uri": "https://localhost:8080/"
        },
        "id": "khPfsJRg1-0c",
        "outputId": "98d87cb4-696a-4785-8940-8ebf7e0d5be6"
      },
      "source": [
        "from sklearn.model_selection import KFold\n",
        "from sklearn.model_selection import cross_val_score\n",
        "from numpy import mean\n",
        "\n",
        "# prepare the cross-validation procedure\n",
        "cv = KFold(n_splits=8, random_state=1, shuffle=True)\n",
        "\n",
        "# Logistic Regression\n",
        "logreg = LogisticRegression()\n",
        "scores = cross_val_score(logreg, X, target, scoring='accuracy', cv=cv, n_jobs=-1)\n",
        "print('\\nAccuracy of Logistic Regression Classifier on test set: {:.4f}'.format(mean(scores)))\n",
        "print('Scores:', scores)\n",
        "\n",
        "#Decision Tree Classifier\n",
        "dtree=DecisionTreeClassifier()\n",
        "scores = cross_val_score(dtree, X, target, scoring='accuracy', cv=cv, n_jobs=-1)\n",
        "print('\\nAccuracy of Decision Tree Classifier on test set: {:.4f}'.format(mean(scores)))\n",
        "print('Scores:', scores)\n",
        "\n",
        "#SVM\n",
        "svm=SVC()\n",
        "scores = cross_val_score(svm, X, target, scoring='accuracy', cv=cv, n_jobs=-1)\n",
        "print('\\nAccuracy of SVM Classifier on test set: {:.4f}'.format(mean(scores)))\n",
        "print('Scores:', scores)\n",
        "\n",
        "#Random Forest Classifier\n",
        "randomForest= RandomForestClassifier(n_estimators=100)\n",
        "scores = cross_val_score(randomForest, X, target, scoring='accuracy', cv=cv, n_jobs=-1)\n",
        "print('\\nAccuracy of Random Forest Classifier on test set: {:.4f}'.format(mean(scores)))\n",
        "print('Scores:', scores)"
      ],
      "execution_count": null,
      "outputs": [
        {
          "output_type": "stream",
          "text": [
            "\n",
            "Accuracy of Logistic Regression Classifier on test set: 0.6761\n",
            "Scores: [0.70588235 0.61764706 0.70588235 0.68627451 0.68316832 0.6039604\n",
            " 0.68316832 0.72277228]\n",
            "\n",
            "Accuracy of Decision Tree Classifier on test set: 0.5691\n",
            "Scores: [0.61764706 0.48039216 0.54901961 0.50980392 0.6039604  0.6039604\n",
            " 0.54455446 0.64356436]\n",
            "\n",
            "Accuracy of SVM Classifier on test set: 0.5480\n",
            "Scores: [0.49019608 0.5        0.64705882 0.58823529 0.57425743 0.4950495\n",
            " 0.5049505  0.58415842]\n",
            "\n",
            "Accuracy of Random Forest Classifier on test set: 0.6441\n",
            "Scores: [0.62745098 0.67647059 0.68627451 0.60784314 0.64356436 0.66336634\n",
            " 0.57425743 0.67326733]\n"
          ],
          "name": "stdout"
        }
      ]
    },
    {
      "cell_type": "markdown",
      "metadata": {
        "id": "l293BYJY5L9e"
      },
      "source": [
        "#### Extra "
      ]
    },
    {
      "cell_type": "markdown",
      "metadata": {
        "id": "hLGWdLTm0y0i"
      },
      "source": [
        "**Overfitting:**\n",
        "\n",
        "Index(['team1', 'Pplay T1', 'pplay twick1', 'team2', 'Pplay T2',\n",
        "       'pplay twick2', 'dl_applied', 'winner', 'win_by_runs', 'win_by_wickets',\n",
        "       'venue', 'Avg 1st Innings Score', 'Avg 2nd Innings Score', 'Pitch Type',\n",
        "       'team1_win', 'team1_toss_win', 'team1_bat', 'is_tied'],\n",
        "      dtype='object')\n",
        "\n",
        "\n",
        "Accuracy of Logistic Regression Classifier on test set: 0.9632\n",
        "\n",
        "Accuracy of Decision Tree Classifier on test set: 0.9509\n",
        "\n",
        "Accuracy of SVM Classifier on test set: 0.8712\n",
        "\n",
        "Accuracy of Random Forest Classifier on test set: 0.9571\n",
        "\n"
      ]
    },
    {
      "cell_type": "markdown",
      "metadata": {
        "id": "WzqiXwFc345O"
      },
      "source": [
        "**Using K-fold:** K=5\n",
        "\n",
        "Accuracy of Logistic Regression Classifier on test set: 0.9359\n",
        "\n",
        "Accuracy of Decision Tree Classifier on test set: 0.9335\n",
        "\n",
        "Accuracy of SVM Classifier on test set: 0.8546\n",
        "\n",
        "Accuracy of Random Forest Classifier on test set: 0.9507\n",
        "\n",
        "**Using K-fold:** K=6\n",
        "\n",
        "Accuracy of Logistic Regression Classifier on test set: 0.9396\n",
        "\n",
        "Accuracy of Decision Tree Classifier on test set: 0.9397\n",
        "\n",
        "Accuracy of SVM Classifier on test set: 0.8547\n",
        "\n",
        "Accuracy of Random Forest Classifier on test set: 0.9507\n",
        "\n",
        "**Using K-fold:** K=8\n",
        "\n",
        "Accuracy of Logistic Regression Classifier on test set: 0.9397\n",
        "\n",
        "Accuracy of Decision Tree Classifier on test set: 0.9299\n",
        "\n",
        "Accuracy of SVM Classifier on test set: 0.8559\n",
        "\n",
        "Accuracy of Random Forest Classifier on test set: 0.9557\n",
        "\n",
        "**Using K-fold:** K=9\n",
        "\n",
        "Accuracy of Logistic Regression Classifier on test set: 0.9408\n",
        "\n",
        "Accuracy of Decision Tree Classifier on test set: 0.9421\n",
        "\n",
        "Accuracy of SVM Classifier on test set: 0.8572\n",
        "\n",
        "Accuracy of Random Forest Classifier on test set: 0.9557\n",
        "\n",
        "\n",
        "**Using K-fold:** K=10\n",
        "\n",
        "Accuracy of Logistic Regression Classifier on test set: 0.9396\n",
        "\n",
        "Accuracy of Decision Tree Classifier on test set: 0.9298\n",
        "\n",
        "Accuracy of SVM Classifier on test set: 0.8584\n",
        "\n",
        "Accuracy of Random Forest Classifier on test set: 0.9544\n"
      ]
    },
    {
      "cell_type": "code",
      "metadata": {
        "id": "CA9WQi28Ra8O"
      },
      "source": [
        "matches=pd.read_csv(\"finalest_ipl.csv\")\n",
        "\n",
        "dict = {\"Punjab Cricket Association Stadium, Mohali\":[\"KXIP\"], \"MA Chidambaram Stadium, Chepauk\":[\"CSK\"], \"Rajiv Gandhi International Stadium, Uppal\": [\"SRH\",\"DC\"]\n",
        "        , \"Feroz Shah Kotla\":[\"DD\",\"DC\"], \"M Chinnaswamy Stadium\":[\"RCB\"], \"Wankhede Stadium\":[\"MI\"], \"Dr DY Patil Sports Academy\":[\"MI\",\"DC\",\"PWI\"]\n",
        "        , \"Eden Gardens\":[\"KKR\"], \"Sawai Mansingh Stadium\":[\"RR\"], \"Newlands\":[\"None\"], \"St George's Park\":[\"None\"], \"De Beers Diamond Oval\":[\"None\"]\n",
        "        , \"Buffalo Park\":[\"None\"], \"SuperSport Park\":[\"None\"], \"Kingsmead\":[\"None\"], \"New Wanderers Stadium\":[\"None\"], \"Brabourne Stadium\":[\"None\"]\n",
        "        , \"Himachal Pradesh Cricket Association Stadium\":[\"KXIP\"], \"Barabati Stadium\": [\"DC\",\"KXIP\",\"KKR\"], \"Sardar Patel Stadium, Motera\": [\"RR\"]\n",
        "        , \"Vidarbha Cricket Association Stadium, Jamtha\":[\"None\"], \"Dr. Y.S. Rajasekhara Reddy ACA-VDCA Cricket Stadium\":[\"SRH\"]\n",
        "        , \"Subrata Roy Sahara Stadium\":[\"None\"], \"JSCA International Stadium Complex\":[\"KKR\",\"CSK\"], \"Shaheed Veer Narayan Singh International Stadium\":[\"None\"]\n",
        "        , \"Sheikh Zayed Stadium\":[\"None\"], \"Dubai International Cricket Stadium\":[\"None\"], \"Sharjah Cricket Stadium\":[\"None\"]\n",
        "        , \"Maharashtra Cricket Association Stadium\":[\"KXIP\",\"RPS\",\"CSK\"], \"Punjab Cricket Association IS Bindra Stadium, Mohali\":[\"KXIP\"]\n",
        "        , \"Holkar Cricket Stadium\":[\"KXIP\"], \"M. A. Chidambaram Stadium\":[\"CSK\"], \"M. Chinnaswamy Stadium\":[\"RCB\"]\n",
        "        , \"Feroz Shah Kotla Ground\":[\"DD\",\"DC\"], \"ACA-VDCA Stadium\":[\"DC\",\"SRH\",\"MI\",\"RPS\"], \"Rajiv Gandhi Intl. Cricket Stadium\":[\"DC\",\"SRH\"]\n",
        "        , \"IS Bindra Stadium\":[\"KXIP\"]\n",
        "}\n",
        "\n",
        "team1_home_advantage = []\n",
        "\n",
        "for index, row in matches.iterrows():\n",
        "    dict_team_names = dict.get(row['venue'])\n",
        "    \n",
        "    if(row['team1'] in dict_team_names):\n",
        "        if(row['team2'] in dict_team_names):\n",
        "            team1_home_advantage.append(0)\n",
        "        else:\n",
        "            team1_home_advantage.append(1)\n",
        "    elif(row['team2'] in dict_team_names):\n",
        "        team1_home_advantage.append(-1)\n",
        "    else:\n",
        "        team1_home_advantage.append(0)\n",
        "\n",
        "print(len(team1_home_advantage))\n",
        "from csv import writer\n",
        "from csv import reader\n",
        "# Open the input_file in read mode and output_file in write mode\n",
        "with open('finalest_ipl.csv', 'r') as read_obj, \\\n",
        "        open('finalest_ipl1.csv', 'w', newline='') as write_obj:\n",
        "    # Create a csv.reader object from the input file object\n",
        "    csv_reader = reader(read_obj)\n",
        "    # Create a csv.writer object from the output file object\n",
        "    csv_writer = writer(write_obj)\n",
        "    # Read each row of the input csv file as list\n",
        "    i=-1\n",
        "    for row in csv_reader:\n",
        "        # Append the default text in the row / list\n",
        "        if(i>-1):\n",
        "            row.append(team1_home_advantage[i])\n",
        "        \n",
        "        i+=1\n",
        "        # Add the updated row / list to the output file\n",
        "        csv_writer.writerow(row)"
      ],
      "execution_count": null,
      "outputs": []
    },
    {
      "cell_type": "markdown",
      "metadata": {
        "id": "NYCv3L1oZ86b"
      },
      "source": [
        "**Remove:**\n",
        "\n",
        "'id', 'season', 'date', 'player_of_match'\n",
        "\n",
        "**Encode: numbers**\n",
        "\n",
        "'team1', 'team2', 'toss_winner' , 'winner', 'city', 'venue',\n",
        "\n",
        "**Encode: boolean**\n",
        "\n",
        "'Pitch Type'\n",
        "\n",
        "**New field: boolean**\n",
        "\n",
        "'winner' => 'team1_win' : team1 wins the match (1) ? else (0)\n",
        "\n",
        "'toss_winner' => 'team1_toss_win' : team1 wins the toss (1) ? else (0)\n",
        "\n",
        "'toss_decision' => 'team1_bat' : team1 bats first (1) ? else (0)\n",
        " \n",
        "'result' => 'is_tied' : is the matched tied (1) ? or normal (0) ?\n",
        "\n",
        "**New field**\n",
        "\n",
        "teampoint_difference\n",
        "\n",
        "'homeground_advantage': team1 plays on homeground (1) ? team2 plays on homeground (-1) ? no team plays on homeground - overeseas ground (0) ?\n",
        "\n",
        "**Redundant fields:** drop first one\n",
        "\n",
        "*'city', 'venue'*\n",
        "\n",
        "*'toss_winner'*, 'team1_toss_win'\n",
        "\n",
        "'toss_decision', 'team1_bat'\n",
        "  \n",
        "'result', 'is_tied'\n",
        "\n",
        "**No change:**\n",
        "\n",
        "'win_by_runs', 'win_by_wickets', 'Avg 1st Innings Score', 'Avg 2nd Innings Score', 'Pplay T1', 'pplay twick1', 'team2', 'Pplay T2', 'pplay twick2', 'dl_applied'\n"
      ]
    },
    {
      "cell_type": "code",
      "metadata": {
        "id": "JXRvgFvdZMeF"
      },
      "source": [
        "# ***********************  ENCODE   ***********************  \n",
        "# encode teams\n",
        "IPL_teams=list(set(df['team1']).union(set(df['team2'])))\n",
        "count=1  \n",
        "encoding_key={}\n",
        "for team_name in IPL_teams:\n",
        "  encoding_key[team_name]=count\n",
        "  df.replace(team_name, count, inplace=True)\n",
        "  count += 1\n",
        "print(\"Encoding for teams: \", encoding_key)\n",
        "\n",
        "# encode city\n",
        "IPL_city=list(set(df['city']))\n",
        "count=1  \n",
        "encoding_key={}\n",
        "for city in IPL_city:\n",
        "  encoding_key[city]=count\n",
        "  df.replace(city, count, inplace=True)\n",
        "  count += 1\n",
        "print(\"Encoding for city: \", encoding_key)\n",
        "\n",
        "# encode venue\n",
        "IPL_venue=list(set(df['venue']))\n",
        "count=1  \n",
        "encoding_key={}\n",
        "for venue in IPL_venue:\n",
        "  encoding_key[venue]=count\n",
        "  df.replace(venue, count, inplace=True)\n",
        "  count += 1\n",
        "print(\"Encoding for venue: \", encoding_key)\n",
        "\n",
        "\n",
        "# ***********************  ENCODE : BOOLEAN  ***********************  \n",
        "\n",
        "# encode pitch type\n",
        "df.replace(\"Batting & Spinner Friendly\", -2, inplace=True)\n",
        "df.replace(\"Bowling\", -1, inplace=True)\n",
        "df.replace(\"Batting\", 1, inplace=True)\n",
        "df.replace(\"Both\", 2, inplace=True)\n",
        "\n",
        "# ***********************  NEW FIELD : BOOLEAN  ***********************  \n",
        "\n",
        "# 'winner' => 'team1_win' : team1 wins the match (1) ? else (0)\n",
        "# outcome variable team1_win as a probability of team1 winning the match\n",
        "df.loc[df[\"winner\"]==df[\"team1\"],\"team1_win\"]=1\n",
        "df.loc[df[\"winner\"]!=df[\"team1\"],\"team1_win\"]=0\n",
        "\n",
        "# 'toss_winner' => 'team1_toss_win' : team1 wins the toss (1) ? else (0)\n",
        "#outcome variable team1_toss_win as a value of team1 winning the toss\n",
        "df.loc[df[\"toss_winner\"]==df[\"team1\"],\"team1_toss_win\"]=1\n",
        "df.loc[df[\"toss_winner\"]!=df[\"team1\"],\"team1_toss_win\"]=0\n",
        "\n",
        "# 'toss_decision' => 'team1_bat' : team1 bats first (1) ? else (0)\n",
        "#outcome variable team1_bat to depict if team1 bats first\n",
        "df[\"team1_bat\"]=0\n",
        "df.loc[(df[\"team1_toss_win\"]==1) & (df[\"toss_decision\"]==\"bat\"),\"team1_bat\"]=1\n",
        "\n",
        "# 'result' => 'is_tied' : is the matched tied (1) ? or normal (0) ?\n",
        "# encode result\n",
        "df.loc[df[\"result\"]==\"tie\",\"is_tied\"]=1\n",
        "df.loc[df[\"result\"]==\"normal\",\"is_tied\"]=0\n",
        "\n",
        "# ***********************  NEW FIELD : DERIVED  ***********************  \n",
        "\n",
        "df['teampoint_diff']=df['team2_points']-df['team1_points']\n",
        "\n",
        "\"\"\"\n",
        "  #encoding the numeric values\n",
        "  encoder= preprocessing.LabelEncoder()\n",
        "\n",
        "  df[\"city\"]=encoder.fit_transform(df[\"city\"])\n",
        "  df[\"team1\"]=encoder.fit_transform(df[\"team1\"])\n",
        "  df[\"team2\"]=encoder.fit_transform(df[\"team2\"])\n",
        "  df[\"winner\"]=encoder.fit_transform(df[\"winner\"].astype(str))\n",
        "  df[\"toss_winner\"]=encoder.fit_transform(df[\"toss_winner\"])\n",
        "  df[\"venue\"]=encoder.fit_transform(df[\"venue\"])\n",
        "\"\"\""
      ],
      "execution_count": null,
      "outputs": []
    }
  ]
}